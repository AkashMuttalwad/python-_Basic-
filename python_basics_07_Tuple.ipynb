{
  "nbformat": 4,
  "nbformat_minor": 0,
  "metadata": {
    "colab": {
      "name": "python-basics/07_Tuple",
      "provenance": [],
      "authorship_tag": "ABX9TyPauSnjf1KvqyJAdLxN7hyK",
      "include_colab_link": true
    },
    "kernelspec": {
      "name": "python3",
      "display_name": "Python 3"
    },
    "language_info": {
      "name": "python"
    }
  },
  "cells": [
    {
      "cell_type": "markdown",
      "metadata": {
        "id": "view-in-github",
        "colab_type": "text"
      },
      "source": [
        "<a href=\"https://colab.research.google.com/github/AkashMuttalwad/python-_Basic-/blob/main/python_basics_07_Tuple.ipynb\" target=\"_parent\"><img src=\"https://colab.research.google.com/assets/colab-badge.svg\" alt=\"Open In Colab\"/></a>"
      ]
    },
    {
      "cell_type": "markdown",
      "source": [
        "**Tuple**\n",
        "\n",
        "is same as list but immutable considers heterogenious, duplicate elements, +ve as well as -ve indexes,seperated by comma, enclosed parenthesis."
      ],
      "metadata": {
        "id": "qROQ2nT0-v94"
      }
    },
    {
      "cell_type": "code",
      "source": [
        "t=10,'arvind',30,'more','$$'   \n",
        "print(t)\n",
        "print(type(t))\n",
        "\n",
        "#parenthesis are optional"
      ],
      "metadata": {
        "colab": {
          "base_uri": "https://localhost:8080/"
        },
        "id": "ALjjF3fK-5Av",
        "outputId": "a53079c7-98ab-4877-8520-9c1706eceac6"
      },
      "execution_count": 1,
      "outputs": [
        {
          "output_type": "stream",
          "name": "stdout",
          "text": [
            "(10, 'arvind', 30, 'more', '$$')\n",
            "<class 'tuple'>\n"
          ]
        }
      ]
    },
    {
      "cell_type": "markdown",
      "source": [
        "**Accessing Elements of Tuple:**\n",
        "\n",
        "We can access either by index or by slice operator"
      ],
      "metadata": {
        "id": "w9i0VW4e_Jeh"
      }
    },
    {
      "cell_type": "code",
      "source": [
        "t=('ram','shyam','Sandeep','komal','Akash','satish','shri','arvind')\n",
        "print(t[5])\n",
        "print(t[2])\n",
        "print(t[0])"
      ],
      "metadata": {
        "colab": {
          "base_uri": "https://localhost:8080/"
        },
        "id": "W76JAVbB-5Dm",
        "outputId": "894daabb-0e53-4ed6-f014-abb8d8f10440"
      },
      "execution_count": 3,
      "outputs": [
        {
          "output_type": "stream",
          "name": "stdout",
          "text": [
            "satish\n",
            "Sandeep\n",
            "ram\n"
          ]
        }
      ]
    },
    {
      "cell_type": "code",
      "source": [
        "print(t [::] )"
      ],
      "metadata": {
        "colab": {
          "base_uri": "https://localhost:8080/"
        },
        "id": "Wm_drnwY-5Gg",
        "outputId": "8197b44a-cbac-48d4-ddb0-34bbcf565dd5"
      },
      "execution_count": 9,
      "outputs": [
        {
          "output_type": "stream",
          "name": "stdout",
          "text": [
            "('ram', 'shyam', 'Sandeep', 'komal', 'Akash', 'satish', 'shri', 'arvind')\n"
          ]
        }
      ]
    },
    {
      "cell_type": "code",
      "source": [
        "print (t[:-5])"
      ],
      "metadata": {
        "colab": {
          "base_uri": "https://localhost:8080/"
        },
        "id": "tysly0QK-5Iz",
        "outputId": "f144ee13-2a06-4b3b-c089-2f8b108f7006"
      },
      "execution_count": 10,
      "outputs": [
        {
          "output_type": "stream",
          "name": "stdout",
          "text": [
            "('ram', 'shyam', 'Sandeep')\n"
          ]
        }
      ]
    },
    {
      "cell_type": "markdown",
      "source": [
        "**tuple objects are immutable**"
      ],
      "metadata": {
        "id": "dlNU5GSmAIjR"
      }
    },
    {
      "cell_type": "code",
      "source": [
        "a=(1,2,3)\n",
        "a[2]=1\n"
      ],
      "metadata": {
        "colab": {
          "base_uri": "https://localhost:8080/",
          "height": 183
        },
        "id": "55WCsk_x-5NY",
        "outputId": "fde5315c-1d55-4aca-9b0d-58ff089f6587"
      },
      "execution_count": 12,
      "outputs": [
        {
          "output_type": "error",
          "ename": "TypeError",
          "evalue": "ignored",
          "traceback": [
            "\u001b[0;31m---------------------------------------------------------------------------\u001b[0m",
            "\u001b[0;31mTypeError\u001b[0m                                 Traceback (most recent call last)",
            "\u001b[0;32m<ipython-input-12-349973e71892>\u001b[0m in \u001b[0;36m<module>\u001b[0;34m()\u001b[0m\n\u001b[1;32m      1\u001b[0m \u001b[0ma\u001b[0m\u001b[0;34m=\u001b[0m\u001b[0;34m(\u001b[0m\u001b[0;36m1\u001b[0m\u001b[0;34m,\u001b[0m\u001b[0;36m2\u001b[0m\u001b[0;34m,\u001b[0m\u001b[0;36m3\u001b[0m\u001b[0;34m)\u001b[0m\u001b[0;34m\u001b[0m\u001b[0;34m\u001b[0m\u001b[0m\n\u001b[0;32m----> 2\u001b[0;31m \u001b[0ma\u001b[0m\u001b[0;34m[\u001b[0m\u001b[0;36m2\u001b[0m\u001b[0;34m]\u001b[0m\u001b[0;34m=\u001b[0m\u001b[0;36m1\u001b[0m\u001b[0;34m\u001b[0m\u001b[0;34m\u001b[0m\u001b[0m\n\u001b[0m",
            "\u001b[0;31mTypeError\u001b[0m: 'tuple' object does not support item assignment"
          ]
        }
      ]
    },
    {
      "cell_type": "markdown",
      "source": [
        "**Mathematical Operators for Tuple:**"
      ],
      "metadata": {
        "id": "EIyMkz9AAkOv"
      }
    },
    {
      "cell_type": "code",
      "source": [
        "a1=('a','b','c')\n",
        "a2=(50,20,160)\n",
        "a3=a1+a2\n",
        "print(a3)"
      ],
      "metadata": {
        "colab": {
          "base_uri": "https://localhost:8080/"
        },
        "id": "imXlS9_D-5PL",
        "outputId": "55952c0f-e32e-4bbf-b3e8-ac6135abd25b"
      },
      "execution_count": 14,
      "outputs": [
        {
          "output_type": "stream",
          "name": "stdout",
          "text": [
            "('a', 'b', 'c', 50, 20, 160)\n"
          ]
        }
      ]
    },
    {
      "cell_type": "code",
      "source": [
        "a1=(1,2,3,4,5)\n",
        "a2=a1*3\n",
        "print(a2)\n",
        "(1, 2, 3, 1, 2, 3, 1, 2, 3)"
      ],
      "metadata": {
        "colab": {
          "base_uri": "https://localhost:8080/"
        },
        "id": "7sNMZiC1-5RH",
        "outputId": "52570ddc-4398-479a-9900-9c86db20e1f7"
      },
      "execution_count": 15,
      "outputs": [
        {
          "output_type": "stream",
          "name": "stdout",
          "text": [
            "(1, 2, 3, 4, 5, 1, 2, 3, 4, 5, 1, 2, 3, 4, 5)\n"
          ]
        },
        {
          "output_type": "execute_result",
          "data": {
            "text/plain": [
              "(1, 2, 3, 1, 2, 3, 1, 2, 3)"
            ]
          },
          "metadata": {},
          "execution_count": 15
        }
      ]
    },
    {
      "cell_type": "markdown",
      "source": [
        "**Important Functions of Tuple:**"
      ],
      "metadata": {
        "id": "b65n1I4nBLow"
      }
    },
    {
      "cell_type": "code",
      "source": [
        "x= (1,2,3,4,5,6,9,10)  \n",
        "#measures lenght\n",
        "len(x)"
      ],
      "metadata": {
        "colab": {
          "base_uri": "https://localhost:8080/"
        },
        "id": "r2BsSsOG-5Ty",
        "outputId": "9568ef02-9656-4ad1-8494-532b8205faa5"
      },
      "execution_count": 16,
      "outputs": [
        {
          "output_type": "execute_result",
          "data": {
            "text/plain": [
              "8"
            ]
          },
          "metadata": {},
          "execution_count": 16
        }
      ]
    },
    {
      "cell_type": "code",
      "source": [
        "x= (1,2,2,2,3,3,3,3,4,4,1212,1212,11,11,12,13,12,15,14)\n",
        "x.count(11)\n",
        "#count "
      ],
      "metadata": {
        "colab": {
          "base_uri": "https://localhost:8080/"
        },
        "id": "RfjcYtU3-5ZA",
        "outputId": "382a5d85-1f62-4b52-c21b-74ffc4dcfe43"
      },
      "execution_count": 24,
      "outputs": [
        {
          "output_type": "execute_result",
          "data": {
            "text/plain": [
              "2"
            ]
          },
          "metadata": {},
          "execution_count": 24
        }
      ]
    },
    {
      "cell_type": "code",
      "source": [
        "\n",
        "t=(10,20,10)\n",
        "t.index(20)\n",
        "# index(): Returns index of first occurrence of the given element."
      ],
      "metadata": {
        "colab": {
          "base_uri": "https://localhost:8080/"
        },
        "id": "OxODfPc3-5bK",
        "outputId": "d6ad2980-78f7-440d-f81c-6d9ebd00fcca"
      },
      "execution_count": 25,
      "outputs": [
        {
          "output_type": "execute_result",
          "data": {
            "text/plain": [
              "1"
            ]
          },
          "metadata": {},
          "execution_count": 25
        }
      ]
    },
    {
      "cell_type": "code",
      "source": [
        "t=(1,3,3,2,4,5,6)\n",
        "t1 = sorted(t)\n",
        "print(t1)"
      ],
      "metadata": {
        "colab": {
          "base_uri": "https://localhost:8080/"
        },
        "id": "S0hUwILg-5di",
        "outputId": "108bb858-e758-43b8-a6df-487cb0102669"
      },
      "execution_count": 26,
      "outputs": [
        {
          "output_type": "stream",
          "name": "stdout",
          "text": [
            "[1, 2, 3, 3, 4, 5, 6]\n"
          ]
        }
      ]
    },
    {
      "cell_type": "code",
      "source": [
        "t2 = sorted(t, reverse = True)\n",
        "print(t2)"
      ],
      "metadata": {
        "colab": {
          "base_uri": "https://localhost:8080/"
        },
        "id": "zWMffM_w-5fs",
        "outputId": "d4bb2d46-4c94-467d-c040-898a1f7cc390"
      },
      "execution_count": 27,
      "outputs": [
        {
          "output_type": "stream",
          "name": "stdout",
          "text": [
            "[6, 5, 4, 3, 3, 2, 1]\n"
          ]
        }
      ]
    },
    {
      "cell_type": "code",
      "source": [
        "t=(11,22,33,44,55,66,77)\n",
        "print(min(t))\n",
        "print(max(t))"
      ],
      "metadata": {
        "colab": {
          "base_uri": "https://localhost:8080/"
        },
        "id": "7rHv0S5--5h3",
        "outputId": "bcfa3a5e-788e-4a85-a627-9b3dcc4838dd"
      },
      "execution_count": 28,
      "outputs": [
        {
          "output_type": "stream",
          "name": "stdout",
          "text": [
            "11\n",
            "77\n"
          ]
        }
      ]
    },
    {
      "cell_type": "code",
      "source": [
        ""
      ],
      "metadata": {
        "id": "byPNJ1AX-5kJ"
      },
      "execution_count": null,
      "outputs": []
    },
    {
      "cell_type": "code",
      "source": [
        ""
      ],
      "metadata": {
        "id": "BgY-lbnW-5nL"
      },
      "execution_count": null,
      "outputs": []
    }
  ]
}