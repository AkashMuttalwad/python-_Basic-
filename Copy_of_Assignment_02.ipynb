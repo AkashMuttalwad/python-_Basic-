{
  "nbformat": 4,
  "nbformat_minor": 0,
  "metadata": {
    "colab": {
      "name": "Copy of Assignment 02",
      "provenance": [],
      "authorship_tag": "ABX9TyPVhz0iz/D6xF+Oo4eI+d6A",
      "include_colab_link": true
    },
    "kernelspec": {
      "name": "python3",
      "display_name": "Python 3"
    },
    "language_info": {
      "name": "python"
    }
  },
  "cells": [
    {
      "cell_type": "markdown",
      "metadata": {
        "id": "view-in-github",
        "colab_type": "text"
      },
      "source": [
        "<a href=\"https://colab.research.google.com/github/AkashMuttalwad/python-_Basic-/blob/main/Copy_of_Assignment_02.ipynb\" target=\"_parent\"><img src=\"https://colab.research.google.com/assets/colab-badge.svg\" alt=\"Open In Colab\"/></a>"
      ]
    },
    {
      "cell_type": "markdown",
      "source": [
        "# **What’s The Difference Between The Python append() and extend() Methods?**\n",
        "- in append() method adds an element to a list\n",
        "- in extend() method concatenates the first list with another list (or another iterable).\n",
        "\n",
        "There is a simple difference between append and extand  in python list,\n",
        "append method can be use for adding new element in the list only but by using insert we can add as well as can modify already occupied position.\n"
      ],
      "metadata": {
        "id": "qKw_mD5sTYeU"
      }
    },
    {
      "cell_type": "code",
      "source": [
        "#append exmple \n",
        "list = [1,2,3,4,5]\n",
        "\n",
        "list.append(6)\n",
        "\n",
        "print(list) # [1,2,3,4,5,6] # append 6 in list "
      ],
      "metadata": {
        "colab": {
          "base_uri": "https://localhost:8080/"
        },
        "id": "2aqGFUD0T16U",
        "outputId": "5d13717e-bfdd-4f05-a588-0f248c010abc"
      },
      "execution_count": null,
      "outputs": [
        {
          "output_type": "stream",
          "name": "stdout",
          "text": [
            "[1, 2, 3, 4, 5, 6]\n"
          ]
        }
      ]
    },
    {
      "cell_type": "code",
      "source": [
        "#Extend exmple\n",
        "x = [1, 2, 3]\n",
        "x.extend([4, 5])\n",
        "print (x)"
      ],
      "metadata": {
        "colab": {
          "base_uri": "https://localhost:8080/"
        },
        "id": "zpwQMQLvT19B",
        "outputId": "2b85febb-a81c-4648-b966-041b4c69a07f"
      },
      "execution_count": null,
      "outputs": [
        {
          "output_type": "stream",
          "name": "stdout",
          "text": [
            "[1, 2, 3, 4, 5]\n"
          ]
        }
      ]
    },
    {
      "cell_type": "markdown",
      "source": [
        "we can take in append function only one value For append but in extand function Extend can add multipale values in list "
      ],
      "metadata": {
        "id": "iZDa2-UEVDHf"
      }
    },
    {
      "cell_type": "markdown",
      "source": [
        "# **Write a Python program to append a list to the second list**?"
      ],
      "metadata": {
        "id": "jKDXHracVfzA"
      }
    },
    {
      "cell_type": "code",
      "source": [
        "\n",
        "\n",
        "a = [10,20,30,40,50,\"akash\",\"satish\",100]\n",
        "b = [20,40,60,80,100]  #this list cancider as one elements\n",
        "a.append(b)\n",
        "print(b)\n",
        "print(a)\n"
      ],
      "metadata": {
        "colab": {
          "base_uri": "https://localhost:8080/"
        },
        "id": "oKOYQPsuVa3i",
        "outputId": "0d5c751a-4144-434e-9b6d-2023b065ede3"
      },
      "execution_count": 7,
      "outputs": [
        {
          "output_type": "stream",
          "name": "stdout",
          "text": [
            "[20, 40, 60, 80, 100]\n",
            "[10, 20, 30, 40, 50, 'akash', 'satish', 100, [20, 40, 60, 80, 100]]\n"
          ]
        }
      ]
    },
    {
      "cell_type": "markdown",
      "source": [
        "# **Write a Python program to find the third-largest number in a list ?**"
      ],
      "metadata": {
        "id": "uh95_smRV_dk"
      }
    },
    {
      "cell_type": "code",
      "source": [
        "#using sort () sort function\n",
        "\n",
        "x = [20,30,40,60,90,120,150,170,200]\n",
        "x.sort()\n",
        "print(x)\n",
        "print(x[3]) # 3rd largest number in list"
      ],
      "metadata": {
        "id": "6_Mkdjx3T2Ce",
        "colab": {
          "base_uri": "https://localhost:8080/"
        },
        "outputId": "159f7ce7-2c6c-438e-d378-f7d564d0394d"
      },
      "execution_count": 10,
      "outputs": [
        {
          "output_type": "stream",
          "name": "stdout",
          "text": [
            "[20, 30, 40, 60, 90, 120, 150, 170, 200]\n",
            "60\n"
          ]
        }
      ]
    },
    {
      "cell_type": "markdown",
      "source": [
        "# **Write a Python program to get the frequency of the elements in a list.?**"
      ],
      "metadata": {
        "id": "Ml_lsH4VXfml"
      }
    },
    {
      "cell_type": "code",
      "source": [
        "#count(): It give us to the frequancy of the elements in list .\n",
        "n=[1,2,50,40,10,1,50,2,50,20,\"ram\",\"akash\",\"ram\", \"akash\"]\n",
        "print(n.count(1))\n",
        "print(n.count(50))\n",
        "print(n.count(\"ram\"))"
      ],
      "metadata": {
        "colab": {
          "base_uri": "https://localhost:8080/"
        },
        "id": "JqSEtDy7T2Mi",
        "outputId": "7e2ed56d-67f4-4d9c-9dc4-3a5e33c78cd3"
      },
      "execution_count": null,
      "outputs": [
        {
          "output_type": "stream",
          "name": "stdout",
          "text": [
            "2\n",
            "3\n",
            "2\n"
          ]
        }
      ]
    },
    {
      "cell_type": "markdown",
      "source": [
        "# **Write a Python program to check whether a list contains a sublist  ?**\n",
        "\n",
        "-  we can take one list inside another list. Such type of lists are called nested"
      ],
      "metadata": {
        "id": "3cZAebYyYk5e"
      }
    },
    {
      "cell_type": "code",
      "source": [
        "x = [10,20,30,40,40,50,80,100]   \n",
        "x1 = [20,60,90,120,50]  #sublist\n",
        "x2=x1\n",
        "for i in x1:\n",
        "  if True:\n",
        "    print(\"the sublist element\",i ,\"is in  list\")\n",
        "  else:\n",
        "    print(\"the sublist element\",i ,\"is not in  list\")"
      ],
      "metadata": {
        "colab": {
          "base_uri": "https://localhost:8080/"
        },
        "id": "paSLghAPT2PU",
        "outputId": "8993f782-cfb4-4a7f-9792-82c41466c9fc"
      },
      "execution_count": 13,
      "outputs": [
        {
          "output_type": "stream",
          "name": "stdout",
          "text": [
            "the sublist element 20 is in  list\n",
            "the sublist element 60 is in  list\n",
            "the sublist element 90 is in  list\n",
            "the sublist element 120 is in  list\n",
            "the sublist element 50 is in  list\n"
          ]
        }
      ]
    },
    {
      "cell_type": "markdown",
      "source": [
        "***Write a Python program to generate all sublists of a list ?***"
      ],
      "metadata": {
        "id": "MTEjLZMwawd0"
      }
    },
    {
      "cell_type": "code",
      "source": [
        "nmark=[10,20,[30,40]]\n",
        "print(n)\n",
        "print(n[0])\n",
        "print(n[2])\n",
        "print(n[2][0])\n",
        "print(n[2][1])"
      ],
      "metadata": {
        "colab": {
          "base_uri": "https://localhost:8080/"
        },
        "id": "ktGaVYxlZpmm",
        "outputId": "21c41f44-a1bf-468b-e77a-8ea5151c743c"
      },
      "execution_count": null,
      "outputs": [
        {
          "output_type": "stream",
          "name": "stdout",
          "text": [
            "[10, 20, [30, 40]]\n",
            "10\n",
            "[30, 40]\n",
            "30\n",
            "40\n"
          ]
        }
      ]
    },
    {
      "cell_type": "markdown",
      "source": [
        "# **Write a Python program to find common items from two lists ?**\n",
        "\n",
        "**- we can find common items with the help of #list comprehension function **"
      ],
      "metadata": {
        "id": "dNqflvxAa5kC"
      }
    },
    {
      "cell_type": "code",
      "source": [
        "num1=[10,20,30,40]\n",
        "num2=[30,40,50,60]\n",
        "num3=[i for i in num1 if i not in num2]\n",
        "print(num3)"
      ],
      "metadata": {
        "colab": {
          "base_uri": "https://localhost:8080/"
        },
        "id": "M13T4_rjZprF",
        "outputId": "f802e044-45fe-4194-c50c-dd2bbe36b651"
      },
      "execution_count": null,
      "outputs": [
        {
          "output_type": "stream",
          "name": "stdout",
          "text": [
            "[10, 20]\n"
          ]
        }
      ]
    },
    {
      "cell_type": "code",
      "source": [
        "set1 =[10,\"akash\",12,50,102,\"satish\",\"Akash\",102,50,12,102,\"satish\"]\n",
        "set2= [\"akash\",12,50,102,500,40,50,102,\"satish\"]\n",
        "set3=[i for i in set1 if i not in set2]\n",
        "print(set3)"
      ],
      "metadata": {
        "colab": {
          "base_uri": "https://localhost:8080/"
        },
        "id": "iIxvBkm2ZptN",
        "outputId": "cb523d9f-fbc4-4c84-a7e1-4b30d7200a1b"
      },
      "execution_count": null,
      "outputs": [
        {
          "output_type": "stream",
          "name": "stdout",
          "text": [
            "[10, 'Akash']\n"
          ]
        }
      ]
    },
    {
      "cell_type": "markdown",
      "source": [
        "# **How to flatten a list in python?**"
      ],
      "metadata": {
        "id": "hFJMvRfwJuxN"
      }
    },
    {
      "cell_type": "code",
      "source": [
        "list1 = [[10,20],[30,40],[50,60]]\n",
        "\n",
        "list2 = sum(list1,[])    # using sum operator we can flatten a list \n",
        "list2\n"
      ],
      "metadata": {
        "id": "EusK1HeiZpva",
        "colab": {
          "base_uri": "https://localhost:8080/"
        },
        "outputId": "b893ac92-c0dc-4e69-bafa-c11434d8c8d2"
      },
      "execution_count": 18,
      "outputs": [
        {
          "output_type": "execute_result",
          "data": {
            "text/plain": [
              "[10, 20, 30, 40, 50, 60]"
            ]
          },
          "metadata": {},
          "execution_count": 18
        }
      ]
    },
    {
      "cell_type": "markdown",
      "source": [
        "# **How to sort a list in ascending and descending order without using the sort function?**"
      ],
      "metadata": {
        "id": "-LKlv_d1KPnk"
      }
    },
    {
      "cell_type": "code",
      "source": [
        "n=[20,5,15,10,0]\n",
        "n.sort() # short method\n",
        "print(n)"
      ],
      "metadata": {
        "colab": {
          "base_uri": "https://localhost:8080/"
        },
        "id": "brYbWCQgZp5B",
        "outputId": "51855779-cc61-4396-f9dd-e1f3ce79152a"
      },
      "execution_count": null,
      "outputs": [
        {
          "output_type": "stream",
          "name": "stdout",
          "text": [
            "[0, 5, 10, 15, 20]\n"
          ]
        }
      ]
    },
    {
      "cell_type": "markdown",
      "source": [
        "# **How to sort a tuple?**"
      ],
      "metadata": {
        "id": "82rB1MIZlnGX"
      }
    },
    {
      "cell_type": "code",
      "source": [
        "aTuple = (2, 5, 8, 1, 9, 3, 7)\n",
        "result = sorted(aTuple)\n",
        "result = tuple(result)\n",
        "print('Sorted Tuple :', result)"
      ],
      "metadata": {
        "colab": {
          "base_uri": "https://localhost:8080/"
        },
        "id": "Mu8sDoJPZqEg",
        "outputId": "77d4c164-ed7a-411e-c643-b0153191588b"
      },
      "execution_count": null,
      "outputs": [
        {
          "output_type": "stream",
          "name": "stdout",
          "text": [
            "Sorted Tuple : (1, 2, 3, 5, 7, 8, 9)\n"
          ]
        }
      ]
    },
    {
      "cell_type": "markdown",
      "source": [
        "# **Write a Python program to convert a list of multiple integers into a single integer ?**"
      ],
      "metadata": {
        "id": "U2FeVPKHLtcJ"
      }
    },
    {
      "cell_type": "code",
      "source": [
        "# creating a list\n",
        "lst = [12, 15, 17]\n",
        "  \n",
        "# iterating each element\n",
        "for i in lst:\n",
        "    print(i, end=\"\")"
      ],
      "metadata": {
        "colab": {
          "base_uri": "https://localhost:8080/"
        },
        "id": "nb4STKLLLMab",
        "outputId": "c5957700-a650-4db6-a8ae-5d4ab91ec06a"
      },
      "execution_count": 20,
      "outputs": [
        {
          "output_type": "stream",
          "name": "stdout",
          "text": [
            "121517"
          ]
        }
      ]
    },
    {
      "cell_type": "markdown",
      "source": [
        "# **Difference between del and clear ?**\n",
        "\n",
        "In Python dictionary, del keyword is used to delete a particular element. The clear( ) function is used to delete all the elements in a dictionary."
      ],
      "metadata": {
        "id": "zcJmqKpaMP5x"
      }
    },
    {
      "cell_type": "code",
      "source": [
        "n=[10,20,30,40]\n",
        "print(n)\n",
        "n.clear()# clear to delete all elements \n",
        "print(n)"
      ],
      "metadata": {
        "colab": {
          "base_uri": "https://localhost:8080/"
        },
        "id": "0PRtMjY2LMdQ",
        "outputId": "2823758a-473d-4ef2-abc1-0a02c23c6725"
      },
      "execution_count": 27,
      "outputs": [
        {
          "output_type": "stream",
          "name": "stdout",
          "text": [
            "[10, 20, 30, 40]\n",
            "[]\n"
          ]
        }
      ]
    },
    {
      "cell_type": "code",
      "source": [
        "x = [\"apple\", \"banana\", \"cherry\"]\n",
        "\n",
        "del x[1]#del function particular elements delete\n",
        "print(x)"
      ],
      "metadata": {
        "colab": {
          "base_uri": "https://localhost:8080/"
        },
        "id": "t_leZbbBLMf_",
        "outputId": "b1de06b0-6cdd-4216-8d90-7f09dee46e3f"
      },
      "execution_count": 28,
      "outputs": [
        {
          "output_type": "stream",
          "name": "stdout",
          "text": [
            "['apple', 'cherry']\n"
          ]
        }
      ]
    },
    {
      "cell_type": "markdown",
      "source": [
        "# *Difference between remove and pop?*\n",
        "**The only difference between the two is that- pop return deleted the value from the list and del does not return anything. Pop is the only way that returns the object. Remove is the only one that searches objects (not index).**\n",
        "\n",
        "# Remove\n",
        "1 - we can use this function for remove special elements from list \n",
        "\n",
        "2- it can't return any value \n",
        "\n",
        "3- if special elements not avialable then we get value error \n",
        "\n",
        "# **POP**\n",
        "\n",
        "1- we can use pop function for to use remove last elements from the list \n",
        "\n",
        "2- it wil be return removed value \n",
        "\n",
        "3- if list is Emepty then it gives error "
      ],
      "metadata": {
        "id": "pu5llmsBORuS"
      }
    },
    {
      "cell_type": "code",
      "source": [
        "#remove \n",
        "n=[10,20,10,30]\n",
        "n.remove(10,)# remove function \n",
        "print(n)"
      ],
      "metadata": {
        "colab": {
          "base_uri": "https://localhost:8080/"
        },
        "id": "tNyNvy9lLMjF",
        "outputId": "42d6c242-2d47-4ff3-9c35-2e729d7d43d0"
      },
      "execution_count": 23,
      "outputs": [
        {
          "output_type": "stream",
          "name": "stdout",
          "text": [
            "[20, 10, 30]\n"
          ]
        }
      ]
    },
    {
      "cell_type": "code",
      "source": [
        "#pop function\n",
        "n=[10,20,30,40]\n",
        "print(n.pop())# pop function remove last element \n",
        "print(n.pop())# pop function remove last element \n",
        "print(n)"
      ],
      "metadata": {
        "colab": {
          "base_uri": "https://localhost:8080/"
        },
        "id": "p9D6m9mDLMnC",
        "outputId": "af8af1f5-a876-4030-eb0f-85a2e4434311"
      },
      "execution_count": 24,
      "outputs": [
        {
          "output_type": "stream",
          "name": "stdout",
          "text": [
            "40\n",
            "30\n",
            "[10, 20]\n"
          ]
        }
      ]
    },
    {
      "cell_type": "markdown",
      "source": [
        "# **Difference between indexing and Slicing?**\n",
        "\n",
        "**“Indexing” means referring to an element of an iterable by its position within the iterable. “Slicing” means getting a subset of elements from an iterable based on their indices**\n",
        "\n",
        "indexing: using indexing we can call just indexing item in list or tuple\n",
        "\n",
        "slicing : useing index we can slice list items in range. and also we can decide start , end and steps as well.\n",
        "\n",
        "note : indexing from left side starts from \"0\", and from right side starts from -1\n",
        "\n",
        "if index value not in range of list indexing shows error but in slicing never show error"
      ],
      "metadata": {
        "id": "5qbzYxmGQOgD"
      }
    },
    {
      "cell_type": "code",
      "source": [
        "x = [10,20,30,40,50,\"akash\",100,\"mangesh\"]\n",
        "\n",
        "print(x[5]) # #indexing\n",
        "print(x[6])\n"
      ],
      "metadata": {
        "id": "XccDW5UALMq3",
        "colab": {
          "base_uri": "https://localhost:8080/"
        },
        "outputId": "acaecbf7-d6ca-4e10-bac8-d0df9a89c6e8"
      },
      "execution_count": 33,
      "outputs": [
        {
          "output_type": "stream",
          "name": "stdout",
          "text": [
            "akash\n",
            "100\n"
          ]
        }
      ]
    },
    {
      "cell_type": "code",
      "source": [
        "# slicing  \n",
        "x = [20,30,40,50,60,90,102,150,150,\"akash\",\"amol\",\"shri\"]\n",
        "print(x[:])\n",
        "print(x[1])\n",
        "print(x[1:2])\n",
        "print(x[2:6])"
      ],
      "metadata": {
        "id": "c-wGjMGMLMtr",
        "colab": {
          "base_uri": "https://localhost:8080/"
        },
        "outputId": "f4fd2007-daf8-4eaa-f8f1-96be8ca3f8bd"
      },
      "execution_count": 36,
      "outputs": [
        {
          "output_type": "stream",
          "name": "stdout",
          "text": [
            "[20, 30, 40, 50, 60, 90, 102, 150, 150, 'akash', 'amol', 'shri']\n",
            "30\n",
            "[30]\n",
            "[40, 50, 60, 90]\n"
          ]
        }
      ]
    },
    {
      "cell_type": "markdown",
      "source": [
        "# **Difference between sort and sorted?**\n",
        "\n",
        "- **reverse() actually reverses the elements in the container. reversed() doesn't actually reverse anything, it merely returns an object that can be used to iterate over the container's elements in reverse order. If that's what you need, it's often faster than actually reversing the elements. **"
      ],
      "metadata": {
        "id": "813CPChHgnHf"
      }
    },
    {
      "cell_type": "code",
      "source": [
        "a = [10,20,40,51,55,62]   \n",
        "a.reverse() # all elements reverse\n",
        "print(l)"
      ],
      "metadata": {
        "id": "sUCtN5rkLMwb",
        "colab": {
          "base_uri": "https://localhost:8080/"
        },
        "outputId": "3d493192-041c-42c4-fed5-15348f06d485"
      },
      "execution_count": 38,
      "outputs": [
        {
          "output_type": "stream",
          "name": "stdout",
          "text": [
            "[62, 55, 51, 40, 20, 10]\n"
          ]
        }
      ]
    },
    {
      "cell_type": "code",
      "source": [
        "a = [10,15,47,86,21,45]\n",
        "reversed(a)\n",
        "print(a)"
      ],
      "metadata": {
        "id": "_Vb_lPq8LMyp",
        "colab": {
          "base_uri": "https://localhost:8080/"
        },
        "outputId": "8a2655cf-6473-443c-9277-6ee3543c9b74"
      },
      "execution_count": 48,
      "outputs": [
        {
          "output_type": "stream",
          "name": "stdout",
          "text": [
            "[10, 15, 47, 86, 21, 45]\n"
          ]
        }
      ]
    },
    {
      "cell_type": "markdown",
      "source": [
        "# **. Difference between copy and deep copy?**\n",
        "\n",
        "copy() create reference to original object. If you change copied object - you change the original object. . deepcopy() creates new object and does real copying of original object to new one. Changing new deepcopied object doesn't affect original object.\n",
        "\n",
        "copy means constructing a new collection object and then populating it with references to the child objects found in the original. The copying process does not recurse and therefore won’t create copies of the child objects themselves. In case of shallow copy, a reference of object is copied in other object. It means that any changes made to a copy of object do reflect in the original object. In python, this is implemented using “copy()” function."
      ],
      "metadata": {
        "id": "6a0NXGiOh0Lx"
      }
    },
    {
      "cell_type": "code",
      "source": [
        "import copy\n",
        "l = [10,30,30,40,50,60]\n",
        "\n",
        "l1=copy.copy(2)#copy\n",
        "\n",
        "print(l)\n",
        "print(l1)\n",
        "print(id(l))\n"
      ],
      "metadata": {
        "colab": {
          "base_uri": "https://localhost:8080/"
        },
        "id": "SUvMErfEiPBZ",
        "outputId": "3e0fcb89-8c4b-49a7-bb7f-524c862539ff"
      },
      "execution_count": 65,
      "outputs": [
        {
          "output_type": "stream",
          "name": "stdout",
          "text": [
            "[10, 30, 30, 40, 50, 60]\n",
            "2\n",
            "140382139858768\n"
          ]
        }
      ]
    },
    {
      "cell_type": "code",
      "source": [
        "l = [10,30,30,40,50,60]\n",
        "a1=copy.deepcopy(a) #deepcopy\n",
        "\n",
        "print(a)\n",
        "print(a1)\n",
        "print(id(a))"
      ],
      "metadata": {
        "colab": {
          "base_uri": "https://localhost:8080/"
        },
        "id": "Rp2pMPEjiPEK",
        "outputId": "8b34e171-b9b5-4af6-fb84-ac14efe56338"
      },
      "execution_count": 66,
      "outputs": [
        {
          "output_type": "stream",
          "name": "stdout",
          "text": [
            "[10, 15, 47, 86, 21, 45]\n",
            "[10, 15, 47, 86, 21, 45]\n",
            "140382139828576\n"
          ]
        }
      ]
    },
    {
      "cell_type": "markdown",
      "source": [
        "# ** How to check whether the list is empty or not?**\n",
        "\n",
        "Empty lists are considered False in Python, hence the bool() function would return False if the list was passed as an argument. Other methods you can use to check if a list is empty are placing it inside an if statement, using the len() methods, or comparing it with an empty list."
      ],
      "metadata": {
        "id": "JFeGyLdBiP5F"
      }
    },
    {
      "cell_type": "code",
      "source": [
        "p = [] #empty list always false\n",
        "bool(p)"
      ],
      "metadata": {
        "colab": {
          "base_uri": "https://localhost:8080/"
        },
        "id": "FMdcSWfgiaIr",
        "outputId": "81a9f57a-b655-46b7-cfed-b555e4792800"
      },
      "execution_count": 49,
      "outputs": [
        {
          "output_type": "execute_result",
          "data": {
            "text/plain": [
              "False"
            ]
          },
          "metadata": {},
          "execution_count": 49
        }
      ]
    },
    {
      "cell_type": "code",
      "source": [
        "p =[10,20,30,40,50,60]\n",
        "bool(p)"
      ],
      "metadata": {
        "colab": {
          "base_uri": "https://localhost:8080/"
        },
        "id": "dxfNPBgYiaLW",
        "outputId": "3b206d02-6aba-44fb-9eb8-bc2854a42365"
      },
      "execution_count": 51,
      "outputs": [
        {
          "output_type": "execute_result",
          "data": {
            "text/plain": [
              "True"
            ]
          },
          "metadata": {},
          "execution_count": 51
        }
      ]
    },
    {
      "cell_type": "markdown",
      "source": [
        "# **How to concatenate two lists?**\n",
        "- using Add (+) function we can concantenate two list"
      ],
      "metadata": {
        "id": "58D67c55iw3v"
      }
    },
    {
      "cell_type": "code",
      "source": [
        "list1 =[\"akash\",\"arvind\",20,50,40,80]\n",
        "list2 =[ \"shital\",\"jay\",20,50,90,100]\n",
        "list3=list1+ list2\n",
        "print(list3)"
      ],
      "metadata": {
        "colab": {
          "base_uri": "https://localhost:8080/"
        },
        "id": "pxcixFC8iaNs",
        "outputId": "12710a55-97ee-4bc3-9122-d3f46c1165d9"
      },
      "execution_count": 52,
      "outputs": [
        {
          "output_type": "stream",
          "name": "stdout",
          "text": [
            "['akash', 'arvind', 20, 50, 40, 80, 'shital', 'jay', 20, 50, 90, 100]\n"
          ]
        }
      ]
    },
    {
      "cell_type": "markdown",
      "source": [
        "# ** How to find the occurrences of an element in the python list?**\n",
        "\n",
        "- using count function we can find the occurances of an elements"
      ],
      "metadata": {
        "id": "BGCHno0Ijiy0"
      }
    },
    {
      "cell_type": "code",
      "source": [
        "x=[1,5,8,10,5,1,2,5,8,2,8,2,9,5,9,10,9,10.2]\n",
        "print(x.count(1))\n",
        "print(x.count(10))\n",
        "print(x.count(5))\n",
        "print(x.count(2))"
      ],
      "metadata": {
        "colab": {
          "base_uri": "https://localhost:8080/"
        },
        "id": "mHdRzTf8iaar",
        "outputId": "7c28d22c-655c-4c10-840f-f6668f4a333c"
      },
      "execution_count": 54,
      "outputs": [
        {
          "output_type": "stream",
          "name": "stdout",
          "text": [
            "2\n",
            "2\n",
            "4\n",
            "3\n"
          ]
        }
      ]
    },
    {
      "cell_type": "markdown",
      "source": [
        "# **How to flatten a list in python?**"
      ],
      "metadata": {
        "id": "pjC5HcE-kLZy"
      }
    },
    {
      "cell_type": "code",
      "source": [
        "marks = [[50,66,],[40,45,77],[35,52]]\n",
        "flatten(marks) # using flatten function "
      ],
      "metadata": {
        "colab": {
          "base_uri": "https://localhost:8080/"
        },
        "id": "PaZypoa3kNjJ",
        "outputId": "4f7d7367-b004-4a2b-d1f3-b562964c956b"
      },
      "execution_count": 57,
      "outputs": [
        {
          "output_type": "execute_result",
          "data": {
            "text/plain": [
              "[50, 66, 40, 45, 77, 35, 52]"
            ]
          },
          "metadata": {},
          "execution_count": 57
        }
      ]
    },
    {
      "cell_type": "code",
      "source": [
        ""
      ],
      "metadata": {
        "id": "5yAx6yZ1LM30"
      },
      "execution_count": 28,
      "outputs": []
    }
  ]
}