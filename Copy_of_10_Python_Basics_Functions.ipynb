{
  "nbformat": 4,
  "nbformat_minor": 0,
  "metadata": {
    "colab": {
      "name": "Copy of 10_Python_Basics_Functions",
      "provenance": [],
      "authorship_tag": "ABX9TyPHkbjX9OdWixe+NdCQo9Xm",
      "include_colab_link": true
    },
    "kernelspec": {
      "name": "python3",
      "display_name": "Python 3"
    },
    "language_info": {
      "name": "python"
    }
  },
  "cells": [
    {
      "cell_type": "markdown",
      "metadata": {
        "id": "view-in-github",
        "colab_type": "text"
      },
      "source": [
        "<a href=\"https://colab.research.google.com/github/AkashMuttalwad/python-_Basic-/blob/main/Copy_of_10_Python_Basics_Functions.ipynb\" target=\"_parent\"><img src=\"https://colab.research.google.com/assets/colab-badge.svg\" alt=\"Open In Colab\"/></a>"
      ]
    },
    {
      "cell_type": "markdown",
      "source": [
        "# **Functions**\n",
        "\n",
        "֍ If a group of statements is repeatedly required then it is not recommended to write these statements everytime seperately.We have to define these statements as a single unit and we can call that unit any number of times based on our requirement without rewriting. This unit is nothing but function.\n",
        "\n",
        "֍ The main advantage of functions is code Reusability.\n",
        "\n",
        "֍ Python supports two types of functions:\n",
        "\n",
        "1- Built-in function\n",
        "\n",
        "2- User defined function\n",
        "\n",
        "1- Built in Functions: The functions which are coming along with Python software automatically, are called built in functions or pre defined functions\n",
        "\n",
        "2- User defined function: The functions which are developed by programmer explicitly according to business requirements, are called user defined functions.\n",
        "\n",
        "Syntax:\n",
        "\n",
        "def function_name(parameters):\n",
        "\n",
        "''' doc string'''\n",
        "\n",
        "python code\n",
        "\n",
        "return value"
      ],
      "metadata": {
        "id": "wzbr1nZ7-xqG"
      }
    },
    {
      "cell_type": "markdown",
      "source": [
        "# **Parameters**\n",
        "\n",
        "Parameters are inputs to the function. If a function contains parameters, then at the time of calling,compulsory we should provide values otherwise,otherwise we will get error"
      ],
      "metadata": {
        "id": "5Wv2uF91_5xH"
      }
    },
    {
      "cell_type": "markdown",
      "source": [
        "Eg: Write a function to take name of the student as input and print wish message by name."
      ],
      "metadata": {
        "id": "a23CkDZ-ACK9"
      }
    },
    {
      "cell_type": "code",
      "source": [
        " def wish ( name):\n",
        "   print ( \"hello\", name ,\"good mornning\")"
      ],
      "metadata": {
        "id": "84U4LbGpAEzt"
      },
      "execution_count": null,
      "outputs": []
    },
    {
      "cell_type": "code",
      "source": [
        "wish ('akash')"
      ],
      "metadata": {
        "colab": {
          "base_uri": "https://localhost:8080/"
        },
        "id": "F8hDAlSzAE2V",
        "outputId": "6e245c3f-84fe-4466-d931-a6989657b45f"
      },
      "execution_count": null,
      "outputs": [
        {
          "output_type": "stream",
          "name": "stdout",
          "text": [
            "hello akash good mornning\n"
          ]
        }
      ]
    },
    {
      "cell_type": "code",
      "source": [
        "def note (msg):\n",
        "  print(\"hello\",msg, \"good evening\")"
      ],
      "metadata": {
        "id": "LFKBF8PyAFBe"
      },
      "execution_count": null,
      "outputs": []
    },
    {
      "cell_type": "code",
      "source": [
        "note ( \"please keep distance\")"
      ],
      "metadata": {
        "colab": {
          "base_uri": "https://localhost:8080/"
        },
        "id": "rsgukbN8AFEH",
        "outputId": "d6673382-1f35-47f8-853e-bc829bb901fc"
      },
      "execution_count": null,
      "outputs": [
        {
          "output_type": "stream",
          "name": "stdout",
          "text": [
            "hello please keep distance good evening\n"
          ]
        }
      ]
    },
    {
      "cell_type": "code",
      "source": [
        "# Eg: Write a function to take number as input and print its square value\n",
        "def pow(num):\n",
        "  print(num*num)"
      ],
      "metadata": {
        "id": "I1-b-CV-AFGV"
      },
      "execution_count": null,
      "outputs": []
    },
    {
      "cell_type": "code",
      "source": [
        " pow(5)"
      ],
      "metadata": {
        "colab": {
          "base_uri": "https://localhost:8080/"
        },
        "id": "ktFBEqiSAFLW",
        "outputId": "7cbe62d7-4ba8-48ed-e7e3-017172874b88"
      },
      "execution_count": null,
      "outputs": [
        {
          "output_type": "stream",
          "name": "stdout",
          "text": [
            "25\n"
          ]
        }
      ]
    },
    {
      "cell_type": "code",
      "source": [
        "def squre (num) :\n",
        "  print ( num*num)"
      ],
      "metadata": {
        "id": "vSVJHJ3uAFNc"
      },
      "execution_count": null,
      "outputs": []
    },
    {
      "cell_type": "code",
      "source": [
        "squre (10)"
      ],
      "metadata": {
        "colab": {
          "base_uri": "https://localhost:8080/"
        },
        "id": "LIOXSCT8AFO7",
        "outputId": "07f5cc98-7232-4c32-a54a-747a9b43fb11"
      },
      "execution_count": null,
      "outputs": [
        {
          "output_type": "stream",
          "name": "stdout",
          "text": [
            "100\n"
          ]
        }
      ]
    },
    {
      "cell_type": "markdown",
      "source": [
        "# **Return Statement:**\n",
        "\n",
        "Function can take input values as parameters and executes business logic, and returns output to the caller with return statement.\n",
        "\n"
      ],
      "metadata": {
        "id": "83hnoekrCvg1"
      }
    },
    {
      "cell_type": "markdown",
      "source": [
        "1- Write a Function to accept 2 Numbers as Input and return Sum"
      ],
      "metadata": {
        "id": "XrVSZC0vC55M"
      }
    },
    {
      "cell_type": "code",
      "source": [
        "def squareIt(number):\n",
        "  print(number*number)"
      ],
      "metadata": {
        "id": "yxSH_d15AFRG"
      },
      "execution_count": null,
      "outputs": []
    },
    {
      "cell_type": "code",
      "source": [
        "print(10*5)"
      ],
      "metadata": {
        "colab": {
          "base_uri": "https://localhost:8080/"
        },
        "id": "fF7S6MwdAFaA",
        "outputId": "55639fa7-1920-4b72-f99c-6d14436a717c"
      },
      "execution_count": null,
      "outputs": [
        {
          "output_type": "stream",
          "name": "stdout",
          "text": [
            "50\n"
          ]
        }
      ]
    },
    {
      "cell_type": "code",
      "source": [
        "def mul (num):\n",
        " print( num*num)\n"
      ],
      "metadata": {
        "id": "Ozd-EsMAAFcR"
      },
      "execution_count": null,
      "outputs": []
    },
    {
      "cell_type": "code",
      "source": [
        "mul (10*50*2*5*3)"
      ],
      "metadata": {
        "colab": {
          "base_uri": "https://localhost:8080/"
        },
        "id": "jSmE-aaZAFeo",
        "outputId": "c20bccde-1d6d-4cb3-b90a-ba944258b9fb"
      },
      "execution_count": null,
      "outputs": [
        {
          "output_type": "stream",
          "name": "stdout",
          "text": [
            "225000000\n"
          ]
        }
      ]
    },
    {
      "cell_type": "code",
      "source": [
        "def pow(num):\n",
        "   print(num^num)"
      ],
      "metadata": {
        "id": "OqrWIt05AFgv"
      },
      "execution_count": null,
      "outputs": []
    },
    {
      "cell_type": "code",
      "source": [
        "pow(5)"
      ],
      "metadata": {
        "colab": {
          "base_uri": "https://localhost:8080/"
        },
        "id": "y_EoOQE5AFil",
        "outputId": "957c20da-8058-4dba-8c57-351ee212cdca"
      },
      "execution_count": null,
      "outputs": [
        {
          "output_type": "stream",
          "name": "stdout",
          "text": [
            "0\n"
          ]
        }
      ]
    },
    {
      "cell_type": "code",
      "source": [
        "\"\"\"Q) Write a Function to check whether the given Number is\n",
        "  Even OR Odd?\"\"\"\n",
        "\n",
        "def even_odd(num):\n",
        "   if num%2==0:\n",
        "     print(num,\"is Even Number\")\n",
        "   else:\n",
        "     print(num,\"is Odd Number\")"
      ],
      "metadata": {
        "id": "NfZuUyBYRQvO"
      },
      "execution_count": null,
      "outputs": []
    },
    {
      "cell_type": "code",
      "source": [
        "even_odd (10)"
      ],
      "metadata": {
        "colab": {
          "base_uri": "https://localhost:8080/"
        },
        "id": "EE0fKugbRQyU",
        "outputId": "36bed608-6e64-4ee3-baba-3b96d54e63c7"
      },
      "execution_count": null,
      "outputs": [
        {
          "output_type": "stream",
          "name": "stdout",
          "text": [
            "10 is Even Number\n"
          ]
        }
      ]
    },
    {
      "cell_type": "code",
      "source": [
        "def odd_even(num):\n",
        "  if num%2==0:\n",
        "    print(num,\"is odd number\")\n",
        "  else:\n",
        "      print(num,\"is even number\" )"
      ],
      "metadata": {
        "id": "pXKyK_2-RQ0i"
      },
      "execution_count": null,
      "outputs": []
    },
    {
      "cell_type": "code",
      "source": [
        "odd_even (10)"
      ],
      "metadata": {
        "colab": {
          "base_uri": "https://localhost:8080/"
        },
        "id": "OAE-UYyIRQ29",
        "outputId": "a7637087-c096-4395-e374-ccf16b66d82c"
      },
      "execution_count": null,
      "outputs": [
        {
          "output_type": "stream",
          "name": "stdout",
          "text": [
            "10 is odd number\n"
          ]
        }
      ]
    },
    {
      "cell_type": "code",
      "source": [
        "\"Q) Write a Function to find Factorial of given Number?\"\n",
        "def factorial (num):\n",
        "  result = 1\n",
        "  while num>=1:result = result*num\n",
        "  num = num = 1\n",
        "  return result"
      ],
      "metadata": {
        "id": "fD0U35-tRQ5m"
      },
      "execution_count": null,
      "outputs": []
    },
    {
      "cell_type": "markdown",
      "source": [
        "# **Returning Multiple Values from a Function:**"
      ],
      "metadata": {
        "id": "AUSbO-gXUQPJ"
      }
    },
    {
      "cell_type": "code",
      "source": [
        "def sum_sub(a,b):\n",
        "    sum=a+b\n",
        "    sub=a-b\n",
        "    return sum,sub"
      ],
      "metadata": {
        "id": "188y-2mZUHps"
      },
      "execution_count": null,
      "outputs": []
    },
    {
      "cell_type": "code",
      "source": [
        "x,y=sum_sub(100,50)\n",
        "print(\"The Sum is:\",x)\n",
        "print(\"The Subtraction is:\",y)"
      ],
      "metadata": {
        "colab": {
          "base_uri": "https://localhost:8080/"
        },
        "id": "JML2pvMbUHth",
        "outputId": "dabdc87f-bf75-42d1-a38a-fc04e18791c2"
      },
      "execution_count": null,
      "outputs": [
        {
          "output_type": "stream",
          "name": "stdout",
          "text": [
            "The Sum is: 150\n",
            "The Subtraction is: 50\n"
          ]
        }
      ]
    },
    {
      "cell_type": "code",
      "source": [
        "sum_sub (100,50)"
      ],
      "metadata": {
        "colab": {
          "base_uri": "https://localhost:8080/"
        },
        "id": "FAzY91sfUH24",
        "outputId": "a33f83ac-b227-44ea-f2d9-b4d0bd43311d"
      },
      "execution_count": null,
      "outputs": [
        {
          "output_type": "execute_result",
          "data": {
            "text/plain": [
              "(150, 50)"
            ]
          },
          "metadata": {},
          "execution_count": 86
        }
      ]
    },
    {
      "cell_type": "code",
      "source": [
        "#example of multipication & substraction \n",
        "\n",
        "def mul_sub (x,y):\n",
        "    mul = (x*y)\n",
        "    sub = (x-y)\n",
        "    return  mul,sub"
      ],
      "metadata": {
        "id": "PfaUMJiFUH6I"
      },
      "execution_count": null,
      "outputs": []
    },
    {
      "cell_type": "code",
      "source": [
        "x,y= mul_sub(30,20)\n",
        "print(\"the mul is:\",x)\n",
        "print(\"the sub is:\",y)"
      ],
      "metadata": {
        "colab": {
          "base_uri": "https://localhost:8080/"
        },
        "id": "Y-wTCZYeRQ-N",
        "outputId": "bb262359-7924-4ae4-9787-8cfa6d021b46"
      },
      "execution_count": null,
      "outputs": [
        {
          "output_type": "stream",
          "name": "stdout",
          "text": [
            "the mul is: 600\n",
            "the sub is: 10\n"
          ]
        }
      ]
    },
    {
      "cell_type": "code",
      "source": [
        "mul_sub (30,20)"
      ],
      "metadata": {
        "colab": {
          "base_uri": "https://localhost:8080/"
        },
        "id": "17mfRIYvRRAB",
        "outputId": "78cd7dbb-2b41-42c4-ac4f-259c549836e1"
      },
      "execution_count": null,
      "outputs": [
        {
          "output_type": "execute_result",
          "data": {
            "text/plain": [
              "(600, 10)"
            ]
          },
          "metadata": {},
          "execution_count": 99
        }
      ]
    },
    {
      "cell_type": "markdown",
      "source": [
        "# **Types of Arguments**\n",
        "\n",
        "def f1(a,b):\n",
        "\n",
        "-\n",
        "\n",
        "-\n",
        "\n",
        "f1(10,20)\n",
        "\n",
        "a, b are formal arguments where as 10,20 are actual arguments.\n",
        "\n",
        "There are 4 types are actual arguments are allowed in Python.\n",
        "\n",
        "** Positional Arguments\n",
        "Keyword Arguments\n",
        "Default Arguments\n",
        "Variable length arguments ** "
      ],
      "metadata": {
        "id": "XBE4T0z8d5PQ"
      }
    },
    {
      "cell_type": "markdown",
      "source": [
        "# **1. Positional Arguments**\n",
        "\n",
        "These are the arguments passed to function in correct positional order.\n",
        "\n",
        "def sub(a, b):\n",
        "\n",
        "print(a-b)\n",
        "\n",
        "sub(100, 200)\n",
        "\n",
        "sub(200, 100)\n",
        "\n",
        "The number of arguments and position of arguments must be matched. If we change the order then result may be changed."
      ],
      "metadata": {
        "id": "kRBSWQ3Zem3O"
      }
    },
    {
      "cell_type": "markdown",
      "source": [
        "# **2. Keyword Arguments:**\n",
        "\n",
        "We can pass argument values by keyword i.e by parameter name."
      ],
      "metadata": {
        "id": "cZyrdyrHe77P"
      }
    },
    {
      "cell_type": "code",
      "source": [
        "def wish(name,msg):\n",
        "    print(\"Hello\",name,msg)"
      ],
      "metadata": {
        "id": "LUtCosR-RRBy"
      },
      "execution_count": null,
      "outputs": []
    },
    {
      "cell_type": "code",
      "source": [
        "wish(name=\"Akash\",msg=\"Good evening\")"
      ],
      "metadata": {
        "colab": {
          "base_uri": "https://localhost:8080/"
        },
        "id": "Vk0l5ahIRRDz",
        "outputId": "1e1e9445-e672-446a-e1e7-8a7b31c22856"
      },
      "execution_count": null,
      "outputs": [
        {
          "output_type": "stream",
          "name": "stdout",
          "text": [
            "Hello Akash Good evening\n"
          ]
        }
      ]
    },
    {
      "cell_type": "code",
      "source": [
        "#position changed. Still working\n",
        "wish(msg=\"Good evening\",name=\"Akash\")"
      ],
      "metadata": {
        "colab": {
          "base_uri": "https://localhost:8080/"
        },
        "id": "TZnRpshzRRFw",
        "outputId": "53ce7040-815c-48d9-efda-3d9acc05596c"
      },
      "execution_count": null,
      "outputs": [
        {
          "output_type": "stream",
          "name": "stdout",
          "text": [
            "Hello Akash Good evening\n"
          ]
        }
      ]
    },
    {
      "cell_type": "code",
      "source": [
        "def note (msg,name):\n",
        "  print(\"hello\",name,msg)"
      ],
      "metadata": {
        "id": "hQiZ6XM5RRHo"
      },
      "execution_count": null,
      "outputs": []
    },
    {
      "cell_type": "code",
      "source": [
        "note (msg=\"keep distance\",name= 'akash') "
      ],
      "metadata": {
        "colab": {
          "base_uri": "https://localhost:8080/"
        },
        "id": "l8tTfnJtRRLA",
        "outputId": "d35a132f-aa1a-4817-bacd-6c820b0c7d23"
      },
      "execution_count": null,
      "outputs": [
        {
          "output_type": "stream",
          "name": "stdout",
          "text": [
            "hello akash keep distance\n"
          ]
        }
      ]
    },
    {
      "cell_type": "markdown",
      "source": [
        "# **3. Default Arguments:**\n",
        "\n",
        "Sometimes we can provide default values for our positional arguments."
      ],
      "metadata": {
        "id": "LoBhVhbGgVu2"
      }
    },
    {
      "cell_type": "code",
      "source": [
        "def gritting (name=\"mr.\"):\n",
        "    print(\"Hello\",name,\"Good Morning\")"
      ],
      "metadata": {
        "id": "hZCt4i6SRRPv"
      },
      "execution_count": null,
      "outputs": []
    },
    {
      "cell_type": "code",
      "source": [
        "gritting (\"akash\")"
      ],
      "metadata": {
        "colab": {
          "base_uri": "https://localhost:8080/"
        },
        "id": "-OLMjFeEgale",
        "outputId": "f765d8c5-df88-4e93-b624-1b4dc2bd7c88"
      },
      "execution_count": null,
      "outputs": [
        {
          "output_type": "stream",
          "name": "stdout",
          "text": [
            "Hello akash Good Morning\n"
          ]
        }
      ]
    },
    {
      "cell_type": "code",
      "source": [
        "gritting()"
      ],
      "metadata": {
        "colab": {
          "base_uri": "https://localhost:8080/"
        },
        "id": "NYlyoZ11gaqm",
        "outputId": "529a9219-29a2-4662-8c94-2f5c57f1d170"
      },
      "execution_count": null,
      "outputs": [
        {
          "output_type": "stream",
          "name": "stdout",
          "text": [
            "Hello mr. Good Morning\n"
          ]
        }
      ]
    },
    {
      "cell_type": "markdown",
      "source": [
        "# **4. Variable Length Arguments:**\n",
        "\n",
        "Sometimes we can pass variable number of arguments to our function, such type of arguments are called variable length arguments.\n",
        "\n",
        "We can declare a variable length argument with * symbol as follows\n",
        "\n",
        "def f1(*n):\n",
        "\n",
        "We can call this function by passing any number of arguments including zero number.\n",
        "\n",
        "Internally all these values represented in the form of tuple."
      ],
      "metadata": {
        "id": "gyT64Fm4hNSJ"
      }
    },
    {
      "cell_type": "code",
      "source": [
        "def sum(*n):\n",
        "    total=0\n",
        "    for n1 in n:\n",
        "      total=total+n1\n",
        "    print(\"The Sum=\",total)"
      ],
      "metadata": {
        "id": "eIIiNmzWgasU"
      },
      "execution_count": null,
      "outputs": []
    },
    {
      "cell_type": "code",
      "source": [
        "sum()"
      ],
      "metadata": {
        "colab": {
          "base_uri": "https://localhost:8080/"
        },
        "id": "S2f0ICO_gau0",
        "outputId": "63514b9b-23d8-403e-ac44-0ae185be33d0"
      },
      "execution_count": null,
      "outputs": [
        {
          "output_type": "stream",
          "name": "stdout",
          "text": [
            "The Sum= 0\n"
          ]
        }
      ]
    },
    {
      "cell_type": "code",
      "source": [
        "sum(5)"
      ],
      "metadata": {
        "colab": {
          "base_uri": "https://localhost:8080/"
        },
        "id": "MYSV1oGhgay6",
        "outputId": "9f0551cc-cf4d-484a-bb45-5fa10c770843"
      },
      "execution_count": null,
      "outputs": [
        {
          "output_type": "stream",
          "name": "stdout",
          "text": [
            "The Sum= 5\n"
          ]
        }
      ]
    },
    {
      "cell_type": "code",
      "source": [
        "sum(20,5)"
      ],
      "metadata": {
        "colab": {
          "base_uri": "https://localhost:8080/"
        },
        "id": "nDI9QpsSgbDO",
        "outputId": "0b50938d-f7f3-4f91-aee7-8b95710db3fb"
      },
      "execution_count": null,
      "outputs": [
        {
          "output_type": "stream",
          "name": "stdout",
          "text": [
            "The Sum= 25\n"
          ]
        }
      ]
    },
    {
      "cell_type": "code",
      "source": [
        "sum(5,10,20,50,100)"
      ],
      "metadata": {
        "colab": {
          "base_uri": "https://localhost:8080/"
        },
        "id": "bAPy5_x1gbGc",
        "outputId": "f9019e27-bb00-4e20-a58f-71079b378c1b"
      },
      "execution_count": null,
      "outputs": [
        {
          "output_type": "stream",
          "name": "stdout",
          "text": [
            "The Sum= 185\n"
          ]
        }
      ]
    },
    {
      "cell_type": "code",
      "source": [
        "# We can mix variable length arguments with positional arguments."
      ],
      "metadata": {
        "id": "U1aB0-2KRRSo"
      },
      "execution_count": null,
      "outputs": []
    },
    {
      "cell_type": "code",
      "source": [
        "def f1(n1,*s):\n",
        "    print(n1)\n",
        "    for s1 in s:\n",
        "      print(s1)"
      ],
      "metadata": {
        "id": "bNQQzse9RRU5"
      },
      "execution_count": null,
      "outputs": []
    },
    {
      "cell_type": "code",
      "source": [
        "f1(5)"
      ],
      "metadata": {
        "colab": {
          "base_uri": "https://localhost:8080/"
        },
        "id": "rSG9MLf0huHE",
        "outputId": "818e3554-1c63-4873-bd0c-8a5c4e463b20"
      },
      "execution_count": null,
      "outputs": [
        {
          "output_type": "stream",
          "name": "stdout",
          "text": [
            "5\n"
          ]
        }
      ]
    },
    {
      "cell_type": "code",
      "source": [
        "f1(5,10,15,20,25,30,35)"
      ],
      "metadata": {
        "colab": {
          "base_uri": "https://localhost:8080/"
        },
        "id": "6fhcjDWuhuJA",
        "outputId": "e9095082-3321-4072-e962-b9366d40593f"
      },
      "execution_count": null,
      "outputs": [
        {
          "output_type": "stream",
          "name": "stdout",
          "text": [
            "5\n",
            "10\n",
            "15\n",
            "20\n",
            "25\n",
            "30\n",
            "35\n"
          ]
        }
      ]
    },
    {
      "cell_type": "code",
      "source": [
        "f1(5,0.5,\"a\",\"akash\",\"true\",120)"
      ],
      "metadata": {
        "colab": {
          "base_uri": "https://localhost:8080/"
        },
        "id": "y_ApFLa5huLf",
        "outputId": "c0e6289d-2e90-4079-ef51-a0156b3a9613"
      },
      "execution_count": null,
      "outputs": [
        {
          "output_type": "stream",
          "name": "stdout",
          "text": [
            "5\n",
            "0.5\n",
            "a\n",
            "akash\n",
            "true\n",
            "120\n"
          ]
        }
      ]
    },
    {
      "cell_type": "markdown",
      "source": [
        "**Note: After variable length argument,if we are taking any other arguments then we should provide values as keyword arguments.**"
      ],
      "metadata": {
        "id": "zMxGKzOdiYYa"
      }
    },
    {
      "cell_type": "code",
      "source": [
        "def f1(*s,n1):\n",
        "    for s1 in s:\n",
        "      print(s1)\n",
        "    print(n1)\n",
        "\n",
        "f1(\"A\",\"B\",n1=5)"
      ],
      "metadata": {
        "colab": {
          "base_uri": "https://localhost:8080/"
        },
        "id": "VY551B-8huOd",
        "outputId": "c0f0df32-8851-4876-9c40-9ed46220ecc8"
      },
      "execution_count": null,
      "outputs": [
        {
          "output_type": "stream",
          "name": "stdout",
          "text": [
            "A\n",
            "B\n",
            "5\n"
          ]
        }
      ]
    },
    {
      "cell_type": "markdown",
      "source": [
        "**Note: We can declare key word variable length arguments also.**\n",
        "We can call this function by passing any number of keyword arguments. Internally these keyword arguments will be stored inside a dictionary."
      ],
      "metadata": {
        "id": "ylGrSixPikcj"
      }
    },
    {
      "cell_type": "code",
      "source": [
        "def display(**kwargs):\n",
        "    for k,v in kwargs.items():\n",
        "       print(k,\"=\",v)"
      ],
      "metadata": {
        "id": "ozqcTJbohuQ1"
      },
      "execution_count": null,
      "outputs": []
    },
    {
      "cell_type": "code",
      "source": [
        "display(n1=10,n2=20,n3=30)"
      ],
      "metadata": {
        "colab": {
          "base_uri": "https://localhost:8080/"
        },
        "id": "8MPCaAnShubN",
        "outputId": "e60ef842-8fe1-419a-fa03-17acff942da8"
      },
      "execution_count": null,
      "outputs": [
        {
          "output_type": "stream",
          "name": "stdout",
          "text": [
            "n1 = 10\n",
            "n2 = 20\n",
            "n3 = 30\n"
          ]
        }
      ]
    },
    {
      "cell_type": "code",
      "source": [
        "display(rollnumber=105,name=\"akash\",marks=85,subject=\"math\")"
      ],
      "metadata": {
        "colab": {
          "base_uri": "https://localhost:8080/"
        },
        "id": "AjtH3mu9hueD",
        "outputId": "94760567-05d1-4283-fe83-579db0e67c7a"
      },
      "execution_count": null,
      "outputs": [
        {
          "output_type": "stream",
          "name": "stdout",
          "text": [
            "rollnumber = 105\n",
            "name = akash\n",
            "marks = 85\n",
            "subject = math\n"
          ]
        }
      ]
    },
    {
      "cell_type": "code",
      "source": [
        "display(employeID=111,name=\"akash\", performance=\"good\",activity=\"project\")"
      ],
      "metadata": {
        "colab": {
          "base_uri": "https://localhost:8080/"
        },
        "id": "uYeho6iihugX",
        "outputId": "55bfc209-aada-42d5-d0ae-3df985eb5786"
      },
      "execution_count": null,
      "outputs": [
        {
          "output_type": "stream",
          "name": "stdout",
          "text": [
            "employeID = 111\n",
            "name = akash\n",
            "performance = good\n",
            "activity = project\n"
          ]
        }
      ]
    },
    {
      "cell_type": "markdown",
      "source": [
        "# **Note: Function vs Module vs Library**\n",
        "\n",
        "A group of lines with some name is called a function\n",
        "\n",
        "A group of functions saved to a file, is called Module\n",
        "\n",
        "A group of Modules is nothing but Library\n"
      ],
      "metadata": {
        "id": "4W03G0mljkMm"
      }
    },
    {
      "cell_type": "markdown",
      "source": [
        "# **Types of Variables**\n",
        "\n",
        "Python supports 2 types of variables.\n",
        "\n",
        "1-Global Variables\n",
        "\n",
        "2-Local Variables"
      ],
      "metadata": {
        "id": "Ty0pExRQjsPG"
      }
    },
    {
      "cell_type": "code",
      "source": [
        "a=5 # global variable(defined outside the function)\n",
        "def f1():\n",
        "   print(a)\n",
        "\n",
        "def f2():\n",
        "    print(a)\n",
        "\n",
        "f1()\n",
        "f2()"
      ],
      "metadata": {
        "colab": {
          "base_uri": "https://localhost:8080/"
        },
        "id": "RWlgyRNThuit",
        "outputId": "51104c4b-ebdc-409e-fb28-041a1541b595"
      },
      "execution_count": null,
      "outputs": [
        {
          "output_type": "stream",
          "name": "stdout",
          "text": [
            "5\n",
            "5\n"
          ]
        }
      ]
    },
    {
      "cell_type": "markdown",
      "source": [
        "Local Variables:\n",
        "\n",
        "The variables which are declared inside a function are called local variables.\n",
        "\n",
        "Local variables are available only for the function in which we declared it."
      ],
      "metadata": {
        "id": "NKKTWKYcj9P5"
      }
    },
    {
      "cell_type": "code",
      "source": [
        "def f1():\n",
        "    a=105\n",
        "    print(a) # valid"
      ],
      "metadata": {
        "id": "ZBNboKVgjmck"
      },
      "execution_count": null,
      "outputs": []
    },
    {
      "cell_type": "code",
      "source": [
        "f1()"
      ],
      "metadata": {
        "colab": {
          "base_uri": "https://localhost:8080/"
        },
        "id": "4BcbmJAwjmfP",
        "outputId": "3a4f612e-417f-4512-eb2c-6f4f124cabf8"
      },
      "execution_count": null,
      "outputs": [
        {
          "output_type": "stream",
          "name": "stdout",
          "text": [
            "105\n"
          ]
        }
      ]
    },
    {
      "cell_type": "code",
      "source": [
        "# We didn't\n",
        "def f22():\n",
        "    print(b) #invalid # must to define variables \n",
        "\n",
        "f22()"
      ],
      "metadata": {
        "colab": {
          "base_uri": "https://localhost:8080/",
          "height": 321
        },
        "id": "XRdcxM7ajmhj",
        "outputId": "c0ec34fa-a7c7-434b-cdf9-b02b927fa24f"
      },
      "execution_count": null,
      "outputs": [
        {
          "output_type": "error",
          "ename": "NameError",
          "evalue": "ignored",
          "traceback": [
            "\u001b[0;31m---------------------------------------------------------------------------\u001b[0m",
            "\u001b[0;31mNameError\u001b[0m                                 Traceback (most recent call last)",
            "\u001b[0;32m<ipython-input-155-a15db2c2fddf>\u001b[0m in \u001b[0;36m<module>\u001b[0;34m()\u001b[0m\n\u001b[1;32m      3\u001b[0m     \u001b[0mprint\u001b[0m\u001b[0;34m(\u001b[0m\u001b[0mb\u001b[0m\u001b[0;34m)\u001b[0m \u001b[0;31m#invalid\u001b[0m\u001b[0;34m\u001b[0m\u001b[0;34m\u001b[0m\u001b[0m\n\u001b[1;32m      4\u001b[0m \u001b[0;34m\u001b[0m\u001b[0m\n\u001b[0;32m----> 5\u001b[0;31m \u001b[0mf22\u001b[0m\u001b[0;34m(\u001b[0m\u001b[0;34m)\u001b[0m\u001b[0;34m\u001b[0m\u001b[0;34m\u001b[0m\u001b[0m\n\u001b[0m",
            "\u001b[0;32m<ipython-input-155-a15db2c2fddf>\u001b[0m in \u001b[0;36mf22\u001b[0;34m()\u001b[0m\n\u001b[1;32m      1\u001b[0m \u001b[0;31m# We didn't\u001b[0m\u001b[0;34m\u001b[0m\u001b[0;34m\u001b[0m\u001b[0;34m\u001b[0m\u001b[0m\n\u001b[1;32m      2\u001b[0m \u001b[0;32mdef\u001b[0m \u001b[0mf22\u001b[0m\u001b[0;34m(\u001b[0m\u001b[0;34m)\u001b[0m\u001b[0;34m:\u001b[0m\u001b[0;34m\u001b[0m\u001b[0;34m\u001b[0m\u001b[0m\n\u001b[0;32m----> 3\u001b[0;31m     \u001b[0mprint\u001b[0m\u001b[0;34m(\u001b[0m\u001b[0mb\u001b[0m\u001b[0;34m)\u001b[0m \u001b[0;31m#invalid\u001b[0m\u001b[0;34m\u001b[0m\u001b[0;34m\u001b[0m\u001b[0m\n\u001b[0m\u001b[1;32m      4\u001b[0m \u001b[0;34m\u001b[0m\u001b[0m\n\u001b[1;32m      5\u001b[0m \u001b[0mf22\u001b[0m\u001b[0;34m(\u001b[0m\u001b[0;34m)\u001b[0m\u001b[0;34m\u001b[0m\u001b[0;34m\u001b[0m\u001b[0m\n",
            "\u001b[0;31mNameError\u001b[0m: name 'b' is not defined"
          ]
        }
      ]
    },
    {
      "cell_type": "markdown",
      "source": [
        "\"\"\"Note: If global variable and local variable having the same name then we can access\n",
        "  global variable inside a function as follows\"\"\"\n"
      ],
      "metadata": {
        "id": "XLHjLY6CktO-"
      }
    },
    {
      "cell_type": "code",
      "source": [
        "a = 10#Global Variable\n",
        "def f1():\n",
        "    a=777 # Local Variable\n",
        "    print(a)\n",
        "    print(globals()['a'])\n",
        "f1()"
      ],
      "metadata": {
        "colab": {
          "base_uri": "https://localhost:8080/"
        },
        "id": "TSNQNAEBjmkq",
        "outputId": "5e37c10a-7142-448a-9830-863f3e79d444"
      },
      "execution_count": null,
      "outputs": [
        {
          "output_type": "stream",
          "name": "stdout",
          "text": [
            "777\n",
            "10\n"
          ]
        }
      ]
    },
    {
      "cell_type": "code",
      "source": [
        "x = 105 # globale variable\n",
        "def f1():\n",
        "  x=145 #local variable\n",
        "  print(a)\n",
        "  print(globals()[\"a\"])"
      ],
      "metadata": {
        "id": "CLqOhQwBjmmk"
      },
      "execution_count": null,
      "outputs": []
    },
    {
      "cell_type": "markdown",
      "source": [
        "# **Recursive Function:**\n",
        "\n",
        "A function that calls itself is known as Recursive Function.\n",
        "\n",
        "Main advantages of recursive functions are:\n",
        "\n",
        "We can reduce length of the code and improves readability.\n",
        "We can solve complex problems very easily.\n",
        "\n",
        "E.g.\n",
        "\n",
        "factorial(3) = 3 * factorial(2)\n",
        "\n",
        "= 3 2 factorial(1)\n",
        "\n",
        "=321*factorial(0)\n",
        "\n",
        "=321*1\n",
        "\n",
        "=6\n",
        "\n",
        "factorial(n) = n * factorial(n-1)"
      ],
      "metadata": {
        "id": "ic_4hUzklNJv"
      }
    },
    {
      "cell_type": "code",
      "source": [
        "'''Write a Python Function to find Factorial of given\n",
        "  Number with Recursion'''\n",
        "\n",
        "def factorial(n):\n",
        "    if n==0:\n",
        "      result=1\n",
        "    else:\n",
        "      result=n*factorial(n-1)\n",
        "    return result\n",
        "print(\"Factorial of 4 is:\",factorial(4))\n",
        "print(\"Factorial of 5 is:\",factorial(5))"
      ],
      "metadata": {
        "colab": {
          "base_uri": "https://localhost:8080/"
        },
        "id": "CdbVRjufjmoS",
        "outputId": "ed99666f-c2cd-450c-a502-3b8a829dbe53"
      },
      "execution_count": null,
      "outputs": [
        {
          "output_type": "stream",
          "name": "stdout",
          "text": [
            "Factorial of 4 is: 24\n",
            "Factorial of 5 is: 120\n"
          ]
        }
      ]
    },
    {
      "cell_type": "code",
      "source": [
        "#exaple \n",
        "def factorial(n):\n",
        "  if n==0:\n",
        "    result =1\n",
        "  else:\n",
        "      result=n*factorial(n-1)\n",
        "return result\n",
        "  print(\"factorial of 5 is:\", fact (5))\n",
        "  print(\"factorial of 10 is :\", fact (10))\n",
        " "
      ],
      "metadata": {
        "colab": {
          "base_uri": "https://localhost:8080/",
          "height": 130
        },
        "id": "H6oKCqwclUgm",
        "outputId": "ee5fce14-83f6-43ef-98af-367e58e6e15a"
      },
      "execution_count": null,
      "outputs": [
        {
          "output_type": "error",
          "ename": "IndentationError",
          "evalue": "ignored",
          "traceback": [
            "\u001b[0;36m  File \u001b[0;32m\"<ipython-input-171-897909b20657>\"\u001b[0;36m, line \u001b[0;32m8\u001b[0m\n\u001b[0;31m    print(\"factorial of 5 is:\", fact (4))\u001b[0m\n\u001b[0m    ^\u001b[0m\n\u001b[0;31mIndentationError\u001b[0m\u001b[0;31m:\u001b[0m unexpected indent\n"
          ]
        }
      ]
    },
    {
      "cell_type": "code",
      "source": [
        ""
      ],
      "metadata": {
        "id": "NIfV35ZclUi6"
      },
      "execution_count": null,
      "outputs": []
    },
    {
      "cell_type": "code",
      "source": [
        ""
      ],
      "metadata": {
        "id": "dL8Qqpd_lUno"
      },
      "execution_count": null,
      "outputs": []
    },
    {
      "cell_type": "code",
      "source": [
        ""
      ],
      "metadata": {
        "id": "HAp5aqG5lUqX"
      },
      "execution_count": null,
      "outputs": []
    },
    {
      "cell_type": "code",
      "source": [
        ""
      ],
      "metadata": {
        "id": "9McO-KOKlUtJ"
      },
      "execution_count": null,
      "outputs": []
    },
    {
      "cell_type": "code",
      "source": [
        ""
      ],
      "metadata": {
        "id": "TATXHWfRjmqN"
      },
      "execution_count": null,
      "outputs": []
    }
  ]
}