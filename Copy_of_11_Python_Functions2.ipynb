{
  "nbformat": 4,
  "nbformat_minor": 0,
  "metadata": {
    "colab": {
      "name": "Copy of 11_Python_Functions2.ipynb",
      "provenance": [],
      "authorship_tag": "ABX9TyNefa6Q2iSxYlxWjukBq78Z",
      "include_colab_link": true
    },
    "kernelspec": {
      "name": "python3",
      "display_name": "Python 3"
    },
    "language_info": {
      "name": "python"
    }
  },
  "cells": [
    {
      "cell_type": "markdown",
      "metadata": {
        "id": "view-in-github",
        "colab_type": "text"
      },
      "source": [
        "<a href=\"https://colab.research.google.com/github/AkashMuttalwad/python-_Basic-/blob/main/Copy_of_11_Python_Functions2.ipynb\" target=\"_parent\"><img src=\"https://colab.research.google.com/assets/colab-badge.svg\" alt=\"Open In Colab\"/></a>"
      ]
    },
    {
      "cell_type": "markdown",
      "source": [
        "# **Anonymous Functions:(Lambda Function)**\n",
        "Sometimes we can declare a function without any name,such type of nameless functions are called anonymous functions or lambda functions.\n",
        "\n",
        "The main purpose of anonymous function is just for instant use(i.e for one time usage)\n",
        "\n",
        "We can define by using lambda keyword\n",
        "\n",
        "lambda n:n*n\n",
        "\n",
        "SyntaxoflambdaFunction:lambda argument_list:expression\n",
        "\n",
        "Note: By using Lambda Functions we can write very concise code so that readability of the program will be improved."
      ],
      "metadata": {
        "id": "3l4W6bt6_5oo"
      }
    },
    {
      "cell_type": "code",
      "source": [
        "'''Q) Write a Program to create a Lambda Function to find Square of\n",
        "  given Number?'''\n",
        "\n",
        "s= lambda n: n*n\n",
        "print(\"The Square of 4 is:\",s(4))\n",
        "print(\"The Square of 5 is:\",s(5))"
      ],
      "metadata": {
        "colab": {
          "base_uri": "https://localhost:8080/"
        },
        "id": "PyUn4RroACLW",
        "outputId": "1c38bfb5-d061-4a43-a5c2-b03a37c58274"
      },
      "execution_count": null,
      "outputs": [
        {
          "output_type": "stream",
          "name": "stdout",
          "text": [
            "The Square of 4 is: 16\n",
            "The Square of 5 is: 25\n"
          ]
        }
      ]
    },
    {
      "cell_type": "code",
      "source": [
        "x=lambda n:n+n\n",
        "print(\"the sum of 5 is:\",(5))\n",
        "print(\"the sum of 10:\",(15))"
      ],
      "metadata": {
        "colab": {
          "base_uri": "https://localhost:8080/"
        },
        "id": "TBykkw0qACN-",
        "outputId": "9312dfb1-512d-4deb-d05b-8650c43fdab7"
      },
      "execution_count": null,
      "outputs": [
        {
          "output_type": "stream",
          "name": "stdout",
          "text": [
            "the sum of 5 is: 5\n",
            "the sum of 10: 15\n"
          ]
        }
      ]
    },
    {
      "cell_type": "code",
      "source": [
        "'''Q) Lambda Function to find Sum of 2 given Numbers'''\n",
        "s=lambda a,b:a+b\n",
        "print(\"The Sum  of 10,20 is:\",s(10,20))\n",
        "print(\"The Sum of 100,200 is:\",s(100,200))"
      ],
      "metadata": {
        "colab": {
          "base_uri": "https://localhost:8080/"
        },
        "id": "WnVsEfSGACQO",
        "outputId": "525a5fe7-ecb2-43ae-bbbb-bae0b3f8a1db"
      },
      "execution_count": null,
      "outputs": [
        {
          "output_type": "stream",
          "name": "stdout",
          "text": [
            "The Sum  of 10,20 is: 30\n",
            "The Sum of 100,200 is: 300\n"
          ]
        }
      ]
    },
    {
      "cell_type": "code",
      "source": [
        "x=lambda a,b : a*b\n",
        "print(\"the Square of 10,50:\",x(10,4))\n",
        "print(\"the square of 150,200 is:\",x(50,20))"
      ],
      "metadata": {
        "colab": {
          "base_uri": "https://localhost:8080/"
        },
        "id": "m0UemiVEACTG",
        "outputId": "20d5688d-1434-4cb9-bf7c-4d9479231f88"
      },
      "execution_count": null,
      "outputs": [
        {
          "output_type": "stream",
          "name": "stdout",
          "text": [
            "the Square of 10,50: 40\n",
            "the square of 150,200 is: 1000\n"
          ]
        }
      ]
    },
    {
      "cell_type": "code",
      "source": [
        "'''Q) Lambda Function to find biggest of given Values'''\n",
        "s=lambda a,b: a if a>b else b\n",
        "print(\"The Biggest of 10,20 is:\",s(10,20))\n",
        "print(\"The Biggest of 100,200is:\",s(100,200))"
      ],
      "metadata": {
        "colab": {
          "base_uri": "https://localhost:8080/"
        },
        "id": "3FK4-7PnACov",
        "outputId": "6e69ef63-6161-4350-ab83-f06a65906afc"
      },
      "execution_count": null,
      "outputs": [
        {
          "output_type": "stream",
          "name": "stdout",
          "text": [
            "The Biggest of 10,20 is: 20\n",
            "The Biggest of 100,200is: 200\n"
          ]
        }
      ]
    },
    {
      "cell_type": "markdown",
      "source": [
        "**Note: Lambda Function internally returns expression value and we are not required to write return statement explicitly.**"
      ],
      "metadata": {
        "id": "i1LHW8YnBODp"
      }
    },
    {
      "cell_type": "code",
      "source": [
        ""
      ],
      "metadata": {
        "id": "X6h8abIcACrW"
      },
      "execution_count": null,
      "outputs": []
    },
    {
      "cell_type": "markdown",
      "source": [
        "# **filter() Function:**\n",
        "We can use filter() function to filter values from the given sequence based on some condition.\n",
        "\n",
        "syntax: filter(function,sequence)\n",
        "\n",
        "Where Function Argument is responsible to perform conditional check Sequence can be List OR Tuple OR String."
      ],
      "metadata": {
        "id": "Ut4JFjZfBSJV"
      }
    },
    {
      "cell_type": "code",
      "source": [
        "\"\"\"Q) Program to filter only Even Numbers from the List by using\n",
        "  filter() Function?\"\"\"\n",
        "# Without Lambda Function:\n",
        "def isEven(x):\n",
        "    if x%2==0:\n",
        "       return True\n",
        "    else:\n",
        "       return False\n",
        "l=[0,5,10,15,20,25,30]\n",
        "l1=list(filter(isEven,l))\n",
        "print(l1) #[0,10,20,30]"
      ],
      "metadata": {
        "colab": {
          "base_uri": "https://localhost:8080/"
        },
        "id": "K2qe3H1NACtZ",
        "outputId": "9bfea23c-d05a-4820-c39a-bc35d500d594"
      },
      "execution_count": null,
      "outputs": [
        {
          "output_type": "stream",
          "name": "stdout",
          "text": [
            "[0, 10, 20, 30]\n"
          ]
        }
      ]
    },
    {
      "cell_type": "code",
      "source": [
        "# With Lambda Function: Getting odd and even numbers\n",
        "\n",
        "l=[0,5,10,15,20,25,30]\n",
        "l1=list(filter(lambda x:x%2==0,l))\n",
        "print(l1) #[0,10,20,30]\n",
        "l2=list(filter(lambda x:x%2!=0,l))\n",
        "print(l2)#[5,15,25]"
      ],
      "metadata": {
        "colab": {
          "base_uri": "https://localhost:8080/"
        },
        "id": "P1WOC4ZeBav2",
        "outputId": "cde759e3-1bb6-406a-f6ba-5d1036a2e76d"
      },
      "execution_count": null,
      "outputs": [
        {
          "output_type": "stream",
          "name": "stdout",
          "text": [
            "[0, 10, 20, 30]\n",
            "[5, 15, 25]\n"
          ]
        }
      ]
    },
    {
      "cell_type": "markdown",
      "source": [
        "# **map() Function:**\n",
        "For every element present in the given sequence,apply some functionality and generate new element with the required modification. For this requirement we should go for map() function.\n",
        "\n",
        "Eg: For every element present in the list perform double and generate new list of doubles.\n",
        "\n",
        "Syntax: map(function, sequence)\n",
        "\n",
        "The function can be applied on each element of sequence and generates new sequence."
      ],
      "metadata": {
        "id": "5wNr4kATBhtw"
      }
    },
    {
      "cell_type": "code",
      "source": [
        "# Without Lambda\n",
        "l=[1,2,3,4,5]\n",
        "def doubleIt(x):\n",
        "    return 2*x\n",
        "l1=list(map(doubleIt,l))\n",
        "print(l1)#[2,4,6,8,10]"
      ],
      "metadata": {
        "colab": {
          "base_uri": "https://localhost:8080/"
        },
        "id": "maf9NBTRBayd",
        "outputId": "ea472bce-c06e-4f84-a8bb-e491628e2677"
      },
      "execution_count": null,
      "outputs": [
        {
          "output_type": "stream",
          "name": "stdout",
          "text": [
            "[2, 4, 6, 8, 10]\n"
          ]
        }
      ]
    },
    {
      "cell_type": "code",
      "source": [
        "# With Lambda\n",
        "l=[1,2,3,4,5]\n",
        "l1=list(map(lambda x:2*x,l))\n",
        "print(l1) #[2, 4, 6, 8, 10]"
      ],
      "metadata": {
        "colab": {
          "base_uri": "https://localhost:8080/"
        },
        "id": "s48hhrptBa09",
        "outputId": "fa9a8f7c-00df-4d0c-befb-163141210fea"
      },
      "execution_count": null,
      "outputs": [
        {
          "output_type": "stream",
          "name": "stdout",
          "text": [
            "[2, 4, 6, 8, 10]\n"
          ]
        }
      ]
    },
    {
      "cell_type": "markdown",
      "source": [
        "# **reduce() Function:**\n",
        "educe() function reduces sequence of elements into a single element by applying the specified function.\n",
        "\n",
        "syntax: reduce(function,sequence)\n",
        "\n",
        "reduce() function present in functools module and hence we should write import statement"
      ],
      "metadata": {
        "id": "UkFPSXQLBySh"
      }
    },
    {
      "cell_type": "code",
      "source": [
        "from functools import*\n",
        "l=[10,20,30,40,50]\n",
        "result=reduce(lambda x,y:x+y,l)\n",
        "print(result)#150"
      ],
      "metadata": {
        "colab": {
          "base_uri": "https://localhost:8080/"
        },
        "id": "MoipaGyIBa3W",
        "outputId": "115e27ca-0899-48b4-bd6d-753c60ffaf85"
      },
      "execution_count": null,
      "outputs": [
        {
          "output_type": "stream",
          "name": "stdout",
          "text": [
            "150\n"
          ]
        }
      ]
    },
    {
      "cell_type": "code",
      "source": [
        "result=reduce(lambda x,y:x*y,l)\n",
        "print(result) #12000000"
      ],
      "metadata": {
        "colab": {
          "base_uri": "https://localhost:8080/"
        },
        "id": "OX1UT58EB2lX",
        "outputId": "b288a172-bf62-4362-8956-837929f47994"
      },
      "execution_count": null,
      "outputs": [
        {
          "output_type": "stream",
          "name": "stdout",
          "text": [
            "12000000\n"
          ]
        }
      ]
    },
    {
      "cell_type": "markdown",
      "source": [
        "# **Function Aliasing:**\n",
        "\n",
        "For the existing function we can give another name, which is nothing but function aliasing."
      ],
      "metadata": {
        "id": "eez1UdgGB7ng"
      }
    },
    {
      "cell_type": "code",
      "source": [
        "def wish(name):\n",
        "    print(\"Good Morning:\",name)\n",
        "greeting=wish\n",
        "print(id(wish))\n",
        "print(id(greeting))\n",
        "\n",
        "greeting('Akash')\n",
        "wish('Akash')\n",
        "\n"
      ],
      "metadata": {
        "colab": {
          "base_uri": "https://localhost:8080/"
        },
        "id": "A4sUgQuQB2oX",
        "outputId": "a248efa0-59b5-4bab-a431-472f7156e8d4"
      },
      "execution_count": null,
      "outputs": [
        {
          "output_type": "stream",
          "name": "stdout",
          "text": [
            "139757084131408\n",
            "139757084131408\n",
            "Good Morning: Akash\n",
            "Good Morning: Akash\n"
          ]
        }
      ]
    },
    {
      "cell_type": "markdown",
      "source": [
        "Homework\n",
        "Q. Find the square of given number in list using map and lambda function."
      ],
      "metadata": {
        "id": "35wwComwCO7w"
      }
    },
    {
      "cell_type": "code",
      "source": [
        ""
      ],
      "metadata": {
        "id": "r1rIymfwB2wI"
      },
      "execution_count": null,
      "outputs": []
    },
    {
      "cell_type": "code",
      "source": [
        ""
      ],
      "metadata": {
        "id": "fOygaB0oB2z2"
      },
      "execution_count": null,
      "outputs": []
    },
    {
      "cell_type": "code",
      "source": [
        ""
      ],
      "metadata": {
        "id": "kmKgmB-qBa56"
      },
      "execution_count": null,
      "outputs": []
    }
  ]
}