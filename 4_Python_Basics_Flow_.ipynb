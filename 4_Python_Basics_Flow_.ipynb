{
  "nbformat": 4,
  "nbformat_minor": 0,
  "metadata": {
    "colab": {
      "name": "4_Python_Basics_Flow_",
      "provenance": [],
      "authorship_tag": "ABX9TyNkVNt2fOT817ztof/5+ZXH",
      "include_colab_link": true
    },
    "kernelspec": {
      "name": "python3",
      "display_name": "Python 3"
    },
    "language_info": {
      "name": "python"
    }
  },
  "cells": [
    {
      "cell_type": "markdown",
      "metadata": {
        "id": "view-in-github",
        "colab_type": "text"
      },
      "source": [
        "<a href=\"https://colab.research.google.com/github/AkashMuttalwad/python-_Basic-/blob/main/4_Python_Basics_Flow_.ipynb\" target=\"_parent\"><img src=\"https://colab.research.google.com/assets/colab-badge.svg\" alt=\"Open In Colab\"/></a>"
      ]
    },
    {
      "cell_type": "code",
      "execution_count": null,
      "metadata": {
        "colab": {
          "base_uri": "https://localhost:8080/"
        },
        "id": "jHzObBNdazOq",
        "outputId": "96bc5d48-6986-4c1b-ef34-6552cdd686b7"
      },
      "outputs": [
        {
          "output_type": "stream",
          "name": "stdout",
          "text": [
            "Enternameakash\n",
            "hello akash good evening\n",
            "how are you!!\n"
          ]
        }
      ],
      "source": [
        "#control flow \n",
        "#1)Condition Statment \n",
        "#a) if\n",
        "#b) if-elif\n",
        "#c) if-elif-else\n",
        "\n",
        "name=input(\"Entername\")\n",
        "if name==\"akash\":\n",
        "  print(\"hello akash good evening\")\n",
        "  print(\"how are you!!\")"
      ]
    },
    {
      "cell_type": "code",
      "source": [
        "# Write a Program to find Biggest of given 2 Numbers from the Commad Prompt?\n",
        "\n",
        "a1=int(input(\"Enterfirstname\"))\n",
        "a2=int(input(\"Entersecondname\")) \n",
        "if a1>a2:\n",
        " print (\"biggest number is\",a1)\n",
        "else:\n",
        " print(\"biggest number is\",a2)             \n",
        " "
      ],
      "metadata": {
        "colab": {
          "base_uri": "https://localhost:8080/"
        },
        "id": "Gt-uXl9ofCmb",
        "outputId": "949167c9-18f5-4b58-a734-7d8e0b70ea5f"
      },
      "execution_count": null,
      "outputs": [
        {
          "output_type": "stream",
          "name": "stdout",
          "text": [
            "Enterfirstname501\n",
            "Entersecondname269\n",
            "biggest number is 501\n"
          ]
        }
      ]
    },
    {
      "cell_type": "code",
      "source": [
        "#homework\n",
        "#Write a Program to find Biggest of given 3 Numbers from the Commad Prompt?\n",
        "\n",
        "x1=int(input(\"enterfirstname\"))\n",
        "x2=int(input(\"entersecondname\"))\n",
        "x3=int(input(\"enterthirdname\"))\n",
        "if x2>x1<x3:\n",
        "  print(\"biggestnumberis\",x2)\n",
        "  \n",
        "else:\n",
        "  print(\"biggest number is\",x3)"
      ],
      "metadata": {
        "colab": {
          "base_uri": "https://localhost:8080/"
        },
        "id": "4CSGCtWffCqS",
        "outputId": "0cdbb3e7-1563-418f-a3a3-e094e2368aa1"
      },
      "execution_count": null,
      "outputs": [
        {
          "output_type": "stream",
          "name": "stdout",
          "text": [
            "enterfirstname500\n",
            "entersecondname450\n",
            "enterthirdname750\n",
            "biggest number is 750\n"
          ]
        }
      ]
    },
    {
      "cell_type": "code",
      "source": [
        "#Write a program to find smallest of given 2 numbers?\n",
        "a1=int(input(\"enterfirstname\"))\n",
        "a2=int(input(\"entersecondnumber\"))\n",
        "if a1<a2:\n",
        "  print(\"smallestnumber\",a1)\n",
        "else:\n",
        "   print(\"smallestnumber\",a2) "
      ],
      "metadata": {
        "colab": {
          "base_uri": "https://localhost:8080/"
        },
        "id": "oBbbLkZ0fC6k",
        "outputId": "f848e5eb-e346-4512-e5b7-d718100f54af"
      },
      "execution_count": null,
      "outputs": [
        {
          "output_type": "stream",
          "name": "stdout",
          "text": [
            "enterfirstname55\n",
            "entersecondnumber56\n",
            "smallestnumber 55\n"
          ]
        }
      ]
    },
    {
      "cell_type": "code",
      "source": [
        "#Write a program to find smallest of given 3 numbers?\n",
        "x1=int(input(\"enterfirstname\"))\n",
        "x2=int(input(\"entersecondname\"))\n",
        "x3=int(input(\"enterthirdname\"))\n",
        "if x1>x2>x3:\n",
        "  print(\"smallestnumber\",x1)\n",
        "else:\n",
        "  print(\"smallestnumber\",x3)"
      ],
      "metadata": {
        "colab": {
          "base_uri": "https://localhost:8080/"
        },
        "id": "TLc4qJnba3Il",
        "outputId": "6b363b55-a812-4ac6-fd8a-6aa66c0b0477"
      },
      "execution_count": null,
      "outputs": [
        {
          "output_type": "stream",
          "name": "stdout",
          "text": [
            "enterfirstname80\n",
            "entersecondname120\n",
            "enterthirdname78\n",
            "smallestnumber 78\n"
          ]
        }
      ]
    },
    {
      "cell_type": "code",
      "source": [
        "#Write a program to check whether the given number is even or odd?\n",
        "x1=int(input(\"number\"))\n",
        "x2=int(input(\"number\"))\n",
        "if x1>x2:\n",
        "  print(\"evennumber\",x1) \n",
        "else:\n",
        "  print(\"odd number\",x2)\n"
      ],
      "metadata": {
        "colab": {
          "base_uri": "https://localhost:8080/"
        },
        "id": "Z5dXXGOVa3LW",
        "outputId": "d58fa97e-6c1f-4d58-8619-580b1e0b368d"
      },
      "execution_count": null,
      "outputs": [
        {
          "output_type": "stream",
          "name": "stdout",
          "text": [
            "number12\n",
            "number15\n",
            "odd number 15\n"
          ]
        }
      ]
    },
    {
      "cell_type": "code",
      "source": [
        "# Iterative Statements:\n",
        "#1)for loop\n",
        "#2) while loop\n",
        "\n",
        "#If we want to execute some action for every element present in some sequence (it may be string or collection) then we should go for for loop.\n",
        "## To print characters present in the given string\n",
        "a=\"AkashMuttalwad\"\n",
        "for x in a:\n",
        "  print(x)"
      ],
      "metadata": {
        "colab": {
          "base_uri": "https://localhost:8080/"
        },
        "id": "Hzdke-YQa3N0",
        "outputId": "049146ed-3c8b-44f3-a93d-32762f671c6f"
      },
      "execution_count": null,
      "outputs": [
        {
          "output_type": "stream",
          "name": "stdout",
          "text": [
            "A\n",
            "k\n",
            "a\n",
            "s\n",
            "h\n",
            "M\n",
            "u\n",
            "t\n",
            "t\n",
            "a\n",
            "l\n",
            "w\n",
            "a\n",
            "d\n"
          ]
        }
      ]
    },
    {
      "cell_type": "code",
      "source": [
        "a=\"Rajesh\"\n",
        "for x in a:\n",
        "  print(x)"
      ],
      "metadata": {
        "colab": {
          "base_uri": "https://localhost:8080/"
        },
        "id": "zDmnNo-ca3QV",
        "outputId": "4ccc69d4-80d2-4bb3-83af-22b59cbd967a"
      },
      "execution_count": null,
      "outputs": [
        {
          "output_type": "stream",
          "name": "stdout",
          "text": [
            "R\n",
            "a\n",
            "j\n",
            "e\n",
            "s\n",
            "h\n"
          ]
        }
      ]
    },
    {
      "cell_type": "code",
      "source": [
        "#for print shree ram 10 times\n",
        "for x in range(10):\n",
        " print(\"shree Ram!!\")"
      ],
      "metadata": {
        "colab": {
          "base_uri": "https://localhost:8080/"
        },
        "id": "Pti1EpMqa3Sn",
        "outputId": "f5c84943-d410-4868-d3c0-c3c3770c18eb"
      },
      "execution_count": null,
      "outputs": [
        {
          "output_type": "stream",
          "name": "stdout",
          "text": [
            "shree Ram!!\n",
            "shree Ram!!\n",
            "shree Ram!!\n",
            "shree Ram!!\n",
            "shree Ram!!\n",
            "shree Ram!!\n",
            "shree Ram!!\n",
            "shree Ram!!\n",
            "shree Ram!!\n",
            "shree Ram!!\n"
          ]
        }
      ]
    },
    {
      "cell_type": "code",
      "source": [
        "#for anand 5 times \n",
        "for a in range(5):\n",
        "  print (\"anand\")"
      ],
      "metadata": {
        "colab": {
          "base_uri": "https://localhost:8080/"
        },
        "id": "QDgdUllHa3U3",
        "outputId": "c9249df0-fe7b-4da0-b67e-b1249daba8b8"
      },
      "execution_count": null,
      "outputs": [
        {
          "output_type": "stream",
          "name": "stdout",
          "text": [
            "anand\n",
            "anand\n",
            "anand\n",
            "anand\n",
            "anand\n"
          ]
        }
      ]
    },
    {
      "cell_type": "code",
      "source": [
        "## To display odd numbers from 0 to 10\n",
        "for a in range(11):\n",
        " if (a%2!=0):\n",
        "  print(a)\n"
      ],
      "metadata": {
        "colab": {
          "base_uri": "https://localhost:8080/"
        },
        "id": "BLjLWoUpa3Zl",
        "outputId": "038ad4d7-f080-4061-b7b4-e222789cee2e"
      },
      "execution_count": null,
      "outputs": [
        {
          "output_type": "stream",
          "name": "stdout",
          "text": [
            "1\n",
            "3\n",
            "5\n",
            "7\n",
            "9\n"
          ]
        }
      ]
    },
    {
      "cell_type": "code",
      "source": [
        "## for decending order\n",
        "for x in range (15,0,-3):\n",
        "  print(x)"
      ],
      "metadata": {
        "colab": {
          "base_uri": "https://localhost:8080/"
        },
        "id": "4FIRixQqa3bX",
        "outputId": "50fbed17-3084-4751-f582-457fd7a6423a"
      },
      "execution_count": null,
      "outputs": [
        {
          "output_type": "stream",
          "name": "stdout",
          "text": [
            "15\n",
            "12\n",
            "9\n",
            "6\n",
            "3\n"
          ]
        }
      ]
    },
    {
      "cell_type": "code",
      "source": [
        "#sam of the numbers\n",
        "eval(input(\"enterlist\"))\n",
        "sum=0;\n",
        "for x in list:\n",
        "  sum=sum+x;\n",
        "  print(\"the sum\",sum)"
      ],
      "metadata": {
        "colab": {
          "base_uri": "https://localhost:8080/"
        },
        "id": "brKsoTONa3fm",
        "outputId": "dc7767d7-6840-42e0-8200-96e155a14cf2"
      },
      "execution_count": null,
      "outputs": [
        {
          "output_type": "stream",
          "name": "stdout",
          "text": [
            "enterlist1,2,5,4,14,8,5,70\n",
            "the sum 1\n",
            "the sum 3\n",
            "the sum 6\n",
            "the sum 10\n",
            "the sum 15\n"
          ]
        }
      ]
    },
    {
      "cell_type": "code",
      "source": [
        "# While Loop\n",
        "# when condition is false ,then we should go for while loop.\n",
        "# To print numbers from 1 to 8 by using while loop\n",
        "a=1\n",
        "while a<=8:\n",
        " a=a+1\n",
        "print(a)"
      ],
      "metadata": {
        "id": "EmhaFhyBa3ix",
        "colab": {
          "base_uri": "https://localhost:8080/"
        },
        "outputId": "2fb5bf1b-3766-47be-e287-b139f102e739"
      },
      "execution_count": null,
      "outputs": [
        {
          "output_type": "stream",
          "name": "stdout",
          "text": [
            "9\n"
          ]
        }
      ]
    },
    {
      "cell_type": "code",
      "source": [
        "x=1\n",
        "while x<10:\n",
        " x=x+1\n",
        " print(x) "
      ],
      "metadata": {
        "id": "JGPjoyuKa3kv",
        "colab": {
          "base_uri": "https://localhost:8080/"
        },
        "outputId": "dba91d0e-2517-4a45-b9ff-e371b2ec4bd8"
      },
      "execution_count": null,
      "outputs": [
        {
          "output_type": "stream",
          "name": "stdout",
          "text": [
            "2\n",
            "3\n",
            "4\n",
            "5\n",
            "6\n",
            "7\n",
            "8\n",
            "9\n",
            "10\n"
          ]
        }
      ]
    },
    {
      "cell_type": "code",
      "source": [
        "a=1\n",
        "while a<12:\n",
        "  a=a+1\n",
        "  print(a)"
      ],
      "metadata": {
        "id": "ZOZsAkvla3nV",
        "colab": {
          "base_uri": "https://localhost:8080/"
        },
        "outputId": "28f27a8f-0bb0-43b7-8228-45637169317d"
      },
      "execution_count": null,
      "outputs": [
        {
          "output_type": "stream",
          "name": "stdout",
          "text": [
            "2\n",
            "3\n",
            "4\n",
            "5\n",
            "6\n",
            "7\n",
            "8\n",
            "9\n",
            "10\n",
            "11\n",
            "12\n"
          ]
        }
      ]
    },
    {
      "cell_type": "code",
      "source": [
        "#Nested Loop:\n",
        "for m in range(5):\n",
        "  for n in range(5):\n",
        "    print(\"m\" ,m, \"n\" ,n )\n",
        "m 0 n 0\n",
        "m 0 n 1\n",
        "m 0 n 2\n",
        "m 0 n 3\n",
        "m 0 n 4\n",
        "m 1 n 0\n",
        "m 1 n 1\n",
        "m 1 n 2\n",
        "m 1 n 3\n",
        "m 1 n 4\n",
        "m 2 n 0\n",
        "m 2 n 1\n",
        "m 2 n 2\n",
        "m 2 n 3\n",
        "m 2 n 4\n",
        "m 3 n 0\n",
        "m 3 n 1\n",
        "m 3 n 2\n",
        "m 3 n 3\n",
        "m 3 n 4\n",
        "m 4 n 0\n",
        "m 4 n 1\n",
        "m 4 n 2\n",
        "m 4 n 3\n",
        "m 4 n 4\n",
        "# a Program to dispaly *'s in Right Angled Triangled Form:\n",
        "x=int(input(\"Enter number of rows : \"))\n",
        "\n",
        "for i in range(0,x):\n",
        "  for j in range(0,i+1):\n",
        "    print(\"*\" ,end='') \n",
        "  print()\n",
        "Enter number of rows : 7\n",
        "*\n",
        "**\n",
        "***\n",
        "****\n",
        "*****\n",
        "******\n",
        "*******\n",
        "# for downwoed side:\n",
        "x=int(input(\"Number of rows : \"))\n",
        "for i in range(x+1, 0, -1):\n",
        "  for j in range(0,i):\n",
        "    print(\"*\" ,end='')\n",
        "  print()\n",
        "Number of rows : 5\n",
        "******\n",
        "*****\n",
        "****\n",
        "***\n",
        "**\n",
        "*\n",
        "#break statement:\n",
        "for i in range(5,20):\n",
        "  if i==15:\n",
        "    break\n",
        "  print(i)\n",
        "5\n",
        "6\n",
        "7\n",
        "8\n",
        "9\n",
        "10\n",
        "11\n",
        "12\n",
        "13\n",
        "14\n",
        "#using break statement:\n",
        "x=eval(input(\"Enters cars price: \"))\n",
        "for i in x:\n",
        "  if i>=500:\n",
        "    break\n",
        "  print(\"Average Budjet\" ,i)\n",
        "print()\n",
        "Enters cars price: 200, 150,350, 400, 650, 700, 300\n",
        "Average Budjet 200\n",
        "Average Budjet 150\n",
        "Average Budjet 350\n",
        "Average Budjet 400\n",
        "\n",
        "#continue statement:\n",
        "x= eval(input(\"enter your order list:=\"))\n",
        "for i in x:\n",
        "  if i>=70:\n",
        "    continue               \n",
        "  print(\"your %d burgers will be deliver in 30 mins \"%(i))\n",
        "enter your order list:=40, 50, 20, 80, 100, 55\n",
        "your 40 burgers will be deliver in 30 mins \n",
        "your 50 burgers will be deliver in 30 mins \n",
        "your 20 burgers will be deliver in 30 mins \n",
        "your 55 burgers will be deliver in 30 mins \n",
        "#else:\n",
        "x = [20,86,565,598,765,85,249,465]\n",
        "for i in x:\n",
        "  if i>=500:\n",
        "    print(\"I dont have this items\",i)\n",
        "    continue\n",
        "  else:\n",
        "    print(i)\n",
        "20\n",
        "86\n",
        "I dont have this items 565\n",
        "I dont have this items 598\n",
        "I dont have this items 765\n",
        "85\n",
        "249\n",
        "465\n",
        "#pass statement:\n",
        "for i in range(200,300):\n",
        "  if i%4==0:\n",
        "    print(i)\n",
        "  else:\n",
        "  pass\n",
        "  File \"<ipython-input-100-b419d9ebe740>\", line 6\n",
        "    pass\n",
        "       ^\n",
        "IndentationError: expected an indented block\n",
        "for i in range(100,200):\n",
        "  if i%7==0:\n",
        "    print(i)\n",
        "  else:\n",
        "    pass\n",
        "105\n",
        "112\n",
        "119\n",
        "126\n",
        "133\n",
        "140\n",
        "147\n",
        "154\n",
        "161\n",
        "168\n",
        "175\n",
        "182\n",
        "189\n",
        "196"
      ],
      "metadata": {
        "id": "ucgtqA-kisJB"
      },
      "execution_count": null,
      "outputs": []
    },
    {
      "cell_type": "code",
      "source": [
        ""
      ],
      "metadata": {
        "id": "xztwmogHisMf"
      },
      "execution_count": null,
      "outputs": []
    },
    {
      "cell_type": "code",
      "source": [
        ""
      ],
      "metadata": {
        "id": "5sh4DsOvisQQ"
      },
      "execution_count": null,
      "outputs": []
    },
    {
      "cell_type": "code",
      "source": [
        ""
      ],
      "metadata": {
        "id": "i7bkQSSxisTj"
      },
      "execution_count": null,
      "outputs": []
    },
    {
      "cell_type": "code",
      "source": [
        ""
      ],
      "metadata": {
        "id": "fSr6-S8GisWB"
      },
      "execution_count": null,
      "outputs": []
    },
    {
      "cell_type": "code",
      "source": [
        ""
      ],
      "metadata": {
        "id": "aQ3NQo_MisY9"
      },
      "execution_count": null,
      "outputs": []
    },
    {
      "cell_type": "code",
      "source": [
        ""
      ],
      "metadata": {
        "id": "H0iTprnnisb7"
      },
      "execution_count": null,
      "outputs": []
    },
    {
      "cell_type": "code",
      "source": [
        ""
      ],
      "metadata": {
        "id": "dLnjX_yAisez"
      },
      "execution_count": null,
      "outputs": []
    },
    {
      "cell_type": "code",
      "source": [
        ""
      ],
      "metadata": {
        "id": "7K1AB17zisiE"
      },
      "execution_count": null,
      "outputs": []
    },
    {
      "cell_type": "code",
      "source": [
        ""
      ],
      "metadata": {
        "id": "rFra7USniskM"
      },
      "execution_count": null,
      "outputs": []
    },
    {
      "cell_type": "code",
      "source": [
        ""
      ],
      "metadata": {
        "id": "8FCMPXtIisnm"
      },
      "execution_count": null,
      "outputs": []
    },
    {
      "cell_type": "code",
      "source": [
        ""
      ],
      "metadata": {
        "id": "GKn1F_-EisqS"
      },
      "execution_count": null,
      "outputs": []
    },
    {
      "cell_type": "code",
      "source": [
        ""
      ],
      "metadata": {
        "id": "PNiE8K9kissn"
      },
      "execution_count": null,
      "outputs": []
    },
    {
      "cell_type": "code",
      "source": [
        ""
      ],
      "metadata": {
        "id": "QwoQJ_SHisvD"
      },
      "execution_count": null,
      "outputs": []
    },
    {
      "cell_type": "code",
      "source": [
        ""
      ],
      "metadata": {
        "id": "_l5o-KvPisxf"
      },
      "execution_count": null,
      "outputs": []
    },
    {
      "cell_type": "code",
      "source": [
        ""
      ],
      "metadata": {
        "id": "g36IyB4Kis0T"
      },
      "execution_count": null,
      "outputs": []
    },
    {
      "cell_type": "code",
      "source": [
        ""
      ],
      "metadata": {
        "id": "YF9C3e0Vis3d"
      },
      "execution_count": null,
      "outputs": []
    },
    {
      "cell_type": "code",
      "source": [
        ""
      ],
      "metadata": {
        "id": "yQOTZlVeis59"
      },
      "execution_count": null,
      "outputs": []
    },
    {
      "cell_type": "code",
      "source": [
        ""
      ],
      "metadata": {
        "id": "qof3HOEJis-E"
      },
      "execution_count": null,
      "outputs": []
    },
    {
      "cell_type": "code",
      "source": [
        ""
      ],
      "metadata": {
        "id": "-MgKNKJEitAf"
      },
      "execution_count": null,
      "outputs": []
    },
    {
      "cell_type": "code",
      "source": [
        ""
      ],
      "metadata": {
        "id": "1HVm2W_-a3u_"
      },
      "execution_count": null,
      "outputs": []
    },
    {
      "cell_type": "code",
      "source": [
        ""
      ],
      "metadata": {
        "id": "bYImyXfua32c"
      },
      "execution_count": null,
      "outputs": []
    },
    {
      "cell_type": "code",
      "source": [
        ""
      ],
      "metadata": {
        "id": "Snd2tl5ta35D"
      },
      "execution_count": null,
      "outputs": []
    },
    {
      "cell_type": "code",
      "source": [
        ""
      ],
      "metadata": {
        "id": "STr3bKf_a3-_"
      },
      "execution_count": null,
      "outputs": []
    },
    {
      "cell_type": "code",
      "source": [
        ""
      ],
      "metadata": {
        "id": "dQ0XggUca4KH"
      },
      "execution_count": null,
      "outputs": []
    },
    {
      "cell_type": "code",
      "source": [
        ""
      ],
      "metadata": {
        "id": "RM3gcXP8a4NQ"
      },
      "execution_count": null,
      "outputs": []
    },
    {
      "cell_type": "code",
      "source": [
        ""
      ],
      "metadata": {
        "id": "qi1TV4Ysa4QF"
      },
      "execution_count": null,
      "outputs": []
    },
    {
      "cell_type": "code",
      "source": [
        ""
      ],
      "metadata": {
        "id": "QNOEIheUa4VA"
      },
      "execution_count": null,
      "outputs": []
    },
    {
      "cell_type": "code",
      "source": [
        ""
      ],
      "metadata": {
        "id": "KTGNmv4ja4YN"
      },
      "execution_count": null,
      "outputs": []
    },
    {
      "cell_type": "code",
      "source": [
        ""
      ],
      "metadata": {
        "id": "NIzzKf_za4dv"
      },
      "execution_count": null,
      "outputs": []
    }
  ]
}