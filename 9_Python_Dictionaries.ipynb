{
  "nbformat": 4,
  "nbformat_minor": 0,
  "metadata": {
    "colab": {
      "name": "9_Python_Dictionaries.ipynb",
      "provenance": [],
      "authorship_tag": "ABX9TyPnoJiiy3hs4jIXKrJZLmEV",
      "include_colab_link": true
    },
    "kernelspec": {
      "name": "python3",
      "display_name": "Python 3"
    },
    "language_info": {
      "name": "python"
    }
  },
  "cells": [
    {
      "cell_type": "markdown",
      "metadata": {
        "id": "view-in-github",
        "colab_type": "text"
      },
      "source": [
        "<a href=\"https://colab.research.google.com/github/AkashMuttalwad/python-_Basic-/blob/main/9_Python_Dictionaries.ipynb\" target=\"_parent\"><img src=\"https://colab.research.google.com/assets/colab-badge.svg\" alt=\"Open In Colab\"/></a>"
      ]
    },
    {
      "cell_type": "markdown",
      "source": [
        "# **Dictionary Data Structure**\n",
        "\n",
        "֍We can use List, Tuple and Set to represent a group of individual objects as a single entity\n",
        "\n",
        "֍ If we want to represent a group of objects as key-value pairs then we should go for Dictionary.\n",
        "\n",
        "rollno ---- name\n",
        "\n",
        "phone number -- address\n",
        "\n",
        "ipaddress --- domain name\n",
        "\n",
        "֍Duplicate keys are not allowed but values can be duplicated.\n",
        "\n",
        "֍Hetrogeneous objects are allowed for both key and values.\n",
        "\n",
        "֍Insertion order is not preserved.\n",
        "\n",
        "֍Dictionaries are mutable.\n",
        "\n",
        "֍Dictionaries are dynamic.\n",
        "\n",
        "֍Indexing and slicing concepts are not applicable."
      ],
      "metadata": {
        "id": "ZZOeoEF1Qwjj"
      }
    },
    {
      "cell_type": "markdown",
      "source": [
        "# **How to create a Dictionary**"
      ],
      "metadata": {
        "id": "ZvYA4t_nQwma"
      }
    },
    {
      "cell_type": "code",
      "source": [
        "# Creating a empty dictionary\n",
        "# Syntax: d={} OR d=dict()\n",
        "d={}\n",
        "d[100]=\"Arvind\"\n",
        "d[200]=\"Sandeep\"\n",
        "d[300]=\"Yogesh\"\n",
        "d[400]=\"Satish\"\n",
        "print(d)"
      ],
      "metadata": {
        "colab": {
          "base_uri": "https://localhost:8080/"
        },
        "id": "ypoQpesaRYak",
        "outputId": "516a4b5f-c232-4559-e2de-7e78f445e9b8"
      },
      "execution_count": 1,
      "outputs": [
        {
          "output_type": "stream",
          "name": "stdout",
          "text": [
            "{100: 'Arvind', 200: 'Sandeep', 300: 'Yogesh', 400: 'Satish'}\n"
          ]
        }
      ]
    },
    {
      "cell_type": "code",
      "source": [
        "# If we know the values, we can directly create dict as follow:\n",
        "d = {500: 'shital', 150: 'Sandeep', 300: 'akash',400:'Satish'}\n",
        "print(d)"
      ],
      "metadata": {
        "colab": {
          "base_uri": "https://localhost:8080/"
        },
        "id": "7qN9VKIJRYeD",
        "outputId": "5792ae7d-a8eb-4bf4-90a1-f671797df8d7"
      },
      "execution_count": 3,
      "outputs": [
        {
          "output_type": "stream",
          "name": "stdout",
          "text": [
            "{500: 'shital', 150: 'Sandeep', 300: 'akash', 400: 'Satish'}\n"
          ]
        }
      ]
    },
    {
      "cell_type": "markdown",
      "source": [
        "How to access data from the dictionary?"
      ],
      "metadata": {
        "id": "bIA5uVvhRvMl"
      }
    },
    {
      "cell_type": "code",
      "source": [
        "# We can access data by using keys.\n",
        "d = {100: 'Manoj', 200: 'Sandeep', 300: 'Yogesh',400:'akash'}\n",
        "d[400]"
      ],
      "metadata": {
        "colab": {
          "base_uri": "https://localhost:8080/",
          "height": 35
        },
        "id": "U4CmD9ciRYhT",
        "outputId": "454d9b7e-071e-43f2-bb84-fdbdac318bdb"
      },
      "execution_count": 4,
      "outputs": [
        {
          "output_type": "execute_result",
          "data": {
            "text/plain": [
              "'akash'"
            ],
            "application/vnd.google.colaboratory.intrinsic+json": {
              "type": "string"
            }
          },
          "metadata": {},
          "execution_count": 4
        }
      ]
    },
    {
      "cell_type": "markdown",
      "source": [
        "# **How to Update Dictionaries?**\n",
        "֍ syntax: d[key] = value\n",
        "\n",
        "֍ If the key is not available then a new entry will be added to the dictionary with the specified key-value pair.\n",
        "\n",
        "֍If the key is already available then old value will be replaced with new value."
      ],
      "metadata": {
        "id": "R-5wpgzRR5au"
      }
    },
    {
      "cell_type": "code",
      "source": [
        "d={100:\"shriniwas\",200:\"sushil\",300:\"akash\"}\n",
        "print(d)\n",
        "d[400]=\"vinayak\"\n",
        "print(d)\n",
        "d[100]=\"amol\"\n",
        "print(d)\n",
        "d[400]=\"akash\"\n",
        "print(d)"
      ],
      "metadata": {
        "colab": {
          "base_uri": "https://localhost:8080/"
        },
        "id": "pjZoZU4ERYkZ",
        "outputId": "b1abe767-e9af-481f-dae0-f31e3ca6f221"
      },
      "execution_count": 6,
      "outputs": [
        {
          "output_type": "stream",
          "name": "stdout",
          "text": [
            "{100: 'shriniwas', 200: 'sushil', 300: 'akash'}\n",
            "{100: 'shriniwas', 200: 'sushil', 300: 'akash', 400: 'vinayak'}\n",
            "{100: 'amol', 200: 'sushil', 300: 'akash', 400: 'vinayak'}\n",
            "{100: 'amol', 200: 'sushil', 300: 'akash', 400: 'akash'}\n"
          ]
        }
      ]
    },
    {
      "cell_type": "markdown",
      "source": [
        "# **How to Delete Elements from Dictionary?**"
      ],
      "metadata": {
        "id": "GcJW6dahSSK1"
      }
    },
    {
      "cell_type": "code",
      "source": [
        "# 1. clear(): To remove all entries from the dictionary\n",
        "d={100:\"apple\",200:\"ball\",300:\"cat\"}\n",
        "print(d)\n",
        "d.clear()\n",
        "print(d)"
      ],
      "metadata": {
        "colab": {
          "base_uri": "https://localhost:8080/"
        },
        "id": "YBv2anblRYpw",
        "outputId": "f59c0d55-1ed1-421a-969d-64a9432685c3"
      },
      "execution_count": 11,
      "outputs": [
        {
          "output_type": "stream",
          "name": "stdout",
          "text": [
            "{100: 'apple', 200: 'ball', 300: 'cat'}\n",
            "{}\n"
          ]
        }
      ]
    },
    {
      "cell_type": "code",
      "source": [
        "# 3. del(): To delete total dict.\n",
        "d={100:\"apple\",200:\"ball\",300:\"cat\"}\n",
        "print(d)\n",
        "del d\n",
        "print(d) # we have deleted the dict hence throwing error"
      ],
      "metadata": {
        "colab": {
          "base_uri": "https://localhost:8080/",
          "height": 217
        },
        "id": "szFKux5zRYsc",
        "outputId": "9f2e663b-7dad-4d3d-a95a-7caef4d01f1c"
      },
      "execution_count": 12,
      "outputs": [
        {
          "output_type": "stream",
          "name": "stdout",
          "text": [
            "{100: 'apple', 200: 'ball', 300: 'cat'}\n"
          ]
        },
        {
          "output_type": "error",
          "ename": "NameError",
          "evalue": "ignored",
          "traceback": [
            "\u001b[0;31m---------------------------------------------------------------------------\u001b[0m",
            "\u001b[0;31mNameError\u001b[0m                                 Traceback (most recent call last)",
            "\u001b[0;32m<ipython-input-12-d36d1a31891d>\u001b[0m in \u001b[0;36m<module>\u001b[0;34m()\u001b[0m\n\u001b[1;32m      3\u001b[0m \u001b[0mprint\u001b[0m\u001b[0;34m(\u001b[0m\u001b[0md\u001b[0m\u001b[0;34m)\u001b[0m\u001b[0;34m\u001b[0m\u001b[0;34m\u001b[0m\u001b[0m\n\u001b[1;32m      4\u001b[0m \u001b[0;32mdel\u001b[0m \u001b[0md\u001b[0m\u001b[0;34m\u001b[0m\u001b[0;34m\u001b[0m\u001b[0m\n\u001b[0;32m----> 5\u001b[0;31m \u001b[0mprint\u001b[0m\u001b[0;34m(\u001b[0m\u001b[0md\u001b[0m\u001b[0;34m)\u001b[0m \u001b[0;31m# we have deleted the dict hence throwing error\u001b[0m\u001b[0;34m\u001b[0m\u001b[0;34m\u001b[0m\u001b[0m\n\u001b[0m",
            "\u001b[0;31mNameError\u001b[0m: name 'd' is not defined"
          ]
        }
      ]
    },
    {
      "cell_type": "markdown",
      "source": [
        "## **Important Functions of Dictionary:**"
      ],
      "metadata": {
        "id": "dcgF98_MS4oV"
      }
    },
    {
      "cell_type": "code",
      "source": [
        "#1. dict(): to create a dict.\n",
        "d=dict()\n",
        "type(d)"
      ],
      "metadata": {
        "colab": {
          "base_uri": "https://localhost:8080/"
        },
        "id": "ldeu7_CYRYuk",
        "outputId": "f362df77-18a1-4e70-9dba-6832bce9687c"
      },
      "execution_count": 13,
      "outputs": [
        {
          "output_type": "execute_result",
          "data": {
            "text/plain": [
              "dict"
            ]
          },
          "metadata": {},
          "execution_count": 13
        }
      ]
    },
    {
      "cell_type": "code",
      "source": [
        "# How to add elements inside dict function\n",
        "d = dict([(100,\"apple\"),(200,\"ball\"),(300,\"cat\")])\n",
        "d"
      ],
      "metadata": {
        "colab": {
          "base_uri": "https://localhost:8080/"
        },
        "id": "l5-qj8NdRYxc",
        "outputId": "a0c6df72-353c-4e0e-e654-d44c1d082c50"
      },
      "execution_count": 14,
      "outputs": [
        {
          "output_type": "execute_result",
          "data": {
            "text/plain": [
              "{100: 'apple', 200: 'ball', 300: 'cat'}"
            ]
          },
          "metadata": {},
          "execution_count": 14
        }
      ]
    },
    {
      "cell_type": "code",
      "source": [
        "#2. len(): number of items in the dict\n",
        "len(d)"
      ],
      "metadata": {
        "colab": {
          "base_uri": "https://localhost:8080/"
        },
        "id": "gHgKHyz3RY0A",
        "outputId": "f32be259-d89f-444c-f3b7-7b0a98059f3d"
      },
      "execution_count": 15,
      "outputs": [
        {
          "output_type": "execute_result",
          "data": {
            "text/plain": [
              "3"
            ]
          },
          "metadata": {},
          "execution_count": 15
        }
      ]
    },
    {
      "cell_type": "code",
      "source": [
        "#3. get(): to get the value associated with the key\n",
        "'''  Syntax: d.get(key)\n",
        " If the key is available then returns the corresponding value otherwise returns None.It\n",
        " wont raise any error.'''\n",
        "d.get(100)"
      ],
      "metadata": {
        "colab": {
          "base_uri": "https://localhost:8080/",
          "height": 35
        },
        "id": "sUhy5LQZRY27",
        "outputId": "80751116-b971-4da1-a157-dbf3f9729b1d"
      },
      "execution_count": 19,
      "outputs": [
        {
          "output_type": "execute_result",
          "data": {
            "text/plain": [
              "'apple'"
            ],
            "application/vnd.google.colaboratory.intrinsic+json": {
              "type": "string"
            }
          },
          "metadata": {},
          "execution_count": 19
        }
      ]
    },
    {
      "cell_type": "markdown",
      "source": [
        "# **Homework**\n",
        "**Other Important Functions of Disctionary:**"
      ],
      "metadata": {
        "id": "TtaXHyTZTUC2"
      }
    },
    {
      "cell_type": "markdown",
      "source": [
        "@ copy() : Returns a copy of the dictionary\n",
        "\n",
        "@fromkeys() : Returns a dictionary with the specified keys and value\n",
        "\n",
        "@items() : Returns a list containing a tuple for each key value pair\n",
        "\n",
        "@keys() : Returns a list containing the dictionary's keys\n",
        "\n",
        "@pop() : Removes the element with the specified key\n",
        "\n",
        "@popitem() : Removes the last inserted key-value pair\n",
        "\n",
        "@setdefault() : Returns the value of the specified key. If the key does not exist: insert the key, with the specified value\n",
        "\n",
        "@values() : Returns a list of all the values in the dictionary"
      ],
      "metadata": {
        "id": "dVUChu-aTnn2"
      }
    },
    {
      "cell_type": "code",
      "source": [
        "#Copy method: \n",
        "d = dict([(100,\"apple\"),(200,\"ball\"),(300,\"cat\")])\n",
        "e=d.copy()\n",
        "print(d)\n",
        "print(e)"
      ],
      "metadata": {
        "colab": {
          "base_uri": "https://localhost:8080/"
        },
        "id": "ed-0gFZdTweN",
        "outputId": "5ffa600e-41af-4996-ae4b-39d52358ba75"
      },
      "execution_count": 20,
      "outputs": [
        {
          "output_type": "stream",
          "name": "stdout",
          "text": [
            "{100: 'apple', 200: 'ball', 300: 'cat'}\n",
            "{100: 'apple', 200: 'ball', 300: 'cat'}\n"
          ]
        }
      ]
    },
    {
      "cell_type": "code",
      "source": [
        "#fromkeys method:\n",
        "x = ('key1', 'key2', 'key3')\n",
        "y=dict.fromkeys(x)\n",
        "print(y)"
      ],
      "metadata": {
        "colab": {
          "base_uri": "https://localhost:8080/"
        },
        "id": "peWPbb58Twhk",
        "outputId": "fec37f44-9cbd-407f-b4b3-c99879dbd1fc"
      },
      "execution_count": 21,
      "outputs": [
        {
          "output_type": "stream",
          "name": "stdout",
          "text": [
            "{'key1': None, 'key2': None, 'key3': None}\n"
          ]
        }
      ]
    },
    {
      "cell_type": "code",
      "source": [
        "#keys method:\n",
        "d = dict([(100,\"apple\"),(200,\"ball\"),(300,\"cat\")])\n",
        "e=dict.keys(d)\n",
        "print(e)"
      ],
      "metadata": {
        "colab": {
          "base_uri": "https://localhost:8080/"
        },
        "id": "rm_cPMQzTwkt",
        "outputId": "99f00bb7-6fba-4c07-f96c-3e62698f8031"
      },
      "execution_count": 22,
      "outputs": [
        {
          "output_type": "stream",
          "name": "stdout",
          "text": [
            "dict_keys([100, 200, 300])\n"
          ]
        }
      ]
    },
    {
      "cell_type": "code",
      "source": [
        "#pop method:\n",
        "d = dict([(100,\"apple\"),(200,\"ball\"),(300,\"cat\")])\n",
        "print(d)\n",
        "e=d.pop(100,\"apple\")\n",
        "print(e)"
      ],
      "metadata": {
        "colab": {
          "base_uri": "https://localhost:8080/"
        },
        "id": "hSydrAbpTwnC",
        "outputId": "f7df98f9-a7d4-486e-b247-7a71b9fd8a80"
      },
      "execution_count": 23,
      "outputs": [
        {
          "output_type": "stream",
          "name": "stdout",
          "text": [
            "{100: 'apple', 200: 'ball', 300: 'cat'}\n",
            "apple\n"
          ]
        }
      ]
    },
    {
      "cell_type": "markdown",
      "source": [
        "# **What is PEP?** (Python Enhancement Proposal )\n",
        "PEP stands for Python Enhancement Proposal, and there are several of them. A PEP is a document that describes new features proposed for Python and documents aspects of Python, like design and style, for the community.\n",
        "\n",
        "Adaptive a nice coding style makes the code more readable. The code becomes easy for end-user."
      ],
      "metadata": {
        "id": "lmYcxRrAUCcj"
      }
    },
    {
      "cell_type": "markdown",
      "source": [
        "# **what is pep 8 in python**?\n",
        "PEP 8, sometimes spelled PEP8 or PEP-8, is a document that provides guidelines and best practices on how to write Python code. It was written in 2001 by Guido van Rossum, Barry Warsaw, and Nick Coghlan. The primary focus of PEP 8 is to improve the readability and consistency of Python code."
      ],
      "metadata": {
        "id": "-30rtQxbVIDC"
      }
    },
    {
      "cell_type": "markdown",
      "source": [
        "# **Why We Need PEP 8**\n",
        "As Guido van Rossum said, “Code is read much more often than it is written.” You may spend a few minutes, or a whole day, writing a piece of code to process user authentication. Once you’ve written it, you’re never going to write it again. But you’ll definitely have to read it again. That piece of code might remain part of a project you’re working on. Every time you go back to that file, you’ll have to remember what that code does and why you wrote it, so readability matters.\n",
        "\n",
        "If you’re new to Python, it can be difficult to remember what a piece of code does a few days, or weeks, after you wrote it. If you follow PEP 8, you can be sure that you’ve named your variables well. You’ll know that you’ve added enough whitespace so it’s easier to follow logical steps in your code. You’ll also have commented your code well. All this will mean your code is more readable and easier to come back to. As a beginner, following the rules of PEP 8 can make learning Python a much more pleasant task.\n"
      ],
      "metadata": {
        "id": "9DT4rIJxVqac"
      }
    },
    {
      "cell_type": "markdown",
      "source": [
        "# **Naming Convention**\n",
        "\n",
        "When we write the code, we need to assign name to many things such as variables, functions, classes, packages, and a lot more things. Selecting a proper name will save time and energy. When we look back to the file after sometime, we can easily recall what a certain variable, function, or class represents. Developers should avoid choosing inappropriate names.\n",
        "\n",
        "**Naming Styles**\n",
        "\n",
        "Type\tNaming Convention\tExamples\n",
        "Function\tUse a lowercase word or words. Separate words by underscores to improve readability.\tfunction, my_function\n",
        "Variable\tUse a lowercase single letter, word, or words. Separate words with underscores to improve readability.\tx, var, my_variable\n",
        "Class\tStart each word with a capital letter. Do not separate words with underscores. This style is called camel case.\tModel, MyClass\n",
        "Method\tUse a lowercase word or words. Separate words with underscores to improve readability.\tclass_method, method\n",
        "Constant\tUse an uppercase single letter, word, or words. Separate words with underscores to improve readability.\tCONSTANT, MY_CONSTANT, MY_LONG_CONSTANT\n",
        "Module\tUse a short, lowercase word or words. Separate words with underscores to improve readability.\tmodule.py, my_module.py\n",
        "Package\tUse a short, lowercase word or words. Do not separate words with underscores.\tpackage, mypackage"
      ],
      "metadata": {
        "id": "YaOwvZAuVqkV"
      }
    },
    {
      "cell_type": "markdown",
      "source": [
        "# **Code Layout**\n",
        "**Table of Contents**\n",
        "\n",
        "Why We Need PEP 8\n",
        "\n",
        "Naming Conventions\n",
        "\n",
        "Code Layout\n",
        "\n",
        "Indentation\n",
        "\n",
        "Comments\n",
        "\n",
        "Whitespace in Expressions and Statements\n",
        "\n",
        "Programming Recommendations\n",
        "\n",
        "When to Ignore PEP 8\n",
        "\n",
        "Tips and Tricks to Help Ensure Your Code Follows PEP 8\n",
        "\n",
        "Conclusion"
      ],
      "metadata": {
        "id": "PSKt622fYU1M"
      }
    },
    {
      "cell_type": "markdown",
      "source": [
        "# What are the rules for writing a program?\n",
        "Rule 1: Follow the Style Guide. ...\n",
        "\n",
        "Rule 2: Create Descriptive Names. ...\n",
        "\n",
        "Rule 3: Comment and Document. ...\n",
        "\n",
        "Rule 4: Don't Repeat Yourself. ...\n",
        "\n",
        "Rule 5: Check for Errors and Respond to Them. ...\n",
        "\n",
        "Rule 6: Split Your Code into Short, Focused Units. ...\n",
        "\n",
        "Rule 7: Use Framework APIs and Third-Party Libraries."
      ],
      "metadata": {
        "id": "XT05tr5fWjt0"
      }
    }
  ]
}