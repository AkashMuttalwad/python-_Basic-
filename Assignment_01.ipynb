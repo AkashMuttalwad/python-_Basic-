{
  "nbformat": 4,
  "nbformat_minor": 0,
  "metadata": {
    "colab": {
      "name": "Assignment 01",
      "provenance": [],
      "authorship_tag": "ABX9TyOmiFmH/cKHAi+zdR2FFCQk",
      "include_colab_link": true
    },
    "kernelspec": {
      "name": "python3",
      "display_name": "Python 3"
    },
    "language_info": {
      "name": "python"
    }
  },
  "cells": [
    {
      "cell_type": "markdown",
      "metadata": {
        "id": "view-in-github",
        "colab_type": "text"
      },
      "source": [
        "<a href=\"https://colab.research.google.com/github/AkashMuttalwad/python-_Basic-/blob/main/Assignment_01.ipynb\" target=\"_parent\"><img src=\"https://colab.research.google.com/assets/colab-badge.svg\" alt=\"Open In Colab\"/></a>"
      ]
    },
    {
      "cell_type": "markdown",
      "source": [
        "\n",
        "# **Assignment 01**"
      ],
      "metadata": {
        "id": "aeFX1WG7KOky"
      }
    },
    {
      "cell_type": "markdown",
      "source": [
        "What is a List? \n",
        "\n",
        "֍ If we want to represent a group of individual objects as a single entity \n",
        "\n",
        "֍ List is dynamic because based on our requirement we can increase the size and decrease the size.\n",
        "\n",
        "֍ In List the elements will be placed within square brackets and with comma seperator.\n",
        "֍ We can differentiate duplicate elements by using index and we can preserve insertion order by using index. \n",
        "\n",
        "֍ Python supports both positive and negative indexes. +ve index means from left to right where as negative index means right to left.\n",
        "\n",
        "֍list is mutable we can be be added or remove operations  in list "
      ],
      "metadata": {
        "id": "ZRalHhlOKVon"
      }
    },
    {
      "cell_type": "code",
      "source": [
        "#example of LIst \n",
        "list=[10,20,30,40,50,60] #List the elements will be placed within square brackets\n",
        "print(list)\n",
        "print(type(list))"
      ],
      "metadata": {
        "colab": {
          "base_uri": "https://localhost:8080/"
        },
        "id": "Igk1fi58KaAF",
        "outputId": "4ad8562c-8b25-465f-ce72-1e351680e2d5"
      },
      "execution_count": null,
      "outputs": [
        {
          "output_type": "stream",
          "name": "stdout",
          "text": [
            "[10, 20, 30, 40, 50, 60]\n",
            "<class 'list'>\n"
          ]
        }
      ]
    },
    {
      "cell_type": "markdown",
      "source": [
        "# **What is a Tuple?**\n",
        "֍ Tuple is exactly same as List except that it is immutable. i.e once we creates Tuple object, we cannot perform any changes in that object. Hence Tuple is Read only version of List.\n",
        "\n",
        "֍ If our data is fixed and never changes then we should go for Tuple.\n",
        "\n",
        "֍ Insertion Order is preserved Duplicates are allowed Heterogeneous objects are allowed.\n",
        "\n",
        " ֍ index will play very important role in Tuple also.\n",
        " Tuple support both +ve and -ve index. +ve index means forward direction (from left to right) and -ve index means backward direction (from right to left)\n",
        "\n",
        " ֍ We can represent Tuple elements within Parenthesis and with comma seperator."
      ],
      "metadata": {
        "id": "ciK9i1qWL7Eq"
      }
    },
    {
      "cell_type": "code",
      "source": [
        "x=10,20,30,40,50,60 #parenthesis are optional in Tupel\n",
        "print(x)\n",
        "print(type(x))"
      ],
      "metadata": {
        "colab": {
          "base_uri": "https://localhost:8080/"
        },
        "id": "ezC2OJGNKaQ4",
        "outputId": "769166e7-64ca-412d-90b0-fa1c2d2d09b4"
      },
      "execution_count": null,
      "outputs": [
        {
          "output_type": "stream",
          "name": "stdout",
          "text": [
            "(10, 20, 30, 40, 50, 60)\n",
            "<class 'tuple'>\n"
          ]
        }
      ]
    },
    {
      "cell_type": "markdown",
      "source": [
        "**What is the difference between List and Tuple?**\n",
        "\n",
        "# **֍LIST **\n",
        "- List is a group of separator values in square bracket , in list square bracket is compalsary #[1,2,3,4,5]\n",
        "\n",
        "- list objectes are mutable , that's why once we creat a list we can perform any changes in list \n",
        "\n",
        "- if content is not fix then we should go for the list \n",
        "\n",
        "- list objectes can not be used keys dictinories because keys are immutable\n",
        "\n",
        "**֍TUPLE**\n",
        "\n",
        "- Tupel is group of comman sepreated values within paranthasis and paranthasis also optional in tupal (10,20,30,40,50) or 10,20,30,40,50\n",
        "\n",
        "- tupel objects are immutable , that's why once we creat tuple we can not perform changes in tupal \n",
        "\n",
        "- if content is fix then we should go for the tupal \n",
        "\n",
        "- tupal objects can be used as keys of dictinories beacuse keys are immutable and tupal also immutable "
      ],
      "metadata": {
        "id": "AVyQYdf8Ng5J"
      }
    },
    {
      "cell_type": "markdown",
      "source": [
        "**Python Program to find the largest element in the list**?"
      ],
      "metadata": {
        "id": "WMruOA5uQsmo"
      }
    },
    {
      "cell_type": "code",
      "source": [
        "marks = [50,55,75,85,65,48,35,25,99,95]\n",
        "max_mark=max(marks)\n",
        "print(max_mark)\n"
      ],
      "metadata": {
        "colab": {
          "base_uri": "https://localhost:8080/"
        },
        "id": "9ZL7Uu0iKaXp",
        "outputId": "d4e141d2-d883-42e8-f25f-d08596a97bde"
      },
      "execution_count": null,
      "outputs": [
        {
          "output_type": "stream",
          "name": "stdout",
          "text": [
            "99\n"
          ]
        }
      ]
    },
    {
      "cell_type": "markdown",
      "source": [
        "**Python program to interchange first and last elements in a list.?**\n",
        "\n",
        "- we can remove , interchange elements with the ghelp of (.pop function )"
      ],
      "metadata": {
        "id": "1ikxo_67TvCX"
      }
    },
    {
      "cell_type": "code",
      "source": [
        "a=[20,30,40,45,\"akash\",100]\n",
        "\n",
        "b= a[0]  \n",
        "c= a[-1]\n",
        "a[0]=c    #swapping\n",
        "a[-1]=b\n",
        "print(a)\n"
      ],
      "metadata": {
        "id": "Vn5OIk2iKaaf",
        "colab": {
          "base_uri": "https://localhost:8080/"
        },
        "outputId": "c22542ec-3c57-48da-a847-af5880d381f9"
      },
      "execution_count": null,
      "outputs": [
        {
          "output_type": "stream",
          "name": "stdout",
          "text": [
            "[100, 30, 40, 45, 'akash', 20]\n"
          ]
        }
      ]
    },
    {
      "cell_type": "markdown",
      "source": [
        " # **Python program to swap two elements in a list**  ?\n",
        "\n",
        "- we can swap elements with the help of #swap function \n"
      ],
      "metadata": {
        "id": "vqPdQMSlTLLs"
      }
    },
    {
      "cell_type": "code",
      "source": [
        "list= [10,20,30,80,90,50]\n",
        "pos1,pos2=2,5\n",
        "print(list)\n",
        "print(\"swapped list:\",(list,pos1-1,pos2-1))"
      ],
      "metadata": {
        "colab": {
          "base_uri": "https://localhost:8080/"
        },
        "id": "ZRDpZ2qhTL2d",
        "outputId": "f683bbe0-380d-48ef-b5f4-2e3465b75113"
      },
      "execution_count": null,
      "outputs": [
        {
          "output_type": "stream",
          "name": "stdout",
          "text": [
            "[10, 20, 30, 80, 90, 50]\n",
            "swapped list: ([10, 20, 30, 80, 90, 50], 1, 4)\n"
          ]
        }
      ]
    },
    {
      "cell_type": "markdown",
      "source": [
        "# **Python program to Reverse a List ?**\n",
        "\n",
        "we can Reverse a python program with the help of #Reverse function \n"
      ],
      "metadata": {
        "id": "022yNAfPgUMQ"
      }
    },
    {
      "cell_type": "code",
      "source": [
        "x = [20,30,40,50,60,\"akash\",\"ajay\",50]\n",
        "x.reverse()#reverse function\n",
        "print(x)\n",
        "\n",
        "\n"
      ],
      "metadata": {
        "colab": {
          "base_uri": "https://localhost:8080/"
        },
        "id": "WmmVQub1TMC-",
        "outputId": "be456b62-6d1c-478d-f316-a0614d424bef"
      },
      "execution_count": null,
      "outputs": [
        {
          "output_type": "stream",
          "name": "stdout",
          "text": [
            "[50, 'ajasy', 'akash', 60, 50, 40, 30, 20]\n"
          ]
        }
      ]
    },
    {
      "cell_type": "markdown",
      "source": [
        "# **Python program to count occurrences of an element in a list.**?\n",
        "- with the help of count function we can find occurance of elements in python "
      ],
      "metadata": {
        "id": "CixwErF_kXB_"
      }
    },
    {
      "cell_type": "code",
      "source": [
        "marks=[50,35,80,85,99,85,40,50,40,50,60,50,80,95,95,80,60]\n",
        "marks.count(80) #occuranceor count"
      ],
      "metadata": {
        "colab": {
          "base_uri": "https://localhost:8080/"
        },
        "id": "noJFBQbBTMFp",
        "outputId": "8773dc4c-bafa-4952-8308-0398dbea6b69"
      },
      "execution_count": null,
      "outputs": [
        {
          "output_type": "execute_result",
          "data": {
            "text/plain": [
              "3"
            ]
          },
          "metadata": {},
          "execution_count": 58
        }
      ]
    },
    {
      "cell_type": "markdown",
      "source": [
        "# **Python program to find the sum of elements in a list.**?\n",
        "- with the help of Sum function we can find the sum of elements in python \n"
      ],
      "metadata": {
        "id": "nc6VhWxKlICB"
      }
    },
    {
      "cell_type": "code",
      "source": [
        "a=[10,50,80,90,90,150]\n",
        "sum=0\n",
        "for i in a:\n",
        "  sum=sum+i\n",
        "  print(sum)"
      ],
      "metadata": {
        "colab": {
          "base_uri": "https://localhost:8080/"
        },
        "id": "aAUsMZa8TMH_",
        "outputId": "d60ea09c-3e68-4df5-b723-e108e92b46af"
      },
      "execution_count": null,
      "outputs": [
        {
          "output_type": "stream",
          "name": "stdout",
          "text": [
            "10\n",
            "60\n",
            "140\n",
            "230\n",
            "320\n",
            "470\n"
          ]
        }
      ]
    },
    {
      "cell_type": "markdown",
      "source": [
        "# **Python program to Multiply all numbers in the list**\n",
        "\n",
        "- with the help of multipication function we can multiply the elements \n"
      ],
      "metadata": {
        "id": "27afmdPynTXO"
      }
    },
    {
      "cell_type": "code",
      "source": [
        "x= [50,202,23,245,555]\n",
        "mul = 1     \n",
        "for i in x:\n",
        "  mul = mul*i\n",
        "print(\"multiply of list :\",mul)"
      ],
      "metadata": {
        "colab": {
          "base_uri": "https://localhost:8080/"
        },
        "id": "Bg781zojmpyP",
        "outputId": "9a9bd28e-6c0b-4581-cf49-55bff9d202c7"
      },
      "execution_count": null,
      "outputs": [
        {
          "output_type": "stream",
          "name": "stdout",
          "text": [
            "multiply of list : 31586992500\n"
          ]
        }
      ]
    },
    {
      "cell_type": "markdown",
      "source": [
        "# **What are the ways to find the length of a list ?**\n",
        "- we can find the lenght of python program with the help of (len function )"
      ],
      "metadata": {
        "id": "g8810Q1boN4X"
      }
    },
    {
      "cell_type": "code",
      "source": [
        "a=[10,50,50,'akash',4,45,45]\n",
        "len(a)"
      ],
      "metadata": {
        "colab": {
          "base_uri": "https://localhost:8080/"
        },
        "id": "KxN5wnsump02",
        "outputId": "4cb8ee7c-c509-47cd-ac46-8b0f34a1ac74"
      },
      "execution_count": null,
      "outputs": [
        {
          "output_type": "execute_result",
          "data": {
            "text/plain": [
              "7"
            ]
          },
          "metadata": {},
          "execution_count": 72
        }
      ]
    },
    {
      "cell_type": "markdown",
      "source": [
        "# ** Python program to find the smallest and largest number in a list (Without min-max function**?"
      ],
      "metadata": {
        "id": "sVBHgBoSo0Sf"
      }
    },
    {
      "cell_type": "code",
      "source": [
        "a = int(input(\"Enter a number : \"))\n",
        "b= int(input(\"Enter a number : \"))\n",
        "c= int(input(\"Enter a number : \"))\n",
        "\n",
        "\n",
        "if a>b and a>c :\n",
        "  print(\"Largest number is :\", a)\n",
        "elif b>c:\n",
        "  print(\"Largest number is : \",b)\n",
        "else :\n",
        "  print(\"Largest number is : \",c)"
      ],
      "metadata": {
        "colab": {
          "base_uri": "https://localhost:8080/"
        },
        "id": "hodosAZYmp3Y",
        "outputId": "8564129a-f94c-4bda-d2b8-09b7be4624b8"
      },
      "execution_count": null,
      "outputs": [
        {
          "output_type": "stream",
          "name": "stdout",
          "text": [
            "Enter a number : 45\n",
            "Enter a number : 78\n",
            "Enter a number : 41\n",
            "Largest number is :  78\n"
          ]
        }
      ]
    },
    {
      "cell_type": "markdown",
      "source": [
        "# Python Program to find the area of a circle ?**bold text**\n",
        "-pir*2 is the formula for area of circule \n",
        "- pi value = 3.14 But we need to import math dict. for the value of pi\n",
        "\n"
      ],
      "metadata": {
        "id": "weAJJJMwpyYd"
      }
    },
    {
      "cell_type": "code",
      "source": [
        "import math\n",
        "r= int(input(\"the value of the radius\"))\n",
        "a=3.14*r**2\n",
        "print(\"area of the circule:\",a)"
      ],
      "metadata": {
        "colab": {
          "base_uri": "https://localhost:8080/"
        },
        "id": "_AP3L6iAmp6J",
        "outputId": "267586b0-f11b-4b53-ee1a-0da376e9f782"
      },
      "execution_count": null,
      "outputs": [
        {
          "output_type": "stream",
          "name": "stdout",
          "text": [
            "the value of the radius5\n",
            "area of the circule: 78.5\n"
          ]
        }
      ]
    },
    {
      "cell_type": "code",
      "source": [
        "#formula of area of circule A=pi r square \n",
        "import math \n",
        "\n",
        "x=input(\"Enter radius of circule\")\n",
        "r=int(x)\n",
        "a=3.14*r**2\n",
        "print(\"area of circule\",a)"
      ],
      "metadata": {
        "id": "sYk3m4vWmp-y",
        "colab": {
          "base_uri": "https://localhost:8080/"
        },
        "outputId": "54d07877-bc56-47af-b295-6650899c9bb5"
      },
      "execution_count": 1,
      "outputs": [
        {
          "output_type": "stream",
          "name": "stdout",
          "text": [
            "Enter radius of circule87\n",
            "area of circule 23766.66\n"
          ]
        }
      ]
    },
    {
      "cell_type": "markdown",
      "source": [
        "# **Take inputs from the user to make a list. Again take one input from the user and search it in the list and delete that element, if found. Iterate over a list using for loop.**?"
      ],
      "metadata": {
        "id": "8sWXP7pd47Xz"
      }
    },
    {
      "cell_type": "code",
      "source": [
        "a=eval (input(\"enter the list\"))\n",
        "c=[]\n",
        "b=eval(input(\"find in list\")) #elements in list or not \n",
        "print(b in a)\n"
      ],
      "metadata": {
        "id": "hOoUyXACmqC1",
        "colab": {
          "base_uri": "https://localhost:8080/"
        },
        "outputId": "69d7660f-1b9b-4ce5-eb0b-e5d39d57a037"
      },
      "execution_count": 5,
      "outputs": [
        {
          "output_type": "stream",
          "name": "stdout",
          "text": [
            "enter the list10,20,30,40,50\n",
            "find in list40\n",
            "True\n"
          ]
        }
      ]
    },
    {
      "cell_type": "markdown",
      "source": [
        "# **You are given a list of integer elements. Make a new list that will store a square of elements of the previous list. (With and without list comprehension ?**\n",
        "\n",
        "i. Input_list = [2,5,6,12]\n",
        "\n",
        "ii. Output_list = [4,25,36,144]"
      ],
      "metadata": {
        "id": "3U3hC-AP8mPh"
      }
    },
    {
      "cell_type": "code",
      "source": [
        "a=[2,5,6,12]\n",
        "for i in a:\n",
        "  i=i*i\n",
        "  print(i)"
      ],
      "metadata": {
        "id": "xi20CMOumqKh",
        "colab": {
          "base_uri": "https://localhost:8080/"
        },
        "outputId": "65449f68-8f88-4bac-a45c-4a96bd4d70b9"
      },
      "execution_count": 14,
      "outputs": [
        {
          "output_type": "stream",
          "name": "stdout",
          "text": [
            "4\n",
            "25\n",
            "36\n",
            "144\n"
          ]
        }
      ]
    },
    {
      "cell_type": "code",
      "source": [
        "x = [2,5,6,12]\n",
        "y= [] #creating empty list \n",
        "for i in x:\n",
        "  i=i*i   \n",
        "  y.append(i) #append new items in list\n",
        "print(y)"
      ],
      "metadata": {
        "id": "Rny7SlTWTMP9",
        "colab": {
          "base_uri": "https://localhost:8080/"
        },
        "outputId": "8318813b-165c-4129-9973-3fca24804f73"
      },
      "execution_count": 15,
      "outputs": [
        {
          "output_type": "stream",
          "name": "stdout",
          "text": [
            "[4, 25, 36, 144]\n"
          ]
        }
      ]
    },
    {
      "cell_type": "code",
      "source": [
        ""
      ],
      "metadata": {
        "id": "EwA4GM8GKakg"
      },
      "execution_count": null,
      "outputs": []
    }
  ]
}