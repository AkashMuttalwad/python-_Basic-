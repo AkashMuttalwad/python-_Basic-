{
  "nbformat": 4,
  "nbformat_minor": 0,
  "metadata": {
    "colab": {
      "name": "Copy of 11_Regular_Expressions.ipynb",
      "provenance": [],
      "authorship_tag": "ABX9TyONczdJGdF0Ih1wrwVZmN35",
      "include_colab_link": true
    },
    "kernelspec": {
      "name": "python3",
      "display_name": "Python 3"
    },
    "language_info": {
      "name": "python"
    }
  },
  "cells": [
    {
      "cell_type": "markdown",
      "metadata": {
        "id": "view-in-github",
        "colab_type": "text"
      },
      "source": [
        "<a href=\"https://colab.research.google.com/github/AkashMuttalwad/python-_Basic-/blob/main/Copy_of_11_Regular_Expressions.ipynb\" target=\"_parent\"><img src=\"https://colab.research.google.com/assets/colab-badge.svg\" alt=\"Open In Colab\"/></a>"
      ]
    },
    {
      "cell_type": "markdown",
      "source": [
        "# **Regular Expressions**\n",
        "\n",
        "A Regular Expressions (RegEx) is a special sequence of characters that uses a search pattern to find a string or set of strings.\n",
        "\n",
        "It can detect the presence or absence of a text by matching with a particular pattern, and also can split a pattern into one or more sub-patterns.\n",
        "\n",
        "Python provides a re module that supports the use of regex in Python. Its primary function is to offer a search, where it takes a regular expression and a string. Here, it either returns the first match or else none."
      ],
      "metadata": {
        "id": "lvrh5LKpmO1g"
      }
    },
    {
      "cell_type": "markdown",
      "source": [
        "# **MetaCharacters**\n",
        "\n",
        "**\\ – Backslash**\n",
        "\n",
        "The backslash () makes sure that the character is not treated in a special way. This can be considered a way of escaping metacharacters.\n",
        "\n",
        "For example, if you want to search for the dot(.) in the string then you will find that dot(.) will be treated as a special character as is one of the metacharacters (as shown in the above table). So for this case, we will use the backslash() just before the dot(.) so that it will lose its specialty. See the below example for a better understanding\n",
        "\n",
        "[ ] – **Square Brackets**\n",
        "\n",
        "Square Brackets ([]) represents a character class consisting of a set of characters that we wish to match. For example, the character class [abc] will match any single a, b, or c.\n",
        "\n",
        "We can also specify a range of characters using – inside the square brackets.\n",
        "\n",
        "For example,\n",
        "\n",
        "[0, 3] is sample as [0123]\n",
        "\n",
        "[a-c] is same as [abc]\n",
        "\n",
        "We can also invert the character class using the caret(^) symbol.\n",
        "\n",
        "For example,\n",
        "\n",
        "[^0-3] means any number except 0, 1, 2, or 3\n",
        "\n",
        "[^a-c] means any character except a, b, or c\n",
        "\n",
        "^ – Caret\n",
        "\n",
        "**Caret (^)**\n",
        "\n",
        " symbol matches the beginning of the string i.e. checks whether the string starts with the given character(s) or not. For example –\n",
        "\n",
        "^g will check if the string starts with g such as geeks, globe, girl, g, etc.\n",
        "\n",
        "^ge will check if the string starts with ge such as geeks, geeksforgeeks, etc.\n",
        "\n",
        "**$ – Dollar**\n",
        "\n",
        "Dollar($) symbol matches the end of the string i.e checks whether the string ends with the given character(s) or not.\n",
        "\n",
        "For example –\n",
        "\n",
        "s$ will check for the string that ends with a such as geeks, ends, s, etc.\n",
        "\n",
        "ks$ will check for the string that ends with ks such as geeks, geeksforgeeks, ks, etc.\n",
        "\n",
        "**. – Dot**\n",
        "\n",
        "**Dot(.) **symbol matches only a single character except for the newline character (\\n).\n",
        "\n",
        "For example –\n",
        "\n",
        "a.b will check for the string that contains any character at the place of the dot such as acb, acbd, abbb, etc .. will check if the string contains at least 2 characters\n",
        "\n",
        "| –** Or**\n",
        "\n",
        "Or symbol works as the or operator meaning it checks whether the pattern before or after the or symbol is present in the string or not.\n",
        "\n",
        "For example –\n",
        "\n",
        "a|b will match any string that contains a or b such as acd, bcd, abcd, etc.\n",
        "\n",
        "? – Question Mark\n",
        "\n",
        "Question mark(?) checks if the string before the question mark in the regex occurs at least once or not at all.\n",
        "\n",
        "For example –\n",
        "\n",
        "ab?c will be matched for the string ac, acb, dabc but will not be matched for abbc because there are two b.\n",
        "\n",
        "Similarly, it will not be matched for abdc because b is not followed by c.\n",
        "\n",
        "– **Star**\n",
        "\n",
        "Star () symbol matches zero or more occurrences of the regex preceding the symbol.\n",
        "\n",
        "For example –\n",
        "\n",
        "ab*c will be matched for the string ac, abc, abbbc, dabc, etc. but will not be matched for abdc because b is not followed by c.\n",
        "\n",
        "+ –** Plus**\n",
        "\n",
        "Plus (+) symbol matches one or more occurrences of the regex preceding the + symbol.\n",
        "\n",
        "For example –\n",
        "\n",
        "ab+c will be matched for the string abc, abbc, dabc, but will not be matched for ac, abdc because there is no b in ac and b is not followed by c in abdc.\n",
        "\n",
        "{m, n} – Braces Braces match any repetitions preceding regex from m to n both inclusive. For example –\n",
        "\n",
        "a{2, 4} will be matched for the string aaab, baaaac, gaad, but will not be matched for strings like abc, bc because there is only one a or no a in both the cases.\n",
        "\n",
        "Special Sequences\n",
        "\n",
        "Special sequences do not match for the actual character in the string instead it tells the specific location in the search string where the match must occur. It makes it easier to write commonly used patterns\n",
        "\n",
        "**re Functions**\n",
        "\n",
        "re.findall()\n",
        "Return all non-overlapping matches of pattern in string, as a list of strings. The string is scanned left-to-right, and matches are returned in the order found.\n",
        "\n",
        "Example: Finding all occurrences of a pattern\n",
        "\n",
        "re.compile()\n",
        "\n",
        "Regular expressions are compiled into pattern objects, which have methods for various operations such as searching for pattern matches or performing string substitutions.\n",
        "\n",
        "Understanding the Output:\n",
        "\n",
        "First occurrence is ‘e’ in “Aye” and not ‘A’, as it being Case Sensitive. Next Occurrence is ‘a’ in “said”, then ‘d’ in “said”, followed by ‘b’ and ‘e’ in “Gibenson”, the Last ‘a’ matches with “Stark”.\n",
        "\n",
        "re.split()\n",
        "Split string by the occurrences of a character or a pattern, upon finding that pattern, the remaining characters from the string are returned as part of the resulting list.\n",
        "\n",
        "Syntax :\n",
        "\n",
        "re.split(pattern, string, maxsplit=0, flags=0)\n",
        "\n",
        "The First parameter, pattern denotes the regular expression, string is the given string in which pattern will be searched for and in which splitting occurs, maxsplit if not provided is considered to be zero ‘0’, and if any nonzero value is provided, then at most that many splits occur. If maxsplit = 1, then the string will split once only, resulting in a list of length\n",
        " 2. The flags are very useful and can help to shorten code, they are not necessary parameters, eg: flags = re.IGNORECASE, in this split, the case, i.e. the lowercase or the uppercase will be ignored."
      ],
      "metadata": {
        "id": "yddeLm5-mgNV"
      }
    },
    {
      "cell_type": "markdown",
      "source": [
        "# **Homework:**\n",
        "\n",
        "re.sub()\n",
        " \n",
        "The sub() function replaces the matches with the text of your choice.\n",
        "\n",
        "re.escape()\n",
        "\n",
        "To insert characters that are illegal in a string, use an escape character.\n",
        "\n",
        "An escape character is a backslash \\ followed by the character you want to insert.\n",
        "\n",
        "An example of an illegal character is a double quote inside a string that is surrounded by double quotes:\n",
        "\n",
        "re.search()\n",
        "\n",
        "A Match Object is an object containing information about the search and the result."
      ],
      "metadata": {
        "id": "w46zxbGznzJm"
      }
    },
    {
      "cell_type": "markdown",
      "source": [
        "re.search()\n",
        "A Match Object is an object containing information about the search and the result."
      ],
      "metadata": {
        "id": "0eVUUE37oN2n"
      }
    },
    {
      "cell_type": "code",
      "source": [
        "import re\n",
        "\n",
        "txt = \" _is_ the_ good _guy\"\n",
        "x = re.sub(\"\\ \", \"akash\", txt)\n",
        "print(x)"
      ],
      "metadata": {
        "colab": {
          "base_uri": "https://localhost:8080/"
        },
        "id": "z-FuoQeRmbo1",
        "outputId": "b67275db-4795-4a6a-fc69-28cad517ffc9"
      },
      "execution_count": null,
      "outputs": [
        {
          "output_type": "stream",
          "name": "stdout",
          "text": [
            "akash_is_akashthe_akashgoodakash_guy\n"
          ]
        }
      ]
    },
    {
      "cell_type": "markdown",
      "source": [
        "re.search()\n",
        "\n",
        "A Match Object is an object containing information about the search and the result."
      ],
      "metadata": {
        "id": "ScxteHk5qLQg"
      }
    },
    {
      "cell_type": "code",
      "source": [
        "import re\n",
        "\n",
        "txt = \"The rain in Spain\"\n",
        "x = re.findall(\"ai\", txt)\n",
        "print(x)"
      ],
      "metadata": {
        "colab": {
          "base_uri": "https://localhost:8080/"
        },
        "id": "EO7LVkOambrl",
        "outputId": "09dbac42-9d10-422d-cf7c-ba9e6071072a"
      },
      "execution_count": null,
      "outputs": [
        {
          "output_type": "stream",
          "name": "stdout",
          "text": [
            "['ai', 'ai']\n"
          ]
        }
      ]
    },
    {
      "cell_type": "code",
      "source": [
        ""
      ],
      "metadata": {
        "id": "UNh9zsmJmby2"
      },
      "execution_count": null,
      "outputs": []
    },
    {
      "cell_type": "code",
      "source": [
        ""
      ],
      "metadata": {
        "id": "GlSLBHC6mb1v"
      },
      "execution_count": null,
      "outputs": []
    }
  ]
}