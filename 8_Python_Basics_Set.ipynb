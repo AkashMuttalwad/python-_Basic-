{
  "nbformat": 4,
  "nbformat_minor": 0,
  "metadata": {
    "colab": {
      "name": "8_Python_Basics_Set.ipynb",
      "provenance": [],
      "authorship_tag": "ABX9TyPTB0idsZ9VjE4xdo9nn43S",
      "include_colab_link": true
    },
    "kernelspec": {
      "name": "python3",
      "display_name": "Python 3"
    },
    "language_info": {
      "name": "python"
    }
  },
  "cells": [
    {
      "cell_type": "markdown",
      "metadata": {
        "id": "view-in-github",
        "colab_type": "text"
      },
      "source": [
        "<a href=\"https://colab.research.google.com/github/AkashMuttalwad/python-_Basic-/blob/main/8_Python_Basics_Set.ipynb\" target=\"_parent\"><img src=\"https://colab.research.google.com/assets/colab-badge.svg\" alt=\"Open In Colab\"/></a>"
      ]
    },
    {
      "cell_type": "markdown",
      "source": [
        "# **SET - Data Structure**"
      ],
      "metadata": {
        "id": "EF49lBXjJxcT"
      }
    },
    {
      "cell_type": "markdown",
      "source": [
        "1 If we want to represent a group of unique values as a single entity then we should go for set.\n",
        "\n",
        "2 Duplicates are not allowed.\n",
        "\n",
        "3Insertion order is not preserved.But we can sort the elements.\n",
        "\n",
        "4 Indexing and slicing not allowed for the set.\n",
        "\n",
        "5 Heterogeneous elements are allowed.\n",
        " \n",
        "6 Set objects are mutable i.e once we creates set object we can perform any changes in that object based on our requirement.\n",
        "\n",
        "7 We can represent set elements within curly braces and with comma seperation\n",
        "\n",
        "8 We can apply mathematical operations like union, intersection, difference etc on set objects."
      ],
      "metadata": {
        "id": "CAyuYjtjKHQI"
      }
    },
    {
      "cell_type": "code",
      "source": [
        "a= (20,30,40,50)\n",
        "print(a)\n",
        "print(type(a))"
      ],
      "metadata": {
        "colab": {
          "base_uri": "https://localhost:8080/"
        },
        "id": "gXNpPD22KBj5",
        "outputId": "41804ed6-ca03-497d-9fb9-1e14b1b9b8e8"
      },
      "execution_count": 1,
      "outputs": [
        {
          "output_type": "stream",
          "name": "stdout",
          "text": [
            "(20, 30, 40, 50)\n",
            "<class 'tuple'>\n"
          ]
        }
      ]
    },
    {
      "cell_type": "code",
      "source": [
        "#We can create set objects by using set() Function s = set(any sequence)\n",
        "l=[10,20,30,40,10,20,10]\n",
        "a=set(l)\n",
        "print(a) #{50,10,20,30}\n"
      ],
      "metadata": {
        "colab": {
          "base_uri": "https://localhost:8080/"
        },
        "id": "AQZM3ExNKBmv",
        "outputId": "07824996-21cc-46dd-926d-fbb65b58b842"
      },
      "execution_count": 12,
      "outputs": [
        {
          "output_type": "stream",
          "name": "stdout",
          "text": [
            "{40, 10, 20, 30}\n"
          ]
        }
      ]
    },
    {
      "cell_type": "code",
      "source": [
        "x=set(range(10))\n",
        "print (x) "
      ],
      "metadata": {
        "colab": {
          "base_uri": "https://localhost:8080/"
        },
        "id": "v4j0YRneKBsH",
        "outputId": "fa9aad71-e31f-4efc-be99-facaaa619d4a"
      },
      "execution_count": 17,
      "outputs": [
        {
          "output_type": "stream",
          "name": "stdout",
          "text": [
            "{0, 1, 2, 3, 4, 5, 6, 7, 8, 9}\n"
          ]
        }
      ]
    },
    {
      "cell_type": "markdown",
      "source": [
        "# **Important Functions of Set:**"
      ],
      "metadata": {
        "id": "tdWQvFPrRFEb"
      }
    },
    {
      "cell_type": "code",
      "source": [
        "# 1) add(x): add item x to the set\n",
        "s={10,20,30}\n",
        "s.add(40);\n",
        "print(s)#{40,10,20,30}"
      ],
      "metadata": {
        "colab": {
          "base_uri": "https://localhost:8080/"
        },
        "id": "MHjMcS8UKBuu",
        "outputId": "16d8912d-b4fe-4cf9-924c-fa9dafc25da9"
      },
      "execution_count": 18,
      "outputs": [
        {
          "output_type": "stream",
          "name": "stdout",
          "text": [
            "{40, 10, 20, 30}\n"
          ]
        }
      ]
    },
    {
      "cell_type": "code",
      "source": [
        "#adding operation \n",
        "x={10,10,50,20,30,40}\n",
        "x.add(100);\n",
        "print(x)"
      ],
      "metadata": {
        "colab": {
          "base_uri": "https://localhost:8080/"
        },
        "id": "iM9rilksKBxK",
        "outputId": "40269321-ce2a-401d-f781-6d250634c104"
      },
      "execution_count": 19,
      "outputs": [
        {
          "output_type": "stream",
          "name": "stdout",
          "text": [
            "{100, 40, 10, 50, 20, 30}\n"
          ]
        }
      ]
    },
    {
      "cell_type": "code",
      "source": [
        "# 2)  update(x,y,z): add multiple items to the set\n",
        "s={10,20,30}\n",
        "l=[40,50,60,10]\n",
        "s.update(l,range(5))\n",
        "print(s)"
      ],
      "metadata": {
        "colab": {
          "base_uri": "https://localhost:8080/"
        },
        "id": "bDUgQzXGKBz3",
        "outputId": "98a60bdf-5278-4667-fd0f-60721989e863"
      },
      "execution_count": 20,
      "outputs": [
        {
          "output_type": "stream",
          "name": "stdout",
          "text": [
            "{0, 1, 2, 3, 4, 40, 10, 50, 20, 60, 30}\n"
          ]
        }
      ]
    },
    {
      "cell_type": "code",
      "source": [
        "#add multipale items in the set\n",
        "x={10,20,40,50,30}\n",
        "x.update(l,range(10))\n",
        "print(x)"
      ],
      "metadata": {
        "colab": {
          "base_uri": "https://localhost:8080/"
        },
        "id": "-2maBJ8XKB5n",
        "outputId": "9d32db2e-0ae1-4557-82c1-9427877df17e"
      },
      "execution_count": 25,
      "outputs": [
        {
          "output_type": "stream",
          "name": "stdout",
          "text": [
            "{0, 1, 2, 3, 4, 5, 6, 7, 40, 8, 10, 9, 50, 20, 60, 30}\n"
          ]
        }
      ]
    },
    {
      "cell_type": "markdown",
      "source": [
        "**What is the difference between add() and update() Functions in Set?(important question )**\n",
        "\n",
        "We can use add() to add individual item to the Set,where as we can use update() function to add multiple items to Set.\n",
        "\n",
        "add() function can take only one argument where as update() function can take any number of arguments."
      ],
      "metadata": {
        "id": "emrLNjznSZpe"
      }
    },
    {
      "cell_type": "code",
      "source": [
        "#3. copy(): returns copy of the set(cloning)\n",
        "s={10,20,30}\n",
        "s1=s.copy()\n",
        "print(s1)"
      ],
      "metadata": {
        "colab": {
          "base_uri": "https://localhost:8080/"
        },
        "id": "LmjCJh9QKB8E",
        "outputId": "53ccc75e-6a1a-4bab-bdef-293792b1329b"
      },
      "execution_count": 26,
      "outputs": [
        {
          "output_type": "stream",
          "name": "stdout",
          "text": [
            "{10, 20, 30}\n"
          ]
        }
      ]
    },
    {
      "cell_type": "code",
      "source": [
        "x={10,40,50,50,60}\n",
        "x1=x.copy()\n",
        "print(x1)"
      ],
      "metadata": {
        "colab": {
          "base_uri": "https://localhost:8080/"
        },
        "id": "YLz_mb4RKB-L",
        "outputId": "ae2efa00-4eb6-47f1-c174-afbe4f950ed2"
      },
      "execution_count": 31,
      "outputs": [
        {
          "output_type": "stream",
          "name": "stdout",
          "text": [
            "{40, 10, 50, 60}\n"
          ]
        }
      ]
    },
    {
      "cell_type": "code",
      "source": [
        "#4. pop(): It removes and returns some random element from the set\n",
        "s={40,10,30,20}\n",
        "print(s)\n",
        "print(s.pop())\n",
        "print(s)"
      ],
      "metadata": {
        "colab": {
          "base_uri": "https://localhost:8080/"
        },
        "id": "vXu0GqmqKCAa",
        "outputId": "65f3e927-f6d9-4c67-b3ee-1173e76760fc"
      },
      "execution_count": 32,
      "outputs": [
        {
          "output_type": "stream",
          "name": "stdout",
          "text": [
            "{40, 10, 20, 30}\n",
            "40\n",
            "{10, 20, 30}\n"
          ]
        }
      ]
    },
    {
      "cell_type": "code",
      "source": [
        "#pop \n",
        "x={10,30,20,50,10,80}\n",
        "print(x)\n",
        "print(x.pop())\n",
        "print(x)"
      ],
      "metadata": {
        "colab": {
          "base_uri": "https://localhost:8080/"
        },
        "id": "ZpMx05uXKCCv",
        "outputId": "31c8cb5b-75ef-4be8-a317-040a0b0e2b4b"
      },
      "execution_count": 35,
      "outputs": [
        {
          "output_type": "stream",
          "name": "stdout",
          "text": [
            "{10, 80, 50, 20, 30}\n",
            "10\n",
            "{80, 50, 20, 30}\n"
          ]
        }
      ]
    },
    {
      "cell_type": "code",
      "source": [
        "#5. remove(x):removes specified item from the set\n",
        "s={40,10,30,20}\n",
        "s.remove(30)\n",
        "print(s)"
      ],
      "metadata": {
        "colab": {
          "base_uri": "https://localhost:8080/"
        },
        "id": "HJnVW3xIKCHZ",
        "outputId": "5f837b81-7781-4184-b443-89cd39e3a600"
      },
      "execution_count": 36,
      "outputs": [
        {
          "output_type": "stream",
          "name": "stdout",
          "text": [
            "{40, 10, 20}\n"
          ]
        }
      ]
    },
    {
      "cell_type": "code",
      "source": [
        "#removed\n",
        "x={10,50,40,40,50,60}\n",
        "x.remove(50)\n",
        "print(x)"
      ],
      "metadata": {
        "colab": {
          "base_uri": "https://localhost:8080/"
        },
        "id": "crSkPD_ZKCKz",
        "outputId": "8cff3d8e-326b-4770-92ec-75bdd1ffa624"
      },
      "execution_count": 38,
      "outputs": [
        {
          "output_type": "stream",
          "name": "stdout",
          "text": [
            "{40, 10, 60}\n"
          ]
        }
      ]
    },
    {
      "cell_type": "code",
      "source": [
        "#6.  discard(): It removes specified element from the space\n",
        "# If specified error not present in the set then it will not throw error\n",
        "s={40,10,30,20}\n",
        "s.discard(30)\n",
        "print(s)"
      ],
      "metadata": {
        "colab": {
          "base_uri": "https://localhost:8080/"
        },
        "id": "-D0wblTGKCMf",
        "outputId": "07321a16-8949-4cdc-91ea-94845707063d"
      },
      "execution_count": 39,
      "outputs": [
        {
          "output_type": "stream",
          "name": "stdout",
          "text": [
            "{40, 10, 20}\n"
          ]
        }
      ]
    },
    {
      "cell_type": "code",
      "source": [
        "# discard\n",
        "x={10,50,40,40,50,60}\n",
        "x.discard(40)\n",
        "print(x)"
      ],
      "metadata": {
        "colab": {
          "base_uri": "https://localhost:8080/"
        },
        "id": "Csa-WKqIKCPP",
        "outputId": "8d24e85d-482a-43dc-ff52-09ec38476fa5"
      },
      "execution_count": 40,
      "outputs": [
        {
          "output_type": "stream",
          "name": "stdout",
          "text": [
            "{10, 50, 60}\n"
          ]
        }
      ]
    },
    {
      "cell_type": "code",
      "source": [
        "#7. clear(): to remove all the elements from the set\n",
        "s={10,20,30}\n",
        "print(s)\n",
        "s.clear()\n",
        "print(s)"
      ],
      "metadata": {
        "colab": {
          "base_uri": "https://localhost:8080/"
        },
        "id": "kTBq0jxhKCRz",
        "outputId": "52afbdd8-0962-49c1-d63e-d7d7d24bdbad"
      },
      "execution_count": 41,
      "outputs": [
        {
          "output_type": "stream",
          "name": "stdout",
          "text": [
            "{10, 20, 30}\n",
            "set()\n"
          ]
        }
      ]
    },
    {
      "cell_type": "code",
      "source": [
        "#clear \n",
        "x={10,50,40,40,50,60}\n",
        "print(x)\n",
        "x.clear()\n",
        "print(x)"
      ],
      "metadata": {
        "colab": {
          "base_uri": "https://localhost:8080/"
        },
        "id": "H95f58mzKCUP",
        "outputId": "938528ba-29e9-493a-9715-955f9ec2a870"
      },
      "execution_count": 42,
      "outputs": [
        {
          "output_type": "stream",
          "name": "stdout",
          "text": [
            "{40, 10, 50, 60}\n",
            "set()\n"
          ]
        }
      ]
    },
    {
      "cell_type": "markdown",
      "source": [
        "# **IMPORTANT **\n",
        "\n",
        "Mathematical Operations on the Set:"
      ],
      "metadata": {
        "id": "gct0oYDBUhkE"
      }
    },
    {
      "cell_type": "code",
      "source": [
        "#1. union(): \n",
        "# Syntax: x.union(y) OR x|y: Return all the elements present in both sets\n",
        "x={10,20,30,40}\n",
        "y={30,40,50,60}\n",
        "print(x.union(y))#{10,20,30,40,50,60}\n",
        "print (x|y)#{10, 20, 30, 40, 50, 60}"
      ],
      "metadata": {
        "colab": {
          "base_uri": "https://localhost:8080/"
        },
        "id": "gPV9vJaxKCW0",
        "outputId": "aac6915e-b2e0-42a2-f8b8-3722eafd9389"
      },
      "execution_count": 43,
      "outputs": [
        {
          "output_type": "stream",
          "name": "stdout",
          "text": [
            "{40, 10, 50, 20, 60, 30}\n",
            "{40, 10, 50, 20, 60, 30}\n"
          ]
        }
      ]
    },
    {
      "cell_type": "code",
      "source": [
        "#union()\n",
        "a={10,50,40,30,60,20}\n",
        "b={10,20,30,50,70}\n",
        "c={30,50,40,60,80}\n",
        "print(a.union (b))\n",
        "print(a|b )\n",
        "print(a-c)"
      ],
      "metadata": {
        "colab": {
          "base_uri": "https://localhost:8080/"
        },
        "id": "mLQsNxu7KCZv",
        "outputId": "20b5a522-bd3f-4954-a027-dae9dd5025b6"
      },
      "execution_count": 47,
      "outputs": [
        {
          "output_type": "stream",
          "name": "stdout",
          "text": [
            "{70, 40, 10, 50, 20, 60, 30}\n",
            "{70, 40, 10, 50, 20, 60, 30}\n",
            "{10, 20}\n"
          ]
        }
      ]
    },
    {
      "cell_type": "code",
      "source": [
        "# 2. intersection():\n",
        "#Syntax: x.intersection(y) or x&y\n",
        "#Returns common elements present in both x and y\n",
        "x={10,20,30,40}\n",
        "y={30,40,50,60}\n",
        "print(x.intersection(y))#{40,30}\n",
        "print(x&y)#{40, 30}"
      ],
      "metadata": {
        "colab": {
          "base_uri": "https://localhost:8080/"
        },
        "id": "VhtwKBHnKCcw",
        "outputId": "c35e1d74-5834-4fae-e16a-a7adf5f0d10c"
      },
      "execution_count": 48,
      "outputs": [
        {
          "output_type": "stream",
          "name": "stdout",
          "text": [
            "{40, 30}\n",
            "{40, 30}\n"
          ]
        }
      ]
    },
    {
      "cell_type": "code",
      "source": [
        "# 2. intersection():\n",
        "a= {1,2,3,4,1,2,6,7}\n",
        "b={1,2,5,4,3,1,5.7}\n",
        "print(a.intersection(a))\n",
        "print(a&b)"
      ],
      "metadata": {
        "colab": {
          "base_uri": "https://localhost:8080/"
        },
        "id": "X4trxFXkKCfH",
        "outputId": "3abecbc0-bf70-49ce-a458-382a39ea1aa3"
      },
      "execution_count": 49,
      "outputs": [
        {
          "output_type": "stream",
          "name": "stdout",
          "text": [
            "{1, 2, 3, 4, 6, 7}\n",
            "{1, 2, 3, 4}\n"
          ]
        }
      ]
    },
    {
      "cell_type": "code",
      "source": [
        "# 3. difference():\n",
        "# Syntax: x.difference(y) OR x-y.\n",
        "#Returns the elements present in x but not in y.\n",
        "x={10,20,30,40}\n",
        "y={30,40,50,60}\n",
        "print(x.difference(y))#10, 20\n",
        "print(x-y)#{10, 20}\n",
        "print(y-x)#{50, 60}"
      ],
      "metadata": {
        "colab": {
          "base_uri": "https://localhost:8080/"
        },
        "id": "n0cLha0vKChw",
        "outputId": "484a4ecd-656b-4f5c-9c3a-5fe9c82bdaa9"
      },
      "execution_count": 50,
      "outputs": [
        {
          "output_type": "stream",
          "name": "stdout",
          "text": [
            "{10, 20}\n",
            "{10, 20}\n",
            "{50, 60}\n"
          ]
        }
      ]
    },
    {
      "cell_type": "code",
      "source": [
        "#4. symmetric_difference():\n",
        "# x.symmetric_difference(y) OR x^y\n",
        "#Returns elements present in either x OR y but not in both.\n",
        "x={10,20,30,40}\n",
        "y={30,40,50,60}\n",
        "print(x.symmetric_difference(y))#{10,50,20,60}\n",
        "print(x^y)#{10, 50, 20, 60}"
      ],
      "metadata": {
        "colab": {
          "base_uri": "https://localhost:8080/"
        },
        "id": "zy1LmEqlKCpn",
        "outputId": "786ca9d4-39eb-4a52-8887-fc931e5e9fa7"
      },
      "execution_count": 51,
      "outputs": [
        {
          "output_type": "stream",
          "name": "stdout",
          "text": [
            "{10, 50, 20, 60}\n",
            "{10, 50, 20, 60}\n"
          ]
        }
      ]
    },
    {
      "cell_type": "markdown",
      "source": [
        "# **Membership Operators: (in, not in)**"
      ],
      "metadata": {
        "id": "ifmv_TTwWBfE"
      }
    },
    {
      "cell_type": "code",
      "source": [
        "#Set comprehension is possible.\n",
        "s = {x*x*x*x for x in range(10)}\n",
        "print(s)#{0,1,4,9,16}"
      ],
      "metadata": {
        "colab": {
          "base_uri": "https://localhost:8080/"
        },
        "id": "XWT2KDnpKCrf",
        "outputId": "a215f80b-03de-453c-e7af-18adf3f523f6"
      },
      "execution_count": 56,
      "outputs": [
        {
          "output_type": "stream",
          "name": "stdout",
          "text": [
            "{0, 1, 256, 2401, 4096, 6561, 16, 81, 625, 1296}\n"
          ]
        }
      ]
    },
    {
      "cell_type": "markdown",
      "source": [
        "# **Set Objects won't support indexing and slicing:**"
      ],
      "metadata": {
        "id": "r7482BlrWWj6"
      }
    },
    {
      "cell_type": "code",
      "source": [
        "s={10,20,30,40}\n",
        "print(s[0])# TypeError:'set'objectdoesnotsupportindexing\n",
        "print(s[1:3])# TypeError: 'set' object is not subscriptable"
      ],
      "metadata": {
        "colab": {
          "base_uri": "https://localhost:8080/",
          "height": 200
        },
        "id": "VW2lMWXQKCtj",
        "outputId": "69cab029-da92-4eb1-e13f-cf2ccac0ba4c"
      },
      "execution_count": 57,
      "outputs": [
        {
          "output_type": "error",
          "ename": "TypeError",
          "evalue": "ignored",
          "traceback": [
            "\u001b[0;31m---------------------------------------------------------------------------\u001b[0m",
            "\u001b[0;31mTypeError\u001b[0m                                 Traceback (most recent call last)",
            "\u001b[0;32m<ipython-input-57-8176d88c9bbe>\u001b[0m in \u001b[0;36m<module>\u001b[0;34m()\u001b[0m\n\u001b[1;32m      1\u001b[0m \u001b[0ms\u001b[0m\u001b[0;34m=\u001b[0m\u001b[0;34m{\u001b[0m\u001b[0;36m10\u001b[0m\u001b[0;34m,\u001b[0m\u001b[0;36m20\u001b[0m\u001b[0;34m,\u001b[0m\u001b[0;36m30\u001b[0m\u001b[0;34m,\u001b[0m\u001b[0;36m40\u001b[0m\u001b[0;34m}\u001b[0m\u001b[0;34m\u001b[0m\u001b[0;34m\u001b[0m\u001b[0m\n\u001b[0;32m----> 2\u001b[0;31m \u001b[0mprint\u001b[0m\u001b[0;34m(\u001b[0m\u001b[0ms\u001b[0m\u001b[0;34m[\u001b[0m\u001b[0;36m0\u001b[0m\u001b[0;34m]\u001b[0m\u001b[0;34m)\u001b[0m\u001b[0;31m# TypeError:'set'objectdoesnotsupportindexing\u001b[0m\u001b[0;34m\u001b[0m\u001b[0;34m\u001b[0m\u001b[0m\n\u001b[0m\u001b[1;32m      3\u001b[0m \u001b[0mprint\u001b[0m\u001b[0;34m(\u001b[0m\u001b[0ms\u001b[0m\u001b[0;34m[\u001b[0m\u001b[0;36m1\u001b[0m\u001b[0;34m:\u001b[0m\u001b[0;36m3\u001b[0m\u001b[0;34m]\u001b[0m\u001b[0;34m)\u001b[0m\u001b[0;31m# TypeError: 'set' object is not subscriptable\u001b[0m\u001b[0;34m\u001b[0m\u001b[0;34m\u001b[0m\u001b[0m\n",
            "\u001b[0;31mTypeError\u001b[0m: 'set' object is not subscriptable"
          ]
        }
      ]
    },
    {
      "cell_type": "markdown",
      "source": [
        "# **Homework**\n",
        "\n",
        "Write a Program to eliminate Duplicates Present in the List?"
      ],
      "metadata": {
        "id": "3urgcd6RWzEL"
      }
    },
    {
      "cell_type": "code",
      "source": [
        "a={10,20,20,50,40,30,20,10,50,80,90}\n",
        "b= {20,30,40,50,60,10,80,40,30,50}\n",
        "print(a.symmetric_difference(b))"
      ],
      "metadata": {
        "colab": {
          "base_uri": "https://localhost:8080/"
        },
        "id": "CP1tjBqFKCwd",
        "outputId": "6a40c239-dbed-4585-808c-e19f3d25d02f"
      },
      "execution_count": 58,
      "outputs": [
        {
          "output_type": "stream",
          "name": "stdout",
          "text": [
            "{90, 60}\n"
          ]
        }
      ]
    },
    {
      "cell_type": "markdown",
      "source": [
        "**Write a Program to Print different Vowels Present in the given Word?(Using intersection method**"
      ],
      "metadata": {
        "id": "not9LFHOXk5d"
      }
    },
    {
      "cell_type": "code",
      "source": [
        "\n",
        "a= {1,2,3,4,1,2,6,7}\n",
        "b={1,2,5,4,3,1,5.7}\n",
        "print(a.intersection(a))\n",
        "print(a-b)"
      ],
      "metadata": {
        "colab": {
          "base_uri": "https://localhost:8080/"
        },
        "id": "ViQJ1VC3KC1Y",
        "outputId": "27b2ea14-c270-4f3d-fb8e-aeeb5eb49861"
      },
      "execution_count": 61,
      "outputs": [
        {
          "output_type": "stream",
          "name": "stdout",
          "text": [
            "{1, 2, 3, 4, 6, 7}\n",
            "{6, 7}\n"
          ]
        }
      ]
    },
    {
      "cell_type": "code",
      "source": [
        ""
      ],
      "metadata": {
        "id": "oz2y3skzKC4m"
      },
      "execution_count": null,
      "outputs": []
    }
  ]
}