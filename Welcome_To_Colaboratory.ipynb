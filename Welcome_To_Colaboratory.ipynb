{
  "cells": [
    {
      "cell_type": "markdown",
      "metadata": {
        "id": "view-in-github",
        "colab_type": "text"
      },
      "source": [
        "<a href=\"https://colab.research.google.com/github/AkashMuttalwad/python-_Basic-/blob/main/Welcome_To_Colaboratory.ipynb\" target=\"_parent\"><img src=\"https://colab.research.google.com/assets/colab-badge.svg\" alt=\"Open In Colab\"/></a>"
      ]
    },
    {
      "cell_type": "code",
      "source": [
        "#Type casting convert one type value to another type.\n",
        "# various Functions for type casting \n",
        "#1) int()\n",
        "\n",
        "2) float()\n",
        "\n",
        "3) complex()\n",
        "\n",
        "4) bool()\n",
        "\n",
        "5) str()\n"
      ],
      "metadata": {
        "id": "WxpquloyDIbG"
      },
      "execution_count": null,
      "outputs": []
    },
    {
      "cell_type": "markdown",
      "source": [
        "Python Basic _2"
      ],
      "metadata": {
        "id": "MqV5150jFTiH"
      }
    },
    {
      "cell_type": "code",
      "source": [
        "# Conversion of Data types:\n",
        "# 1 Coversion int to float:\n",
        "float(7)"
      ],
      "metadata": {
        "colab": {
          "base_uri": "https://localhost:8080/"
        },
        "id": "mvBSpz61DIoG",
        "outputId": "5a9f3969-f8e8-430b-9ea8-4104b0969650"
      },
      "execution_count": 6,
      "outputs": [
        {
          "output_type": "execute_result",
          "data": {
            "text/plain": [
              "7.0"
            ]
          },
          "metadata": {},
          "execution_count": 6
        }
      ]
    },
    {
      "cell_type": "code",
      "source": [
        "float(125839)"
      ],
      "metadata": {
        "colab": {
          "base_uri": "https://localhost:8080/"
        },
        "id": "Zy-gajJ0DIrL",
        "outputId": "5109d946-2803-42ad-d8ae-63a57e5296d1"
      },
      "execution_count": 8,
      "outputs": [
        {
          "output_type": "execute_result",
          "data": {
            "text/plain": [
              "125839.0"
            ]
          },
          "metadata": {},
          "execution_count": 8
        }
      ]
    },
    {
      "cell_type": "code",
      "source": [
        "#Conversion float into int\n",
        "int(0.22)"
      ],
      "metadata": {
        "colab": {
          "base_uri": "https://localhost:8080/"
        },
        "id": "IBSaliCjDIuU",
        "outputId": "1c18b263-e002-4f48-d08c-311384a24596"
      },
      "execution_count": 9,
      "outputs": [
        {
          "output_type": "execute_result",
          "data": {
            "text/plain": [
              "0"
            ]
          },
          "metadata": {},
          "execution_count": 9
        }
      ]
    },
    {
      "cell_type": "code",
      "source": [
        "int(1.258)"
      ],
      "metadata": {
        "colab": {
          "base_uri": "https://localhost:8080/"
        },
        "id": "cUz4o0r6DIxX",
        "outputId": "98df1d59-ad3b-46e9-9dbb-8eff65dc1ec1"
      },
      "execution_count": 10,
      "outputs": [
        {
          "output_type": "execute_result",
          "data": {
            "text/plain": [
              "1"
            ]
          },
          "metadata": {},
          "execution_count": 10
        }
      ]
    },
    {
      "cell_type": "code",
      "source": [
        "#conversion of float to str\n",
        "str(11.258)"
      ],
      "metadata": {
        "colab": {
          "base_uri": "https://localhost:8080/",
          "height": 35
        },
        "id": "g47hxLdzDI0T",
        "outputId": "38ecd70c-f1ab-4643-d36b-9b55dd1c802f"
      },
      "execution_count": 11,
      "outputs": [
        {
          "output_type": "execute_result",
          "data": {
            "text/plain": [
              "'11.258'"
            ],
            "application/vnd.google.colaboratory.intrinsic+json": {
              "type": "string"
            }
          },
          "metadata": {},
          "execution_count": 11
        }
      ]
    },
    {
      "cell_type": "code",
      "source": [
        "str(12.58)"
      ],
      "metadata": {
        "colab": {
          "base_uri": "https://localhost:8080/",
          "height": 35
        },
        "id": "ji4_wOlpDI27",
        "outputId": "f29f9b71-3bb5-4f7d-a9fb-8258d61a614d"
      },
      "execution_count": 12,
      "outputs": [
        {
          "output_type": "execute_result",
          "data": {
            "text/plain": [
              "'12.58'"
            ],
            "application/vnd.google.colaboratory.intrinsic+json": {
              "type": "string"
            }
          },
          "metadata": {},
          "execution_count": 12
        }
      ]
    },
    {
      "cell_type": "code",
      "source": [
        "#conversion of str to int\n",
        "int('nanded')"
      ],
      "metadata": {
        "colab": {
          "base_uri": "https://localhost:8080/",
          "height": 183
        },
        "id": "KBbA1SmmDI5k",
        "outputId": "e7d977fd-4210-4695-f632-fa9a18e74b14"
      },
      "execution_count": 14,
      "outputs": [
        {
          "output_type": "error",
          "ename": "ValueError",
          "evalue": "ignored",
          "traceback": [
            "\u001b[0;31m---------------------------------------------------------------------------\u001b[0m",
            "\u001b[0;31mValueError\u001b[0m                                Traceback (most recent call last)",
            "\u001b[0;32m<ipython-input-14-dc6a9b51aa33>\u001b[0m in \u001b[0;36m<module>\u001b[0;34m()\u001b[0m\n\u001b[1;32m      1\u001b[0m \u001b[0;31m#conversion of str to int\u001b[0m\u001b[0;34m\u001b[0m\u001b[0;34m\u001b[0m\u001b[0;34m\u001b[0m\u001b[0m\n\u001b[0;32m----> 2\u001b[0;31m \u001b[0mint\u001b[0m\u001b[0;34m(\u001b[0m\u001b[0;34m'nanded'\u001b[0m\u001b[0;34m)\u001b[0m\u001b[0;34m\u001b[0m\u001b[0;34m\u001b[0m\u001b[0m\n\u001b[0m",
            "\u001b[0;31mValueError\u001b[0m: invalid literal for int() with base 10: 'nanded'"
          ]
        }
      ]
    },
    {
      "cell_type": "code",
      "source": [
        "\n",
        "#values cancider \n",
        "True = 1\n",
        "fales=0"
      ],
      "metadata": {
        "id": "SMQyvlrQDI8N"
      },
      "execution_count": null,
      "outputs": []
    },
    {
      "cell_type": "code",
      "source": [
        "#  Conversion boolean to float:\n",
        "true = 1\n",
        "false = 0\n",
        "print(float(false))"
      ],
      "metadata": {
        "colab": {
          "base_uri": "https://localhost:8080/"
        },
        "id": "VbAXOApwDJB3",
        "outputId": "2427b35f-f852-4494-8765-84e12bbb3d05"
      },
      "execution_count": 19,
      "outputs": [
        {
          "output_type": "stream",
          "name": "stdout",
          "text": [
            "0.0\n"
          ]
        }
      ]
    },
    {
      "cell_type": "code",
      "source": [
        "print(float(true))"
      ],
      "metadata": {
        "colab": {
          "base_uri": "https://localhost:8080/"
        },
        "id": "29ee1sLlDJEu",
        "outputId": "9a2c25fa-1b5e-4a4e-8c7b-6101a9b5b025"
      },
      "execution_count": 20,
      "outputs": [
        {
          "output_type": "stream",
          "name": "stdout",
          "text": [
            "1.0\n"
          ]
        }
      ]
    },
    {
      "cell_type": "code",
      "source": [
        "#complex data type in differant form \n",
        "complex(25,90)"
      ],
      "metadata": {
        "colab": {
          "base_uri": "https://localhost:8080/"
        },
        "id": "lras7BdsDJHE",
        "outputId": "60d9fe1f-fd5c-4adf-f4b2-cc43952417ee"
      },
      "execution_count": 21,
      "outputs": [
        {
          "output_type": "execute_result",
          "data": {
            "text/plain": [
              "(25+90j)"
            ]
          },
          "metadata": {},
          "execution_count": 21
        }
      ]
    },
    {
      "cell_type": "code",
      "source": [
        "complex(20,true)"
      ],
      "metadata": {
        "colab": {
          "base_uri": "https://localhost:8080/"
        },
        "id": "Xy1U0_kwDJJw",
        "outputId": "05d5296d-3048-48e6-83f3-e2bbc7a70e70"
      },
      "execution_count": 22,
      "outputs": [
        {
          "output_type": "execute_result",
          "data": {
            "text/plain": [
              "(20+1j)"
            ]
          },
          "metadata": {},
          "execution_count": 22
        }
      ]
    },
    {
      "cell_type": "code",
      "source": [
        "complex(false,25,true,0.1)"
      ],
      "metadata": {
        "colab": {
          "base_uri": "https://localhost:8080/",
          "height": 165
        },
        "id": "gQseBV7JDJMf",
        "outputId": "78a8df2a-a283-4d68-8a97-0b75dc8d1724"
      },
      "execution_count": 23,
      "outputs": [
        {
          "output_type": "error",
          "ename": "TypeError",
          "evalue": "ignored",
          "traceback": [
            "\u001b[0;31m---------------------------------------------------------------------------\u001b[0m",
            "\u001b[0;31mTypeError\u001b[0m                                 Traceback (most recent call last)",
            "\u001b[0;32m<ipython-input-23-7841fb33cb09>\u001b[0m in \u001b[0;36m<module>\u001b[0;34m()\u001b[0m\n\u001b[0;32m----> 1\u001b[0;31m \u001b[0mcomplex\u001b[0m\u001b[0;34m(\u001b[0m\u001b[0mfalse\u001b[0m\u001b[0;34m,\u001b[0m\u001b[0;36m25\u001b[0m\u001b[0;34m,\u001b[0m\u001b[0mtrue\u001b[0m\u001b[0;34m,\u001b[0m\u001b[0;36m0.1\u001b[0m\u001b[0;34m)\u001b[0m\u001b[0;34m\u001b[0m\u001b[0;34m\u001b[0m\u001b[0m\n\u001b[0m",
            "\u001b[0;31mTypeError\u001b[0m: complex() takes at most 2 arguments (4 given)"
          ]
        }
      ]
    },
    {
      "cell_type": "code",
      "source": [
        "#complex takes at most 2 arguments "
      ],
      "metadata": {
        "id": "kWGmp-eJDJPc"
      },
      "execution_count": null,
      "outputs": []
    },
    {
      "cell_type": "code",
      "source": [
        "#Bolean foram to the wards \n",
        "bool(50)"
      ],
      "metadata": {
        "colab": {
          "base_uri": "https://localhost:8080/"
        },
        "id": "nLc8Z7UVDJSN",
        "outputId": "0d3b9fdc-4e31-4da7-9471-b060daa0714a"
      },
      "execution_count": 27,
      "outputs": [
        {
          "output_type": "execute_result",
          "data": {
            "text/plain": [
              "True"
            ]
          },
          "metadata": {},
          "execution_count": 27
        }
      ]
    },
    {
      "cell_type": "code",
      "source": [
        "bool(0.2)"
      ],
      "metadata": {
        "colab": {
          "base_uri": "https://localhost:8080/"
        },
        "id": "RRYH_rRaDJVA",
        "outputId": "b0331f18-6835-4201-f295-6535d1bd8ee0"
      },
      "execution_count": 28,
      "outputs": [
        {
          "output_type": "execute_result",
          "data": {
            "text/plain": [
              "True"
            ]
          },
          "metadata": {},
          "execution_count": 28
        }
      ]
    },
    {
      "cell_type": "code",
      "source": [
        "bool(0)"
      ],
      "metadata": {
        "colab": {
          "base_uri": "https://localhost:8080/"
        },
        "id": "SFtSVYygDJXe",
        "outputId": "9432a232-68cd-449c-c509-d582d278ca88"
      },
      "execution_count": 29,
      "outputs": [
        {
          "output_type": "execute_result",
          "data": {
            "text/plain": [
              "False"
            ]
          },
          "metadata": {},
          "execution_count": 29
        }
      ]
    },
    {
      "cell_type": "code",
      "source": [
        "#bolean value should be 1 for true and 0for the false \n"
      ],
      "metadata": {
        "id": "LLOpuAxfDJaR"
      },
      "execution_count": null,
      "outputs": []
    },
    {
      "cell_type": "code",
      "source": [
        "x=12\n",
        "y=15\n",
        "y=18\n",
        "x is y \n",
        "y \n",
        "print(y)"
      ],
      "metadata": {
        "colab": {
          "base_uri": "https://localhost:8080/"
        },
        "id": "QdQBbTYfDJc-",
        "outputId": "3fcb6905-0a5b-4442-d367-e416d2440eae"
      },
      "execution_count": 30,
      "outputs": [
        {
          "output_type": "stream",
          "name": "stdout",
          "text": [
            "18\n"
          ]
        }
      ]
    },
    {
      "cell_type": "code",
      "source": [
        "#id of a\n",
        "a = 18\n",
        "b = 20\n",
        "id(a)"
      ],
      "metadata": {
        "colab": {
          "base_uri": "https://localhost:8080/"
        },
        "id": "iSz0J6hNDJfq",
        "outputId": "670986cf-cc0a-4753-c664-c379e79305ad"
      },
      "execution_count": 33,
      "outputs": [
        {
          "output_type": "execute_result",
          "data": {
            "text/plain": [
              "94813463272480"
            ]
          },
          "metadata": {},
          "execution_count": 33
        }
      ]
    },
    {
      "cell_type": "code",
      "source": [
        "id(b)"
      ],
      "metadata": {
        "colab": {
          "base_uri": "https://localhost:8080/"
        },
        "id": "iz-mJSFBDJiW",
        "outputId": "cb352492-7622-4f29-d811-22d5dfff4efb"
      },
      "execution_count": 34,
      "outputs": [
        {
          "output_type": "execute_result",
          "data": {
            "text/plain": [
              "94813463272544"
            ]
          },
          "metadata": {},
          "execution_count": 34
        }
      ]
    },
    {
      "cell_type": "code",
      "source": [
        "#list data type \n",
        "x=[12,50,50,60]\n",
        "type (x)"
      ],
      "metadata": {
        "colab": {
          "base_uri": "https://localhost:8080/"
        },
        "id": "qqorCiJ0DJlW",
        "outputId": "cdf06434-4eac-49fd-aec5-ad3699e7b581"
      },
      "execution_count": 37,
      "outputs": [
        {
          "output_type": "execute_result",
          "data": {
            "text/plain": [
              "list"
            ]
          },
          "metadata": {},
          "execution_count": 37
        }
      ]
    },
    {
      "cell_type": "code",
      "source": [
        "y=[0.12,125,45,8547,158]\n",
        "type(y)"
      ],
      "metadata": {
        "colab": {
          "base_uri": "https://localhost:8080/"
        },
        "id": "2MvuVaZsDJoH",
        "outputId": "13a2cb88-c3bd-4864-aca6-93e2329a0f11"
      },
      "execution_count": 39,
      "outputs": [
        {
          "output_type": "execute_result",
          "data": {
            "text/plain": [
              "list"
            ]
          },
          "metadata": {},
          "execution_count": 39
        }
      ]
    },
    {
      "cell_type": "code",
      "source": [
        "x=bytes(y)\n",
        "bytes(y)"
      ],
      "metadata": {
        "colab": {
          "base_uri": "https://localhost:8080/"
        },
        "id": "EfKbHMoXDJqr",
        "outputId": "a1f9995d-dcca-4a02-d5ec-c8e6a2abd127"
      },
      "execution_count": 42,
      "outputs": [
        {
          "output_type": "execute_result",
          "data": {
            "text/plain": [
              "b'\\x0c22<'"
            ]
          },
          "metadata": {},
          "execution_count": 42
        }
      ]
    },
    {
      "cell_type": "code",
      "source": [
        "# bytearray data type\n",
        "a = [405, 50, 154, 787, 100, 167]\n",
        "bytearray(a)"
      ],
      "metadata": {
        "colab": {
          "base_uri": "https://localhost:8080/",
          "height": 200
        },
        "id": "9Uo3R5d4DJs-",
        "outputId": "9dfb713f-ec97-49d1-a58f-59d769b7eef3"
      },
      "execution_count": 43,
      "outputs": [
        {
          "output_type": "error",
          "ename": "ValueError",
          "evalue": "ignored",
          "traceback": [
            "\u001b[0;31m---------------------------------------------------------------------------\u001b[0m",
            "\u001b[0;31mValueError\u001b[0m                                Traceback (most recent call last)",
            "\u001b[0;32m<ipython-input-43-31fb2771a5f5>\u001b[0m in \u001b[0;36m<module>\u001b[0;34m()\u001b[0m\n\u001b[1;32m      1\u001b[0m \u001b[0;31m# bytearray data type\u001b[0m\u001b[0;34m\u001b[0m\u001b[0;34m\u001b[0m\u001b[0;34m\u001b[0m\u001b[0m\n\u001b[1;32m      2\u001b[0m \u001b[0ma\u001b[0m \u001b[0;34m=\u001b[0m \u001b[0;34m[\u001b[0m\u001b[0;36m405\u001b[0m\u001b[0;34m,\u001b[0m \u001b[0;36m50\u001b[0m\u001b[0;34m,\u001b[0m \u001b[0;36m154\u001b[0m\u001b[0;34m,\u001b[0m \u001b[0;36m787\u001b[0m\u001b[0;34m,\u001b[0m \u001b[0;36m100\u001b[0m\u001b[0;34m,\u001b[0m \u001b[0;36m167\u001b[0m\u001b[0;34m]\u001b[0m\u001b[0;34m\u001b[0m\u001b[0;34m\u001b[0m\u001b[0m\n\u001b[0;32m----> 3\u001b[0;31m \u001b[0mbytearray\u001b[0m\u001b[0;34m(\u001b[0m\u001b[0ma\u001b[0m\u001b[0;34m)\u001b[0m\u001b[0;34m\u001b[0m\u001b[0;34m\u001b[0m\u001b[0m\n\u001b[0m",
            "\u001b[0;31mValueError\u001b[0m: byte must be in range(0, 256)"
          ]
        }
      ]
    },
    {
      "cell_type": "code",
      "source": [
        "#byte must be in range(0, 256)"
      ],
      "metadata": {
        "id": "sjGmggZlDJvi"
      },
      "execution_count": null,
      "outputs": []
    },
    {
      "cell_type": "code",
      "source": [
        "a=[12,255,200,252,152]\n",
        "bytearray(a)"
      ],
      "metadata": {
        "colab": {
          "base_uri": "https://localhost:8080/"
        },
        "id": "FCdSw2CNMfEO",
        "outputId": "f69949de-1305-4a9a-ae18-e1a5d0e7b319"
      },
      "execution_count": 45,
      "outputs": [
        {
          "output_type": "execute_result",
          "data": {
            "text/plain": [
              "bytearray(b'\\x0c\\xff\\xc8\\xfc\\x98')"
            ]
          },
          "metadata": {},
          "execution_count": 45
        }
      ]
    },
    {
      "cell_type": "code",
      "source": [
        "print(a)"
      ],
      "metadata": {
        "colab": {
          "base_uri": "https://localhost:8080/"
        },
        "id": "EtcdvM-FDJyr",
        "outputId": "8b361ed1-a5f0-4ce1-bd27-9ad6418a7f23"
      },
      "execution_count": 46,
      "outputs": [
        {
          "output_type": "stream",
          "name": "stdout",
          "text": [
            "[12, 255, 200, 252, 152]\n"
          ]
        }
      ]
    },
    {
      "cell_type": "code",
      "source": [
        "a[1]=75\n",
        "print(a)"
      ],
      "metadata": {
        "colab": {
          "base_uri": "https://localhost:8080/"
        },
        "id": "P--sy1jYDJ10",
        "outputId": "08f865be-0ff8-409c-eb2c-f7bfe66fe8ba"
      },
      "execution_count": 49,
      "outputs": [
        {
          "output_type": "stream",
          "name": "stdout",
          "text": [
            "[12, 75, 200, 252, 152]\n"
          ]
        }
      ]
    },
    {
      "cell_type": "code",
      "source": [
        "print(a)"
      ],
      "metadata": {
        "colab": {
          "base_uri": "https://localhost:8080/"
        },
        "id": "HrJgByGjNaDG",
        "outputId": "0e98d6db-ce3a-4098-a40c-8f0fc151c1c2"
      },
      "execution_count": 50,
      "outputs": [
        {
          "output_type": "stream",
          "name": "stdout",
          "text": [
            "[12, 75, 200, 252, 152]\n"
          ]
        }
      ]
    },
    {
      "cell_type": "code",
      "source": [
        "a[3]=500\n",
        "print(a)"
      ],
      "metadata": {
        "colab": {
          "base_uri": "https://localhost:8080/"
        },
        "id": "O5Kwy4oXNaGw",
        "outputId": "1193836a-b412-4bdb-ce4c-6d4c7d9d3963"
      },
      "execution_count": 51,
      "outputs": [
        {
          "output_type": "stream",
          "name": "stdout",
          "text": [
            "[12, 75, 200, 500, 152]\n"
          ]
        }
      ]
    },
    {
      "cell_type": "code",
      "source": [
        "# to use of bytearray we can change value with respect to there postion "
      ],
      "metadata": {
        "id": "qcbjjIVENaIU"
      },
      "execution_count": null,
      "outputs": []
    },
    {
      "cell_type": "code",
      "source": [
        "#for various data type \n",
        "list = [45, 56, \"Akash\", true, false, 12.20, 77]\n",
        "print(list)"
      ],
      "metadata": {
        "colab": {
          "base_uri": "https://localhost:8080/"
        },
        "id": "U1Af7oLkNaNH",
        "outputId": "436418d6-d88c-402c-eead-d11e6aed0a3d"
      },
      "execution_count": 59,
      "outputs": [
        {
          "output_type": "stream",
          "name": "stdout",
          "text": [
            "[45, 56, 'Akash', 1, 0, 12.2, 77]\n"
          ]
        }
      ]
    },
    {
      "cell_type": "code",
      "source": [
        "list=[12,125,0.12,'akash',0.12]\n",
        "print(list)"
      ],
      "metadata": {
        "colab": {
          "base_uri": "https://localhost:8080/"
        },
        "id": "3mSkpsgvNaP7",
        "outputId": "ed55bdab-bbdf-4aa6-9fb0-cba837073e3a"
      },
      "execution_count": 60,
      "outputs": [
        {
          "output_type": "stream",
          "name": "stdout",
          "text": [
            "[12, 125, 0.12, 'akash', 0.12]\n"
          ]
        }
      ]
    },
    {
      "cell_type": "code",
      "source": [
        "print(list)\n",
        "list.append(150)\n",
        "print(list)"
      ],
      "metadata": {
        "colab": {
          "base_uri": "https://localhost:8080/"
        },
        "id": "G_e5wTvENaaC",
        "outputId": "a8b07faf-8133-4bbf-cd36-2f91b5e35faf"
      },
      "execution_count": 65,
      "outputs": [
        {
          "output_type": "stream",
          "name": "stdout",
          "text": [
            "[12, 125, 0.12, 'akash', 0.12, 5000, 150]\n",
            "[12, 125, 0.12, 'akash', 0.12, 5000, 150, 150]\n"
          ]
        }
      ]
    },
    {
      "cell_type": "code",
      "source": [
        "print(list)"
      ],
      "metadata": {
        "colab": {
          "base_uri": "https://localhost:8080/"
        },
        "id": "dBoNXyD7QWfd",
        "outputId": "167e45ab-f7f1-4ba9-ca88-bf29d944cd57"
      },
      "execution_count": 66,
      "outputs": [
        {
          "output_type": "stream",
          "name": "stdout",
          "text": [
            "[12, 125, 0.12, 'akash', 0.12, 5000, 150, 150]\n"
          ]
        }
      ]
    },
    {
      "cell_type": "code",
      "source": [
        "list.append(0.125)\n",
        "print(list)"
      ],
      "metadata": {
        "colab": {
          "base_uri": "https://localhost:8080/"
        },
        "id": "yD_itjJmQWiS",
        "outputId": "b36283c7-e992-4768-8cad-793bc8e7c53c"
      },
      "execution_count": 68,
      "outputs": [
        {
          "output_type": "stream",
          "name": "stdout",
          "text": [
            "[12, 125, 0.12, 'akash', 0.12, 5000, 150, 150, 0.125]\n"
          ]
        }
      ]
    },
    {
      "cell_type": "code",
      "source": [
        "#remove data \n",
        "print(list)\n"
      ],
      "metadata": {
        "colab": {
          "base_uri": "https://localhost:8080/"
        },
        "id": "U7qQR7DmQWlH",
        "outputId": "86d517b2-845e-4f4d-9a60-dfc72387c8c4"
      },
      "execution_count": 69,
      "outputs": [
        {
          "output_type": "stream",
          "name": "stdout",
          "text": [
            "[12, 125, 0.12, 'akash', 0.12, 5000, 150, 150, 0.125]\n"
          ]
        }
      ]
    },
    {
      "cell_type": "code",
      "source": [
        "list.remove(0.12)\n",
        "print(list)"
      ],
      "metadata": {
        "colab": {
          "base_uri": "https://localhost:8080/"
        },
        "id": "mY1YvtSeQWoA",
        "outputId": "9a2b08d5-b439-488c-f297-283a2492ac91"
      },
      "execution_count": 74,
      "outputs": [
        {
          "output_type": "stream",
          "name": "stdout",
          "text": [
            "[12, 125, 0.12, 5000, 150, 150, 0.125]\n"
          ]
        }
      ]
    },
    {
      "cell_type": "code",
      "source": [
        "print(list)\n",
        "list.remove(125)\n",
        "print(list)"
      ],
      "metadata": {
        "colab": {
          "base_uri": "https://localhost:8080/"
        },
        "id": "85jcQCe4QWqO",
        "outputId": "98e0dbb6-1dba-422b-9a56-8a9f4bf742ba"
      },
      "execution_count": 77,
      "outputs": [
        {
          "output_type": "stream",
          "name": "stdout",
          "text": [
            "[12, 125, 0.12, 5000, 150, 150, 0.125]\n",
            "[12, 0.12, 5000, 150, 150, 0.125]\n"
          ]
        }
      ]
    },
    {
      "cell_type": "code",
      "source": [
        "#add list into list\n",
        "\n",
        "list =list*2\n",
        "print(list)"
      ],
      "metadata": {
        "colab": {
          "base_uri": "https://localhost:8080/"
        },
        "id": "zJ6qZp1vQWsE",
        "outputId": "215d647e-9b65-4fed-9a8e-2aa052705b58"
      },
      "execution_count": 80,
      "outputs": [
        {
          "output_type": "stream",
          "name": "stdout",
          "text": [
            "[12, 0.12, 5000, 150, 150, 0.125, 12, 0.12, 5000, 150, 150, 0.125]\n"
          ]
        }
      ]
    },
    {
      "cell_type": "code",
      "source": [
        "list=list*4\n",
        "print(list)"
      ],
      "metadata": {
        "colab": {
          "base_uri": "https://localhost:8080/"
        },
        "id": "4kya6mV-QWui",
        "outputId": "c64f32fc-c91d-449b-bbb7-b04fb43addd3"
      },
      "execution_count": 81,
      "outputs": [
        {
          "output_type": "stream",
          "name": "stdout",
          "text": [
            "[12, 0.12, 5000, 150, 150, 0.125, 12, 0.12, 5000, 150, 150, 0.125, 12, 0.12, 5000, 150, 150, 0.125, 12, 0.12, 5000, 150, 150, 0.125, 12, 0.12, 5000, 150, 150, 0.125, 12, 0.12, 5000, 150, 150, 0.125, 12, 0.12, 5000, 150, 150, 0.125, 12, 0.12, 5000, 150, 150, 0.125]\n"
          ]
        }
      ]
    },
    {
      "cell_type": "code",
      "source": [
        "#Tupel data type\n",
        "x=(12,15,152,0.12,true,'akash')\n",
        "print(x)"
      ],
      "metadata": {
        "colab": {
          "base_uri": "https://localhost:8080/"
        },
        "id": "Ab98ojXSQWxi",
        "outputId": "4ed80f2f-c723-4c6f-ac3f-4c523d40df70"
      },
      "execution_count": 88,
      "outputs": [
        {
          "output_type": "stream",
          "name": "stdout",
          "text": [
            "(12, 15, 152, 0.12, 1, 'akash')\n"
          ]
        }
      ]
    },
    {
      "cell_type": "code",
      "source": [
        "# As compare to tuple with list:\n",
        "x = [2250,130,140,510,610,70,80]\n",
        "type(x)"
      ],
      "metadata": {
        "colab": {
          "base_uri": "https://localhost:8080/"
        },
        "id": "jrB3eaHzTIw9",
        "outputId": "bccd48fd-7add-4392-8d8d-61657629d7a7"
      },
      "execution_count": 94,
      "outputs": [
        {
          "output_type": "execute_result",
          "data": {
            "text/plain": [
              "list"
            ]
          },
          "metadata": {},
          "execution_count": 94
        }
      ]
    },
    {
      "cell_type": "code",
      "source": [
        "#range data type \n",
        "range(0,1000)\n"
      ],
      "metadata": {
        "colab": {
          "base_uri": "https://localhost:8080/"
        },
        "id": "nyVHIZyNTI2R",
        "outputId": "510624cf-0285-4774-ca2c-5094fd78119c"
      },
      "execution_count": 95,
      "outputs": [
        {
          "output_type": "execute_result",
          "data": {
            "text/plain": [
              "range(0, 1000)"
            ]
          },
          "metadata": {},
          "execution_count": 95
        }
      ]
    },
    {
      "cell_type": "code",
      "source": [
        "range(10,50,2)"
      ],
      "metadata": {
        "colab": {
          "base_uri": "https://localhost:8080/"
        },
        "id": "lodauy93TI4a",
        "outputId": "d71372c0-595c-471d-cc6c-7f649b9562b1"
      },
      "execution_count": 105,
      "outputs": [
        {
          "output_type": "execute_result",
          "data": {
            "text/plain": [
              "range(10, 50, 2)"
            ]
          },
          "metadata": {},
          "execution_count": 105
        }
      ]
    },
    {
      "cell_type": "code",
      "source": [
        "for i in range(10,50,2):\n",
        "  print(i)\n",
        " "
      ],
      "metadata": {
        "colab": {
          "base_uri": "https://localhost:8080/"
        },
        "id": "NCauU5TFTI7C",
        "outputId": "efe027b0-443a-4976-8119-2a0bdce07439"
      },
      "execution_count": 106,
      "outputs": [
        {
          "output_type": "stream",
          "name": "stdout",
          "text": [
            "10\n",
            "12\n",
            "14\n",
            "16\n",
            "18\n",
            "20\n",
            "22\n",
            "24\n",
            "26\n",
            "28\n",
            "30\n",
            "32\n",
            "34\n",
            "36\n",
            "38\n",
            "40\n",
            "42\n",
            "44\n",
            "46\n",
            "48\n"
          ]
        }
      ]
    },
    {
      "cell_type": "code",
      "source": [
        ""
      ],
      "metadata": {
        "id": "o94VUWRoTI-d"
      },
      "execution_count": null,
      "outputs": []
    },
    {
      "cell_type": "code",
      "source": [
        ""
      ],
      "metadata": {
        "id": "w_RfYLrQTJBF"
      },
      "execution_count": null,
      "outputs": []
    }
  ],
  "metadata": {
    "colab": {
      "collapsed_sections": [],
      "name": "Welcome To Colaboratory",
      "provenance": [],
      "include_colab_link": true
    },
    "kernelspec": {
      "display_name": "Python 3",
      "name": "python3"
    }
  },
  "nbformat": 4,
  "nbformat_minor": 0
}