{
  "nbformat": 4,
  "nbformat_minor": 0,
  "metadata": {
    "colab": {
      "name": "5_Python_Basics_Strings.ipynb",
      "provenance": [],
      "collapsed_sections": [],
      "authorship_tag": "ABX9TyPHbP6DT9HoJosuckMxYL3s",
      "include_colab_link": true
    },
    "kernelspec": {
      "name": "python3",
      "display_name": "Python 3"
    },
    "language_info": {
      "name": "python"
    }
  },
  "cells": [
    {
      "cell_type": "markdown",
      "metadata": {
        "id": "view-in-github",
        "colab_type": "text"
      },
      "source": [
        "<a href=\"https://colab.research.google.com/github/AkashMuttalwad/python-_Basic-/blob/main/5_Python_Basics_Strings.ipynb\" target=\"_parent\"><img src=\"https://colab.research.google.com/assets/colab-badge.svg\" alt=\"Open In Colab\"/></a>"
      ]
    },
    {
      "cell_type": "markdown",
      "source": [
        "# **String**\n",
        "\n",
        " Any sequence of characters within either single quotes or double quotes is \n",
        "\n",
        "considered as a String.\n",
        "\n",
        "We can define multi-line String literals by using triple single or double quotes.\n",
        "\n",
        "We can also use triple quotes to use single quotes or double quotes as symbol inside String literal\n"
      ],
      "metadata": {
        "id": "5SsfT4xgnCy5"
      }
    },
    {
      "cell_type": "code",
      "source": [
        "s= 'mathmatics'\n",
        "s = \"math\"\n",
        "a = ''' This is a \"mathmatic\" equavation'''"
      ],
      "metadata": {
        "id": "2r5lIWF3ndHX"
      },
      "execution_count": null,
      "outputs": []
    },
    {
      "cell_type": "markdown",
      "source": [
        "# **How to access characters of a string**\n",
        "\n",
        "1 - By using index\n",
        "\n",
        "2 - By using slice operator "
      ],
      "metadata": {
        "id": "e58mCnIYnzGQ"
      }
    },
    {
      "cell_type": "code",
      "source": [
        "# 1. accessing characters by using index\n",
        "s[0]"
      ],
      "metadata": {
        "id": "Ejj0Mtkdndc8",
        "colab": {
          "base_uri": "https://localhost:8080/",
          "height": 183
        },
        "outputId": "949b5189-1af1-466f-be24-e9432abc1695"
      },
      "execution_count": 5,
      "outputs": [
        {
          "output_type": "error",
          "ename": "NameError",
          "evalue": "ignored",
          "traceback": [
            "\u001b[0;31m---------------------------------------------------------------------------\u001b[0m",
            "\u001b[0;31mNameError\u001b[0m                                 Traceback (most recent call last)",
            "\u001b[0;32m<ipython-input-5-4c68943b064d>\u001b[0m in \u001b[0;36m<module>\u001b[0;34m()\u001b[0m\n\u001b[1;32m      1\u001b[0m \u001b[0;31m# 1. accessing characters by using index\u001b[0m\u001b[0;34m\u001b[0m\u001b[0;34m\u001b[0m\u001b[0;34m\u001b[0m\u001b[0m\n\u001b[0;32m----> 2\u001b[0;31m \u001b[0ms\u001b[0m\u001b[0;34m[\u001b[0m\u001b[0;36m0\u001b[0m\u001b[0;34m]\u001b[0m\u001b[0;34m\u001b[0m\u001b[0;34m\u001b[0m\u001b[0m\n\u001b[0m",
            "\u001b[0;31mNameError\u001b[0m: name 's' is not defined"
          ]
        }
      ]
    },
    {
      "cell_type": "code",
      "source": [
        "a[-2]\n",
        "'f'"
      ],
      "metadata": {
        "id": "lFw_LtIBndfh",
        "colab": {
          "base_uri": "https://localhost:8080/",
          "height": 183
        },
        "outputId": "bce817da-e360-4d9a-a716-72662b0773a2"
      },
      "execution_count": 6,
      "outputs": [
        {
          "output_type": "error",
          "ename": "NameError",
          "evalue": "ignored",
          "traceback": [
            "\u001b[0;31m---------------------------------------------------------------------------\u001b[0m",
            "\u001b[0;31mNameError\u001b[0m                                 Traceback (most recent call last)",
            "\u001b[0;32m<ipython-input-6-4b86d71fd0c2>\u001b[0m in \u001b[0;36m<module>\u001b[0;34m()\u001b[0m\n\u001b[0;32m----> 1\u001b[0;31m \u001b[0ma\u001b[0m\u001b[0;34m[\u001b[0m\u001b[0;34m-\u001b[0m\u001b[0;36m2\u001b[0m\u001b[0;34m]\u001b[0m\u001b[0;34m\u001b[0m\u001b[0;34m\u001b[0m\u001b[0m\n\u001b[0m\u001b[1;32m      2\u001b[0m \u001b[0;34m'f'\u001b[0m\u001b[0;34m\u001b[0m\u001b[0;34m\u001b[0m\u001b[0m\n",
            "\u001b[0;31mNameError\u001b[0m: name 'a' is not defined"
          ]
        }
      ]
    },
    {
      "cell_type": "code",
      "source": [
        "# 2. Accessing characters by using slice operator\n",
        "#  Syntax: s[begin index : end index : step]\n",
        "a=\"my name is akash muttalwad!!!\"\n",
        "a[1:5:1]"
      ],
      "metadata": {
        "colab": {
          "base_uri": "https://localhost:8080/",
          "height": 35
        },
        "id": "7mKuIFejndhs",
        "outputId": "e6254c1c-48d2-4954-d7c1-9427544a415a"
      },
      "execution_count": 8,
      "outputs": [
        {
          "output_type": "execute_result",
          "data": {
            "text/plain": [
              "'y na'"
            ],
            "application/vnd.google.colaboratory.intrinsic+json": {
              "type": "string"
            }
          },
          "metadata": {},
          "execution_count": 8
        }
      ]
    },
    {
      "cell_type": "code",
      "source": [
        "a[::] # for full sentance print type [::]"
      ],
      "metadata": {
        "colab": {
          "base_uri": "https://localhost:8080/",
          "height": 35
        },
        "id": "fHdyMJ-kndmY",
        "outputId": "601e6435-11a1-4f48-ecfb-4b5ec9c492a6"
      },
      "execution_count": null,
      "outputs": [
        {
          "output_type": "execute_result",
          "data": {
            "text/plain": [
              "'my name is akash muttalwad!!!'"
            ],
            "application/vnd.google.colaboratory.intrinsic+json": {
              "type": "string"
            }
          },
          "metadata": {},
          "execution_count": 13
        }
      ]
    },
    {
      "cell_type": "code",
      "source": [
        "a[::-5]"
      ],
      "metadata": {
        "colab": {
          "base_uri": "https://localhost:8080/",
          "height": 35
        },
        "id": "p6ihyyvtndpO",
        "outputId": "aa8c48d7-234c-4c63-a0dd-b589ed37cbed"
      },
      "execution_count": null,
      "outputs": [
        {
          "output_type": "execute_result",
          "data": {
            "text/plain": [
              "'!wuain'"
            ],
            "application/vnd.google.colaboratory.intrinsic+json": {
              "type": "string"
            }
          },
          "metadata": {},
          "execution_count": 15
        }
      ]
    },
    {
      "cell_type": "code",
      "source": [
        "# Note: Slice operator never raises IndexError\n",
        "a[100:3:-3]"
      ],
      "metadata": {
        "colab": {
          "base_uri": "https://localhost:8080/",
          "height": 35
        },
        "id": "adGCKkRZndrf",
        "outputId": "fe5881ee-0e93-4c7a-bf75-55a26664e2f1"
      },
      "execution_count": null,
      "outputs": [
        {
          "output_type": "execute_result",
          "data": {
            "text/plain": [
              "'!dlt a  a'"
            ],
            "application/vnd.google.colaboratory.intrinsic+json": {
              "type": "string"
            }
          },
          "metadata": {},
          "execution_count": 16
        }
      ]
    },
    {
      "cell_type": "markdown",
      "source": [
        "# **len() in-built function**"
      ],
      "metadata": {
        "id": "vqBtp5qDrmxF"
      }
    },
    {
      "cell_type": "code",
      "source": [
        "len(a)"
      ],
      "metadata": {
        "colab": {
          "base_uri": "https://localhost:8080/"
        },
        "id": "KjudZl_6ndxJ",
        "outputId": "31111663-4b30-46df-cc35-43c027fc9d5a"
      },
      "execution_count": 11,
      "outputs": [
        {
          "output_type": "execute_result",
          "data": {
            "text/plain": [
              "29"
            ]
          },
          "metadata": {},
          "execution_count": 11
        }
      ]
    },
    {
      "cell_type": "markdown",
      "source": [
        " Program to access each Character of String in Forward and Backward Direction by using while Loop."
      ],
      "metadata": {
        "id": "F0WsyqOIr6eU"
      }
    },
    {
      "cell_type": "code",
      "source": [
        "a=\"my name is akash muttalwad!!\"\n",
        "n=len(a)\n",
        "i=0\n",
        "print(\"Forwarddirection\")\n",
        "while i<n:\n",
        "  print(a[i],end='')\n",
        "  i+=1\n",
        "\n",
        "print(\"Backward direction\")\n",
        "while i>n:\n",
        "  print(a[i],end=\"\")\n",
        "i= -1\n",
        "while i>=-n:\n",
        "  print(a[i],end='')\n",
        "  i = i-1\n",
        "\n",
        "\n"
      ],
      "metadata": {
        "colab": {
          "base_uri": "https://localhost:8080/"
        },
        "id": "HmFgmiUUnd1j",
        "outputId": "c2be1c7d-39a4-4753-a630-e426501f94b1"
      },
      "execution_count": 22,
      "outputs": [
        {
          "output_type": "stream",
          "name": "stdout",
          "text": [
            "Forwarddirection\n",
            "my name is akash muttalwad!!Backward direction\n",
            "!!dawlattum hsaka si eman ym"
          ]
        }
      ]
    },
    {
      "cell_type": "markdown",
      "source": [
        "# **Checking Membership:**\n",
        "\n",
        "We can check whether the character or string is the member of another string or not by using in and not in operators."
      ],
      "metadata": {
        "id": "wlkEwmyouIg-"
      }
    },
    {
      "cell_type": "code",
      "source": [
        "a=\"akash\"\n",
        "\"s\" in a"
      ],
      "metadata": {
        "colab": {
          "base_uri": "https://localhost:8080/"
        },
        "id": "VYfxMvC1nd4W",
        "outputId": "fa0b41ba-a820-4fce-9769-9909670b49d9"
      },
      "execution_count": null,
      "outputs": [
        {
          "output_type": "execute_result",
          "data": {
            "text/plain": [
              "True"
            ]
          },
          "metadata": {},
          "execution_count": 28
        }
      ]
    },
    {
      "cell_type": "code",
      "source": [
        "\"m\" in a"
      ],
      "metadata": {
        "colab": {
          "base_uri": "https://localhost:8080/"
        },
        "id": "qxx6ZK3wnd6c",
        "outputId": "ac4701e5-f5c0-4874-aef4-ffd449cd3430"
      },
      "execution_count": null,
      "outputs": [
        {
          "output_type": "execute_result",
          "data": {
            "text/plain": [
              "False"
            ]
          },
          "metadata": {},
          "execution_count": 29
        }
      ]
    },
    {
      "cell_type": "markdown",
      "source": [
        "# **Comparison of Strings**\n",
        "\n",
        "We can use comparison operators (<, <=, >, >=) and equality operators (==, !=) for strings."
      ],
      "metadata": {
        "id": "VmtRKa4vu_Px"
      }
    },
    {
      "cell_type": "code",
      "source": [
        "a1=(\"enter first string data :\")\n",
        "a2= (\" enter second string data :\")\n",
        "if a1==a2:\n",
        "  print (\" both strings are equal:\")\n",
        "elif a2>a1:\n",
        "  print (\"first string is greatere then second string:\")\n",
        "else:\n",
        " print (\"second string is greater the first string:\")\n",
        "\n"
      ],
      "metadata": {
        "colab": {
          "base_uri": "https://localhost:8080/"
        },
        "id": "Mydzn-gand_3",
        "outputId": "eb065b62-eaa6-47c0-c49a-5abaaa12a4b4"
      },
      "execution_count": null,
      "outputs": [
        {
          "output_type": "stream",
          "name": "stdout",
          "text": [
            "second string is greater the first string:\n"
          ]
        }
      ]
    },
    {
      "cell_type": "markdown",
      "source": [
        "# **Removing Spaces from the String:**\n",
        "\n",
        "1)rstrip()-->To remove spaces at right hand side.\n",
        "\n",
        "2) lstrip()--> To remove spaces at left hand side.\n",
        "\n",
        "3) strip()-->To remove spaces both sides."
      ],
      "metadata": {
        "id": "rRlOgdWxwM1V"
      }
    },
    {
      "cell_type": "code",
      "source": [
        "city=input(\"enter your city name :\")\n",
        "acity=city.strip()\n",
        "if acity == \"nanded\":\n",
        "  print ( \"hello nanded.. abc\")\n",
        "elif acity==\"mumbai\":\n",
        "  print (\" hello bhai logo...hiyy :\")\n",
        "elif acity== \"kolkatta \":\n",
        "  print (\"ami tumake bhalu bacche..... rajendraaa:\")\n",
        "\n",
        "else:\n",
        "  print (\"your enterd city is invalid\")\n",
        "\n"
      ],
      "metadata": {
        "colab": {
          "base_uri": "https://localhost:8080/"
        },
        "id": "mCbmwy6VneEh",
        "outputId": "dc43f5c8-bf0c-4270-d0be-dfa66057b1d9"
      },
      "execution_count": null,
      "outputs": [
        {
          "output_type": "stream",
          "name": "stdout",
          "text": [
            "enter your city name :mumbai\n",
            " hello bhai logo...hiyy :\n"
          ]
        }
      ]
    },
    {
      "cell_type": "code",
      "source": [
        "a.rstrip()"
      ],
      "metadata": {
        "colab": {
          "base_uri": "https://localhost:8080/",
          "height": 35
        },
        "id": "COpk7hf6neJ0",
        "outputId": "e0a433b1-749e-4921-e9aa-dce58768ae43"
      },
      "execution_count": null,
      "outputs": [
        {
          "output_type": "execute_result",
          "data": {
            "text/plain": [
              "' Data'"
            ],
            "application/vnd.google.colaboratory.intrinsic+json": {
              "type": "string"
            }
          },
          "metadata": {},
          "execution_count": 45
        }
      ]
    },
    {
      "cell_type": "markdown",
      "source": [
        "**Finding Substrings:**\n",
        "We can use the following 4 methods\n",
        "\n",
        "For forward direction:\n",
        "\n",
        "1) find()\n",
        "\n",
        "2) index()\n",
        "\n",
        "For backward direction:\n",
        "\n",
        "1) rfind()\n",
        "\n",
        "2) rindex()\n",
        "\n",
        "1) find()"
      ],
      "metadata": {
        "id": "FfyCyb5gzEMX"
      }
    },
    {
      "cell_type": "code",
      "source": [
        "# find(): Returns index of first occurrence of the given substring. If it is not available then we will\n",
        "# get -1.\n",
        "s=\"data\"\n",
        "s.find(\"data\") #0th index"
      ],
      "metadata": {
        "colab": {
          "base_uri": "https://localhost:8080/"
        },
        "id": "zldjPHSJneMe",
        "outputId": "27e11427-7644-43e7-c36a-8347a2f9b32a"
      },
      "execution_count": 24,
      "outputs": [
        {
          "output_type": "execute_result",
          "data": {
            "text/plain": [
              "0"
            ]
          },
          "metadata": {},
          "execution_count": 24
        }
      ]
    },
    {
      "cell_type": "code",
      "source": [
        "#s.find(substring,bEgin,end)\n",
        "s.find(\"a\",5,4)"
      ],
      "metadata": {
        "colab": {
          "base_uri": "https://localhost:8080/"
        },
        "id": "eT6jkDpxnePO",
        "outputId": "e41108dd-d6d1-41cd-9de0-4b8ac5d0f142"
      },
      "execution_count": null,
      "outputs": [
        {
          "output_type": "execute_result",
          "data": {
            "text/plain": [
              "-1"
            ]
          },
          "metadata": {},
          "execution_count": 51
        }
      ]
    },
    {
      "cell_type": "markdown",
      "source": [
        "2)index()\n",
        "\n",
        "index() method is exactly same as find() method except that if the specified substring is not available then we will get ValueError."
      ],
      "metadata": {
        "id": "3Gyfi-fuzuCN"
      }
    },
    {
      "cell_type": "code",
      "source": [
        "# we will get a error if the substring is not available\n",
        "s.index('m')"
      ],
      "metadata": {
        "colab": {
          "base_uri": "https://localhost:8080/",
          "height": 183
        },
        "id": "2vDGXtuuneRj",
        "outputId": "341d9603-7e63-4a14-f3fc-d34bd2d7f7ee"
      },
      "execution_count": null,
      "outputs": [
        {
          "output_type": "error",
          "ename": "ValueError",
          "evalue": "ignored",
          "traceback": [
            "\u001b[0;31m---------------------------------------------------------------------------\u001b[0m",
            "\u001b[0;31mValueError\u001b[0m                                Traceback (most recent call last)",
            "\u001b[0;32m<ipython-input-52-723cdd428aa2>\u001b[0m in \u001b[0;36m<module>\u001b[0;34m()\u001b[0m\n\u001b[1;32m      1\u001b[0m \u001b[0;31m# we will get a error if the substring is not available\u001b[0m\u001b[0;34m\u001b[0m\u001b[0;34m\u001b[0m\u001b[0;34m\u001b[0m\u001b[0m\n\u001b[0;32m----> 2\u001b[0;31m \u001b[0ms\u001b[0m\u001b[0;34m.\u001b[0m\u001b[0mindex\u001b[0m\u001b[0;34m(\u001b[0m\u001b[0;34m'm'\u001b[0m\u001b[0;34m)\u001b[0m\u001b[0;34m\u001b[0m\u001b[0;34m\u001b[0m\u001b[0m\n\u001b[0m",
            "\u001b[0;31mValueError\u001b[0m: substring not found"
          ]
        }
      ]
    },
    {
      "cell_type": "code",
      "source": [
        "s.index(\"a\")"
      ],
      "metadata": {
        "colab": {
          "base_uri": "https://localhost:8080/"
        },
        "id": "zDqHt292neUZ",
        "outputId": "98ec9258-e0f0-4ad4-aef0-7f8895dacea9"
      },
      "execution_count": null,
      "outputs": [
        {
          "output_type": "execute_result",
          "data": {
            "text/plain": [
              "1"
            ]
          },
          "metadata": {},
          "execution_count": 57
        }
      ]
    },
    {
      "cell_type": "markdown",
      "source": [
        " Program to display all Positions of Substring in a given Main String"
      ],
      "metadata": {
        "id": "HFrkRy9f0QxU"
      }
    },
    {
      "cell_type": "code",
      "source": [
        "a=input(\"Entermainstring:\")\n",
        "aubs=input(\"Entersubstring:\")\n",
        "flag=False\n",
        "pos=-1\n",
        "n=len(a)\n",
        "while True:\n",
        "  pos=s.find(aubs,pos+1,n)\n",
        "  if pos==-1:\n",
        "    break\n",
        "  print(\"Found at position\",pos)\n",
        "  flag=True\n",
        "if flag==False:\n",
        "  print(\"Not Found\")"
      ],
      "metadata": {
        "colab": {
          "base_uri": "https://localhost:8080/"
        },
        "id": "cOTcFSp5neZm",
        "outputId": "5191835a-b399-48ea-e2c8-a777f7fe2a6e"
      },
      "execution_count": null,
      "outputs": [
        {
          "output_type": "stream",
          "name": "stdout",
          "text": [
            "Entermainstring:1\n",
            "Entersubstring:2\n",
            "Not Found\n"
          ]
        }
      ]
    },
    {
      "cell_type": "markdown",
      "source": [
        "# **Count substring in the given String:**\n",
        "\n",
        "We can find the number of occurrences of substring present in the given string by using count() method.\n",
        "\n",
        "s.count(substring)-->It will search through out the string.\n",
        "\n",
        "s.count(substring, bEgin, end)-->It will search from bEgin index to end-1 index."
      ],
      "metadata": {
        "id": "Mdkp3GHl1FhE"
      }
    },
    {
      "cell_type": "code",
      "source": [
        "a=\"abcabcabcabcadda\"\n",
        "print(a.count('c'))"
      ],
      "metadata": {
        "colab": {
          "base_uri": "https://localhost:8080/"
        },
        "id": "EIvL3VYmneiQ",
        "outputId": "61d595c9-b132-41de-f459-546de0fbbf12"
      },
      "execution_count": null,
      "outputs": [
        {
          "output_type": "stream",
          "name": "stdout",
          "text": [
            "4\n"
          ]
        }
      ]
    },
    {
      "cell_type": "markdown",
      "source": [
        "**Replacing a String with another String:**\n",
        "s.replace(oldstring, newstring)\n",
        "\n",
        "Inside s, every occurrence of old String will be replaced with new String."
      ],
      "metadata": {
        "id": "BdLD_Kdx1tWJ"
      }
    },
    {
      "cell_type": "code",
      "source": [
        "s=\"Learning Python is very difficult\"\n",
        "s1=s.replace(\"difficult\",\"easy\")\n",
        "print(s1)"
      ],
      "metadata": {
        "colab": {
          "base_uri": "https://localhost:8080/"
        },
        "id": "sVsCJ5-Qneky",
        "outputId": "cbf4b371-5d07-4bf6-92e0-59af689170d7"
      },
      "execution_count": null,
      "outputs": [
        {
          "output_type": "stream",
          "name": "stdout",
          "text": [
            "Learning Python is very easy\n"
          ]
        }
      ]
    },
    {
      "cell_type": "code",
      "source": [
        "a=\"in nagpur temerathure is to high\"\n",
        "a1=a.replace(\"low\",\"high\")\n",
        "print(a1)"
      ],
      "metadata": {
        "colab": {
          "base_uri": "https://localhost:8080/"
        },
        "id": "7GqCt9Ou2yhK",
        "outputId": "60cfa2fb-8765-49a3-a93f-540bfeb2503b"
      },
      "execution_count": 28,
      "outputs": [
        {
          "output_type": "stream",
          "name": "stdout",
          "text": [
            "in nagpur temerathure is to high\n"
          ]
        }
      ]
    },
    {
      "cell_type": "markdown",
      "source": [
        "# Splitting of Strings:\n",
        "\n",
        "We can split the given string according to specified seperator by using split() method.\n",
        "\n",
        "Syntax: l = s.split(seperator)"
      ],
      "metadata": {
        "id": "8_NF3GSw8-P9"
      }
    },
    {
      "cell_type": "code",
      "source": [
        "s=\"22-02-2018\"\n",
        "l=s.split('-')\n",
        "for x in l:\n",
        "  print(x)"
      ],
      "metadata": {
        "colab": {
          "base_uri": "https://localhost:8080/"
        },
        "id": "TgbZ_ea02ykI",
        "outputId": "964a4a43-279f-4e4a-9ed5-8cdc07be7c25"
      },
      "execution_count": null,
      "outputs": [
        {
          "output_type": "stream",
          "name": "stdout",
          "text": [
            "22\n",
            "02\n",
            "2018\n"
          ]
        }
      ]
    },
    {
      "cell_type": "markdown",
      "source": [
        "# **Joining Of Strings:**\n",
        "s = seperator.join(group of strings)\n"
      ],
      "metadata": {
        "id": "bNGSI__v9GXx"
      }
    },
    {
      "cell_type": "code",
      "source": [
        "list1=[\"data\",\"science\",\"ai\"]\n",
        "\"-\".join(list1)"
      ],
      "metadata": {
        "id": "Sw3cRvPZ2ysI",
        "colab": {
          "base_uri": "https://localhost:8080/",
          "height": 35
        },
        "outputId": "54debdaa-1fcb-4d1d-8c38-2e47181160ae"
      },
      "execution_count": 45,
      "outputs": [
        {
          "output_type": "execute_result",
          "data": {
            "text/plain": [
              "'data-science-ai'"
            ],
            "application/vnd.google.colaboratory.intrinsic+json": {
              "type": "string"
            }
          },
          "metadata": {},
          "execution_count": 45
        }
      ]
    },
    {
      "cell_type": "code",
      "source": [
        "list2 = [\"important\", \"work\",\"python\"]\n",
        "\"-\".join(list2)"
      ],
      "metadata": {
        "id": "az_qfi322yul",
        "colab": {
          "base_uri": "https://localhost:8080/",
          "height": 35
        },
        "outputId": "8cb9200f-2a94-4946-ae06-2853b7d5c3f3"
      },
      "execution_count": 47,
      "outputs": [
        {
          "output_type": "execute_result",
          "data": {
            "text/plain": [
              "'important-work-python'"
            ],
            "application/vnd.google.colaboratory.intrinsic+json": {
              "type": "string"
            }
          },
          "metadata": {},
          "execution_count": 47
        }
      ]
    },
    {
      "cell_type": "markdown",
      "source": [
        "# **Changing the case of a string:**\n",
        "Changing the case of a string:\n",
        "upper()-->To convert all characters to upper case.\n",
        "\n",
        "lower()-->To convert all characters to lower case.\n",
        "\n",
        "swapcase() --> Converts all lower case characters to upper case and all upper case characters to lower case\n",
        "\n",
        "title() --> To convert all character to title case. i.e first character in every word should be upper case and all remaining characters should be in lower case.\n",
        "\n",
        "capitalize() --> Only first character will be converted to upper case and all remaining characters can be converted to lower case."
      ],
      "metadata": {
        "id": "Ge1ruwh7-a50"
      }
    },
    {
      "cell_type": "code",
      "source": [
        "s='learning Python is very Easy'\n",
        "print(s.upper())\n",
        "print(s.lower())\n",
        "print(s.swapcase())\n",
        "print(s.title())\n",
        "print(s.capitalize())"
      ],
      "metadata": {
        "id": "mAtRBOOM2yxF",
        "colab": {
          "base_uri": "https://localhost:8080/"
        },
        "outputId": "fd1f9d6a-e83c-4f94-b156-51ff5d766f1a"
      },
      "execution_count": 48,
      "outputs": [
        {
          "output_type": "stream",
          "name": "stdout",
          "text": [
            "LEARNING PYTHON IS VERY EASY\n",
            "learning python is very easy\n",
            "LEARNING pYTHON IS VERY eASY\n",
            "Learning Python Is Very Easy\n",
            "Learning python is very easy\n"
          ]
        }
      ]
    },
    {
      "cell_type": "code",
      "source": [
        "a=\" whwere are you going man\"\n",
        "print(a.upper())\n",
        "print(a.lower())\n",
        "print(a.swapcase())\n",
        "print(a.title())\n",
        "print(a.capitalize())"
      ],
      "metadata": {
        "id": "Boq7jLzG2yzd",
        "colab": {
          "base_uri": "https://localhost:8080/"
        },
        "outputId": "f30e7534-46ab-445b-c1c1-e0bf5b428e7c"
      },
      "execution_count": 51,
      "outputs": [
        {
          "output_type": "stream",
          "name": "stdout",
          "text": [
            " WHWERE ARE YOU GOING MAN\n",
            " whwere are you going man\n",
            " WHWERE ARE YOU GOING MAN\n",
            " Whwere Are You Going Man\n",
            " whwere are you going man\n"
          ]
        }
      ]
    },
    {
      "cell_type": "markdown",
      "source": [
        "# **Checking Starting and Ending Part of the String:**\n",
        "Python contains the following methods for this purpose.\n",
        "\n",
        "s.startswith(substring)\n",
        "\n",
        "s.endswith(substring)"
      ],
      "metadata": {
        "id": "lpoMNqy4_b3I"
      }
    },
    {
      "cell_type": "code",
      "source": [
        "s= \" where are you going man\"\n",
        "print(s.startswith(\"going\"))\n",
        "print(s.startswith(\"are\"))\n",
        "print(s.endswith(\"you\"))"
      ],
      "metadata": {
        "id": "IS0Q2_rO2y3_",
        "colab": {
          "base_uri": "https://localhost:8080/"
        },
        "outputId": "e5c86ae4-ac97-4ed8-b73d-d2a7dc09a2d8"
      },
      "execution_count": 53,
      "outputs": [
        {
          "output_type": "stream",
          "name": "stdout",
          "text": [
            "False\n",
            "False\n",
            "False\n"
          ]
        }
      ]
    },
    {
      "cell_type": "markdown",
      "source": [
        "# **To Check Type of Characters Present in a String:**\n",
        "Python contains the following methods for this purpose.\n",
        "\n",
        "isalnum(): Returns True if all characters are alphanumeric( a to z , A to Z ,0 to9 ).\n",
        "\n",
        "isalpha(): Returns True if all characters are only alphabet symbols(a to z,A to Z)\n",
        "\n",
        "isdigit(): Returns True if all characters are digits only( 0 to 9)\n",
        "\n",
        "islower(): Returns True if all characters are lower case alphabet symbols\n",
        "\n",
        "isupper(): Returns True if all characters are upper case aplhabet symbols\n",
        "\n",
        "istitle(): Returns True if string is in title case\n",
        "\n",
        "isspace(): Returns True if string contains only spaces"
      ],
      "metadata": {
        "id": "Idn48wxcANTz"
      }
    },
    {
      "cell_type": "code",
      "source": [
        "print('Datascience018'.isalnum()) # True"
      ],
      "metadata": {
        "id": "IGEseAiq2y7h",
        "colab": {
          "base_uri": "https://localhost:8080/"
        },
        "outputId": "5b54c737-045a-4c3f-bffa-ae2c0a837214"
      },
      "execution_count": 55,
      "outputs": [
        {
          "output_type": "stream",
          "name": "stdout",
          "text": [
            "True\n"
          ]
        }
      ]
    },
    {
      "cell_type": "code",
      "source": [
        "print(\"Akash\".islower()) # false"
      ],
      "metadata": {
        "id": "7ONO4F_z2y9l",
        "colab": {
          "base_uri": "https://localhost:8080/"
        },
        "outputId": "b203bcaf-bd23-4df3-ade2-5780e1452fea"
      },
      "execution_count": 57,
      "outputs": [
        {
          "output_type": "stream",
          "name": "stdout",
          "text": [
            "False\n"
          ]
        }
      ]
    },
    {
      "cell_type": "markdown",
      "source": [
        "# **Formatting the Strings:**\n",
        "We can format the strings with variable values by using replacement operator {} and format() method."
      ],
      "metadata": {
        "id": "znGdS6dABBK6"
      }
    },
    {
      "cell_type": "code",
      "source": [
        "name='rajesh'\n",
        "salary=10000\n",
        "age=31\n",
        "print(\"{}'s salary is {} and his age is{}\".format(name,salary,age))\n",
        "print(\"{0}'s salary is {1} and his age is {2}\".format(name,salary,age))\n",
        "print(\"{x}'s salary is {y} and his age is {z}\".format(z=age,y=salary,x=name))"
      ],
      "metadata": {
        "id": "9DE1wDSQnenO",
        "colab": {
          "base_uri": "https://localhost:8080/"
        },
        "outputId": "4955eae7-dcb2-4ce7-9a40-ce4d8d79aaf4"
      },
      "execution_count": 58,
      "outputs": [
        {
          "output_type": "stream",
          "name": "stdout",
          "text": [
            "rajesh's salary is 10000 and his age is31\n",
            "rajesh's salary is 10000 and his age is 31\n",
            "rajesh's salary is 10000 and his age is 31\n"
          ]
        }
      ]
    },
    {
      "cell_type": "code",
      "source": [
        "name =\"akash\"\n",
        "salary=50000\n",
        "age=29\n",
        "print(\"{} s salary is {} and his age is {}\" . format(name ,salary,age))\n",
        "\n"
      ],
      "metadata": {
        "id": "avHZuTnPnesp",
        "colab": {
          "base_uri": "https://localhost:8080/"
        },
        "outputId": "5ffe5a31-2d63-406e-8310-9f314699ec8e"
      },
      "execution_count": 69,
      "outputs": [
        {
          "output_type": "stream",
          "name": "stdout",
          "text": [
            "akash s salary is 50000 and his age is 29\n"
          ]
        }
      ]
    },
    {
      "cell_type": "code",
      "source": [
        "#Q1) Write a Program to Reverse the given String"
      ],
      "metadata": {
        "id": "1EWsjY0znevS"
      },
      "execution_count": null,
      "outputs": []
    },
    {
      "cell_type": "code",
      "source": [
        "s=input(\"EnterSomeString:\")\n",
        "print(s[::-1])"
      ],
      "metadata": {
        "id": "7BDn7Jowneyl",
        "colab": {
          "base_uri": "https://localhost:8080/"
        },
        "outputId": "273d6e0d-934a-4cea-abff-a69554b61935"
      },
      "execution_count": 72,
      "outputs": [
        {
          "output_type": "stream",
          "name": "stdout",
          "text": [
            "EnterSomeString:\"akash\".\n",
            ".\"hsaka\"\n"
          ]
        }
      ]
    },
    {
      "cell_type": "code",
      "source": [
        "s= 'akash'\n",
        "''.join(reversed(s))"
      ],
      "metadata": {
        "colab": {
          "base_uri": "https://localhost:8080/",
          "height": 35
        },
        "id": "Ri0pgZDrDsz5",
        "outputId": "264932a8-ae60-4899-b02b-682b7762ae8f"
      },
      "execution_count": 73,
      "outputs": [
        {
          "output_type": "execute_result",
          "data": {
            "text/plain": [
              "'hsaka'"
            ],
            "application/vnd.google.colaboratory.intrinsic+json": {
              "type": "string"
            }
          },
          "metadata": {},
          "execution_count": 73
        }
      ]
    },
    {
      "cell_type": "markdown",
      "source": [
        "Q2) Program to Reverse Order of Words\n",
        "\n",
        "Input: Learning Python is very Easy\n",
        "\n",
        "Output: Easy Very is Python Learning"
      ],
      "metadata": {
        "id": "klVkJyLnD7gk"
      }
    },
    {
      "cell_type": "code",
      "source": [
        "s='Learning Python is very Easy'\n",
        "l=s.split()\n",
        "l1=[]\n",
        "i=len(l)-1\n",
        "while i>=0:\n",
        "  l1.append(l[i])\n",
        "  i=i-1\n",
        "output=' '.join(l1)\n",
        "print(output)"
      ],
      "metadata": {
        "colab": {
          "base_uri": "https://localhost:8080/"
        },
        "id": "BYCdhqy3Ds3B",
        "outputId": "5b5df020-1f33-4b67-e9e9-750c2443c600"
      },
      "execution_count": 74,
      "outputs": [
        {
          "output_type": "stream",
          "name": "stdout",
          "text": [
            "Easy very is Python Learning\n"
          ]
        }
      ]
    },
    {
      "cell_type": "code",
      "source": [
        "x=\"akash muttalwad is good boy\"\n",
        "x= s.split()\n",
        "x1 = []\n",
        "i=len(x)+1\n",
        "while i>=0:\n",
        "  i=i-1\n",
        "  output= ' '. join (x1)\n",
        "  print(output)"
      ],
      "metadata": {
        "colab": {
          "base_uri": "https://localhost:8080/"
        },
        "id": "90h3EkvPDs69",
        "outputId": "02c745d7-bdba-4c91-eb6c-708218817aec"
      },
      "execution_count": 81,
      "outputs": [
        {
          "output_type": "stream",
          "name": "stdout",
          "text": [
            "\n",
            "\n",
            "\n",
            "\n",
            "\n",
            "\n",
            "\n"
          ]
        }
      ]
    },
    {
      "cell_type": "markdown",
      "source": [
        "Q3) Write a Program to Remove Duplicate Characters from the given Input String?\n",
        "\n",
        "Input: ABCDABBCDABBBCCCDDEEEF\n",
        "\n",
        "Output: ABCDEF"
      ],
      "metadata": {
        "id": "1QpfSkkFE7v7"
      }
    },
    {
      "cell_type": "code",
      "source": [
        "s=input(\"EnterSomeString:\")\n",
        "l=[]\n",
        "for x in s:\n",
        "  if x not in l:\n",
        "     l.append(x)\n",
        "output=''.join(l)\n",
        "print(output)"
      ],
      "metadata": {
        "colab": {
          "base_uri": "https://localhost:8080/"
        },
        "id": "LLcPTELQDtAb",
        "outputId": "de46cc45-c61d-4adc-a0f3-ad206dd8d1fb"
      },
      "execution_count": 83,
      "outputs": [
        {
          "output_type": "stream",
          "name": "stdout",
          "text": [
            "EnterSomeString:aaaabbbbbcc dddddrr fvbafdgjahv huguguhbila  yfgi7u.\n",
            "abc drfvgjhuily7.\n"
          ]
        }
      ]
    },
    {
      "cell_type": "markdown",
      "source": [
        "Q4) Write a Program to find the Number of Occurrences of each Character present in the given String?\n",
        "\n",
        "Input: ABCABCABBCDE\n",
        "\n",
        "Output: A-3,B-4,C-3,D-1,E-1"
      ],
      "metadata": {
        "id": "tsnrGQz_FSJr"
      }
    },
    {
      "cell_type": "code",
      "source": [
        "s=input(\"Enter Some String:\")\n",
        "d={}\n",
        "for x in s:\n",
        "  if x in d.keys():\n",
        "     d[x]=d[x]+1\n",
        "  else:\n",
        "     d[x]=1\n",
        "for k,v in d.items():\n",
        "   print(\"{} = {} Times\".format(k,v))"
      ],
      "metadata": {
        "colab": {
          "base_uri": "https://localhost:8080/"
        },
        "id": "BYL6-BtiFA4g",
        "outputId": "2e08145c-f453-4307-af7c-72455a9558cb"
      },
      "execution_count": 84,
      "outputs": [
        {
          "output_type": "stream",
          "name": "stdout",
          "text": [
            "Enter Some String:\"aksh gdmdbfub \"\n",
            "\" = 2 Times\n",
            "a = 1 Times\n",
            "k = 1 Times\n",
            "s = 1 Times\n",
            "h = 1 Times\n",
            "  = 2 Times\n",
            "g = 1 Times\n",
            "d = 2 Times\n",
            "m = 1 Times\n",
            "b = 2 Times\n",
            "f = 1 Times\n",
            "u = 1 Times\n"
          ]
        }
      ]
    },
    {
      "cell_type": "code",
      "source": [
        "s=\"aaasssddd\"\n",
        "d={}\n",
        "for x in s:\n",
        "  if x in d.keys():\n",
        "     d[x]=d[x]+1\n",
        "  else:\n",
        "     d[x]=1"
      ],
      "metadata": {
        "id": "a489r7uWFA-O"
      },
      "execution_count": 85,
      "outputs": []
    },
    {
      "cell_type": "code",
      "source": [
        ""
      ],
      "metadata": {
        "id": "Cxg9Ovc6FBBf"
      },
      "execution_count": null,
      "outputs": []
    },
    {
      "cell_type": "code",
      "source": [
        ""
      ],
      "metadata": {
        "id": "MqpWyDuCFBDk"
      },
      "execution_count": null,
      "outputs": []
    },
    {
      "cell_type": "code",
      "source": [
        ""
      ],
      "metadata": {
        "id": "1JGZD44vFBHn"
      },
      "execution_count": null,
      "outputs": []
    }
  ]
}